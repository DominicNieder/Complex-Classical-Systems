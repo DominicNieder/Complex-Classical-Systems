{
 "cells": [
  {
   "cell_type": "markdown",
   "metadata": {},
   "source": [
    "# Sheet 03\n",
    "This is the implementation of Sheet 02 of Awais Ahmed and Dominic Nieder."
   ]
  },
  {
   "cell_type": "code",
   "execution_count": 339,
   "metadata": {},
   "outputs": [],
   "source": [
    "from numpy.typing import NDArray  # trying to be typesafe\n",
    "import numpy as np  # needed all over the place\n",
    "from IPython.display import HTML # in line animations\n",
    "\n",
    "import os   # file and file path\n",
    "\n",
    "import matplotlib.pyplot as plt  # for plots\n",
    "\n",
    "from matplotlib import colors  # not quite sure what fore\n",
    "from matplotlib.ticker import PercentFormatter  # also not sure, maybe animation..?\n",
    "from matplotlib.animation import FuncAnimation, FFMpegWriter  # for animations"
   ]
  },
  {
   "cell_type": "markdown",
   "metadata": {},
   "source": [
    "### Particle\n",
    "* creating \"Particle\" class, containing all the information of all particle positions, velocities, mass and accellerations as well as interaction potential (all the object of class \"Particle\" shall interact by a Lennard-Jones Potential)"
   ]
  },
  {
   "cell_type": "code",
   "execution_count": 340,
   "metadata": {},
   "outputs": [],
   "source": [
    "class Particle:\n",
    "    def __init__(\n",
    "        self,\n",
    "        n: int,\n",
    "        m: float | int,\n",
    "        x: NDArray[np.float64],\n",
    "        y: NDArray[np.float64],\n",
    "        vx: NDArray[np.float64],\n",
    "        vy: NDArray[np.float64],\n",
    "    ):\n",
    "        \"\"\"\n",
    "        Issue: No need to seperate x, y axis -> update all functions to take array([[x],[y]])\n",
    "        \"\"\"\n",
    "        self.n: int = n\n",
    "        self.m: float = float(m)\n",
    "\n",
    "        self.x: NDArray[np.float64]= np.array(x, dtype=np.float64)\n",
    "        self.y: NDArray[np.float64]= np.array(y, dtype=np.float64)\n",
    "\n",
    "        self.vx: NDArray[np.float64]= np.array(vx, dtype=np.float64)\n",
    "        self.vy: NDArray[np.float64]= np.array(vy, dtype=np.float64)\n",
    "\n",
    "        self.ax1: NDArray[np.float64]= np.zeros(n, dtype=np.float64)\n",
    "        self.ay1: NDArray[np.float64]= np.zeros(n, dtype=np.float64)\n",
    "        self.ax2: NDArray[np.float64]= np.zeros(n, dtype=np.float64)\n",
    "        self.ay2: NDArray[np.float64]= np.zeros(n, dtype=np.float64)\n",
    "        \n",
    "    def __repr__(self):\n",
    "        return f\"This is a particle at {self.x[0]}, {self.y[0]} with v={self.vx[0]},{self.vy[0]} interacting by Lennard-Jones potential.\""
   ]
  },
  {
   "cell_type": "markdown",
   "metadata": {},
   "source": [
    "### Initialisation of particles \n",
    "* saving any given data - e.g. position arguments"
   ]
  },
  {
   "cell_type": "code",
   "execution_count": 341,
   "metadata": {},
   "outputs": [],
   "source": [
    "def save_array_to_file(\n",
    "        txt_file_path: str,\n",
    "        data_array: NDArray[np.float64]\n",
    ") -> None:\n",
    "    np.savetxt(txt_file_path,data_array, delimiter=' ')\n",
    "    pass"
   ]
  },
  {
   "cell_type": "markdown",
   "metadata": {},
   "source": [
    "* retrieving saved data, e.g. position arguments"
   ]
  },
  {
   "cell_type": "code",
   "execution_count": 342,
   "metadata": {},
   "outputs": [],
   "source": [
    "def load_array_from_file(\n",
    "        txt_file_path: str\n",
    ") -> NDArray[np.float64]:\n",
    "    \"\"\"\n",
    "    This function loads data from a file in txt_file_path. \\n\n",
    "    E.g. initial positions.\n",
    "    \"\"\"\n",
    "    return np.loadtxt(txt_file_path,delimiter=' ')"
   ]
  },
  {
   "cell_type": "markdown",
   "metadata": {},
   "source": [
    "* initiate particle positions on a grid"
   ]
  },
  {
   "cell_type": "code",
   "execution_count": 343,
   "metadata": {},
   "outputs": [],
   "source": [
    "def initiate_positions_on_grid(\n",
    "        n_particles: int,\n",
    "        box: tuple[float|int, float|int]\n",
    ") -> NDArray[np.float64]:\n",
    "    \"\"\"\n",
    "    Returns n positions(x,y) that that are equally spaced on a grid, inside the box.\n",
    "    \"\"\"\n",
    "    grid_sections = int(np.ceil(np.sqrt(n_particles)))  # find the number of colums & rows\n",
    "    \n",
    "    # even spacing\n",
    "    x_spacing = box[0]/grid_sections \n",
    "    y_spacing = box[1]/grid_sections\n",
    "    # makes grid coordinates\n",
    "    x_positions, y_positions = np.meshgrid(\n",
    "        np.arange(grid_sections) * x_spacing, \n",
    "        np.arange(grid_sections) * y_spacing\n",
    "    )\n",
    "    return np.array([x_positions.flatten()[:n_particles], y_positions.flatten()[:n_particles]])"
   ]
  },
  {
   "cell_type": "markdown",
   "metadata": {},
   "source": [
    "* a seperate function to initiate velocities"
   ]
  },
  {
   "cell_type": "code",
   "execution_count": 344,
   "metadata": {},
   "outputs": [],
   "source": [
    "def initiate_velocities(\n",
    "        n_particles: int,\n",
    "        velocity: float\n",
    ") -> NDArray[np.float64]:\n",
    "    return  velocity * (np.random.rand(2,n_particles) - 0.5)"
   ]
  },
  {
   "cell_type": "markdown",
   "metadata": {},
   "source": [
    "* initialisation on a grid with radom velocity:\n"
   ]
  },
  {
   "cell_type": "code",
   "execution_count": 345,
   "metadata": {},
   "outputs": [],
   "source": [
    "def initialize_particles_on_grid(\n",
    "    n_particles: int, \n",
    "    box: tuple[float|int, float|int], \n",
    "    mass: float, \n",
    "    velocity: float,\n",
    "    add_jitter: float= 0.0,\n",
    "    data_file_location: str= \"position_data.txt\",\n",
    "    load_positions: bool= False,\n",
    ") -> Particle:\n",
    "    \"\"\"\n",
    "    Particles a regular grid within a given spacing.\\n\n",
    "    Random velocity directions. \\n\n",
    "    Returns: Particle with initialized positions and velocities. \n",
    "    \"\"\"\n",
    "    positions=np.zeros( (2,n_particles) )\n",
    "    if load_positions and os.path.isfile(data_file_location):  # load positions -> access save file\n",
    "        print(\"loading positions from \"+data_file_location+\"!\") \n",
    "        positions+= load_array_from_file(\n",
    "            data_file_location\n",
    "            )\n",
    "        \n",
    "    else:  # do not load positions -> generate positions\n",
    "        print(\"Initialiszing new positions\")\n",
    "        positions+= initiate_positions_on_grid(\n",
    "            n_particles= n_particles,\n",
    "            box= box\n",
    "            )\n",
    "\n",
    "        # adds jitter to the initial position, if jitter is 0.0 then there is no jitter\n",
    "        positions+= (np.random.rand(2,n_particles)-0.5)* add_jitter\n",
    "\n",
    "        # save positions -> reusability\n",
    "        save_array_to_file(\n",
    "            txt_file_path= data_file_location,\n",
    "            data_array= positions\n",
    "            )\n",
    "        \n",
    "    # Initialize velocities \n",
    "    v = initiate_velocities(n_particles=n_particles,velocity=velocity) \n",
    "    # Create and return a Particle\n",
    "    return Particle(\n",
    "        n=n_particles,\n",
    "        m=mass,\n",
    "        x=positions[0,:],\n",
    "        y=positions[1,:],\n",
    "        vx=v[0,:],\n",
    "        vy=v[1,:]\n",
    "    )"
   ]
  },
  {
   "cell_type": "markdown",
   "metadata": {},
   "source": [
    "### Forces and Potentials\n",
    "Lennard-Jones Potential and Force"
   ]
  },
  {
   "cell_type": "code",
   "execution_count": 346,
   "metadata": {},
   "outputs": [],
   "source": [
    "def lJ_potentil(\n",
    "        d12: float|NDArray[np.float64]\n",
    ") -> float|NDArray[np.float64]:\n",
    "    \"\"\"\n",
    "    Lennard Jones Potential\n",
    "    \"\"\"\n",
    "    c_12 = 9.847044*10**(-3)  #  J/mol\n",
    "    c_6 = 6.2647225           #  J/mol\n",
    "    return c_12/d12**12-c_6/d12**6\n",
    "\n",
    "def lj_force(\n",
    "        d12: float|int,\n",
    "        r12: NDArray[np.float64]\n",
    ") -> NDArray[np.float64]:\n",
    "    \"\"\"\n",
    "    Force by Lennard Jones interaction potential.\\n\n",
    "    d12 is the distance (scalar value).\\n\n",
    "    r12 is the relative coordinate (vecotr).\\n\n",
    "    Issue: -> invariant parameters c_12 and c_6; \n",
    "        -> include \"if condition\" for large forces\n",
    "    \"\"\"\n",
    "    c_12 = 9.847044*10**(-3)  # J/mol\n",
    "    c_6 = 6.2647225           # J/mol\n",
    "    return (12*c_12/d12**13-6*c_6/d12**7) * r12/d12    "
   ]
  },
  {
   "cell_type": "markdown",
   "metadata": {},
   "source": [
    "### Nearest Neighbour search\n",
    "* the following functions allow for an appropriat nearest neighbour search"
   ]
  },
  {
   "cell_type": "code",
   "execution_count": 347,
   "metadata": {},
   "outputs": [],
   "source": [
    "def system_shift(\n",
    "        x: float,\n",
    "        box: float\n",
    ") -> NDArray[np.float64]:\n",
    "    \"\"\"\n",
    "    Calculating shift of one coordinate: S->S' of which p'=box/2.as_integer_ratio\n",
    "    Issue: use numpy\n",
    "    \"\"\"\n",
    "    return x-box/2\n",
    "\n",
    "\n",
    "def rel_coordiante(\n",
    "        r1: float,\n",
    "        r2: float,\n",
    "        box: float|int\n",
    ") -> NDArray[np.float64]:  \n",
    "    \"\"\" \n",
    "    Returns list(aroows):(r1->list(r2))(x|y), for vectorcomponent x or y.\n",
    "    \"\"\"\n",
    "    return (r2-system_shift(r1,box))%box - box/2\n",
    "    \n",
    "\n",
    "def distance(\n",
    "        x: float,\n",
    "        y: float\n",
    ") -> float:\n",
    "    \"\"\"\n",
    "    Takes relative ccordinates. \\n\n",
    "    Returns distance between two particles. \\n\\n\n",
    "    I somehow have to deal with the possibility of dividing by Zero. My idea is to set distance very large, so that the collision get \"ignored\".\n",
    "    Issue: if condition not needed here -> if condition in force calculation\n",
    "    \"\"\"\n",
    "    d=np.sqrt(np.square(x)+np.square(y))\n",
    "    if d!=0:\n",
    "        return d \n",
    "    else:\n",
    "        return 100000000"
   ]
  },
  {
   "cell_type": "markdown",
   "metadata": {},
   "source": [
    "### Velocity Verlet\n",
    "The next functions are all concerned about the integrations and getting all the accelerations by using the Lennard Jones foce field, that was implemented above.\n",
    "\n",
    "* integrating over positions"
   ]
  },
  {
   "cell_type": "code",
   "execution_count": 348,
   "metadata": {},
   "outputs": [],
   "source": [
    "### position update\n",
    "def integrate_position(\n",
    "        particles: Particle,\n",
    "        dt: float|int,\n",
    "        box: tuple[float|int, float|int]\n",
    ") -> None:\n",
    "    \"\"\"\n",
    "    Velocity Verlet: Updates positions of particles.\n",
    "    \"\"\"\n",
    "    particles.x+= particles.vx*dt+particles.ax1*dt*dt/2 \n",
    "    particles.y+= particles.vy*dt+particles.ay1*dt*dt/2\n",
    "    particles.x = particles.x%box[0]\n",
    "    particles.y = particles.y%box[1]\n",
    "    pass"
   ]
  },
  {
   "cell_type": "markdown",
   "metadata": {},
   "source": [
    "* integrating over velocity"
   ]
  },
  {
   "cell_type": "code",
   "execution_count": 349,
   "metadata": {},
   "outputs": [],
   "source": [
    "### updates velocity vectors\n",
    "def integrate_velocity(\n",
    "    particles: Particle,\n",
    "    dt: float|int\n",
    ") -> None:\n",
    "    \"\"\"\n",
    "    Velocity Verlet: velocity integration.\\n\n",
    "    Updates velocities of particles.\n",
    "    \"\"\"\n",
    "    particles.vx+=1/2 * (particles.ax1+particles.ax2)*dt\n",
    "    particles.vy+=1/2 * (particles.ay1+particles.ay2)*dt\n",
    "    pass"
   ]
  },
  {
   "cell_type": "markdown",
   "metadata": {},
   "source": [
    "* updating the acceleration"
   ]
  },
  {
   "cell_type": "code",
   "execution_count": 350,
   "metadata": {},
   "outputs": [],
   "source": [
    "### This funciton sets all the accelerations to zero\n",
    "def reset_acceleration(\n",
    "        particles: Particle\n",
    ") -> None:\n",
    "    \"\"\"\n",
    "    Sets particles.ax2 & particles.ay2 to zeros\n",
    "    \"\"\"\n",
    "    particles.ax2=np.zeros(particles.n, np.float64)\n",
    "    particles.ay2=np.zeros(particles.n, np.float64)\n",
    "    pass\n",
    "\n",
    "### Jitter on the acceleration c.f. to brownian motion\n",
    "def jitter_acceleration(\n",
    "        particles: Particle\n",
    ") -> None:\n",
    "    \"\"\"\n",
    "    Sets particles.ax2 & particles.ay2 to a small random number \n",
    "    \"\"\"\n",
    "    particles.ax2=np.random.rand(particles.n)*np.sqrt(0.0002)\n",
    "    particles.ay2=np.random.rand(particles.n)*np.sqrt(0.0002)\n",
    "    pass\n",
    "\n",
    "\n",
    "### updates acceleration for x+dt additavly, so that the superposition of the force fields get respected\n",
    "def update_accelerations(\n",
    "        particles: Particle,\n",
    "        box: tuple[float|int,float|int],    \n",
    ") -> None:\n",
    "    \"\"\"\n",
    "    Updates particle.ax2 & particle.ay2 from the particle class.\\n\n",
    "    Issues: creating force variable and relative positions x & y on the fly.\n",
    "    Solve: -> calculate rel. distances when calculating forces\n",
    "    \"\"\"\n",
    "    reset_acceleration(particles)\n",
    "    for i in range(particles.n):\n",
    "        # relative coordinates i\n",
    "        x_rel=rel_coordiante(particles.x[i], particles.x[i+1:particles.n],box[0])  # I don't like to create list on the fly... -> add as field in the class \"Particle\" or implement functionally?\n",
    "        y_rel=rel_coordiante(particles.y[i], particles.y[i+1:particles.n],box[1])\n",
    "\n",
    "        for j in range(i+1,particles.n):\n",
    "            # calculating the acceleration j->i! \n",
    "            acceleration = 1/particles.m * lj_force(\n",
    "                distance(x_rel[j-(i+1)],y_rel[j-(i+1)]),\n",
    "                np.array([x_rel[j-(i+1)],y_rel[j-(i+1)]])\n",
    "                )  # still dont like creating variables on the fly... -> creat force field in class \"Particles\"...?\n",
    "            particles.ax2[i] += acceleration[0]  \n",
    "            particles.ay2[i] += acceleration[1]\n",
    "            particles.ax2[j] -= acceleration[0] \n",
    "            particles.ay2[j] -= acceleration[1]\n",
    "    pass\n",
    "\n",
    "def new_update_acceleration(\n",
    "        particles: Particle,\n",
    "        box,\n",
    ")->None:\n",
    "    reset_acceleration(particles=particles)\n",
    "    for i in range(particles.n):\n",
    "        for j in range(i+1,particles.n):\n",
    "            # acceleration i->j\n",
    "            acceleration_ij= 1/particles.m * lj_force(\n",
    "                distance(\n",
    "                    particles.x[i]-particles.x[j],particles.y[i]-particles.y[j]\n",
    "                    ),\n",
    "                np.array([\n",
    "                    rel_coordiante(\n",
    "                        particles.x[i],particles.x[j]\n",
    "                        ),\n",
    "                        rel_coordiante(\n",
    "                            particles.y[i],particles.y[j]\n",
    "                        )\n",
    "                    ])\n",
    "            )\n",
    "            particles.ax2[i]+= acceleration_ij[0]\n",
    "            particles.ay2[i]+= acceleration_ij[1]\n",
    "            particles.ax2[j]-= acceleration_ij[0]\n",
    "            particles.ay2[j]-= acceleration_ij[1]\n",
    "    pass"
   ]
  },
  {
   "cell_type": "markdown",
   "metadata": {},
   "source": [
    "### Simulation and main loops\n",
    "* This function contains the integration funcitons, updates forces "
   ]
  },
  {
   "cell_type": "code",
   "execution_count": 351,
   "metadata": {},
   "outputs": [],
   "source": [
    "def iterate(\n",
    "        dt: float|int,\n",
    "        particles: Particle,\n",
    "        box: tuple[float|int,float|int]\n",
    "    ) -> None:\n",
    "    \"\"\"\n",
    "    Updates positions and velocities. \\n\n",
    "    Accelerations for 1. iteration need to be obtained prior. \n",
    "    \"\"\"\n",
    "    particles.ax1=particles.ax2  # prior a(t+dt) -> a(t)\n",
    "    particles.ay1=particles.ay2\n",
    "    integrate_position(particles,dt,box)\n",
    "    update_accelerations(particles,box)\n",
    "    integrate_velocity(particles,dt)\n",
    "pass"
   ]
  },
  {
   "cell_type": "markdown",
   "metadata": {},
   "source": [
    "Next the 'main' simulation function is implemented. This iterates over all timesteps and saves the data of interest (phase space)."
   ]
  },
  {
   "cell_type": "code",
   "execution_count": 352,
   "metadata": {},
   "outputs": [],
   "source": [
    "def simulate(\n",
    "        particles: Particle, \n",
    "        time: int,\n",
    "        dt: float|int, \n",
    "        box: tuple[float|int,float|int],\n",
    "        data: NDArray[np.float64]\n",
    ") -> NDArray[np.float64]:\n",
    "    \"\"\"\n",
    "    Runs a simulation of n-particles in a box and saves phase-space coordinates to data.\\n\n",
    "    Returns data.\n",
    "    \"\"\"\n",
    "    update_accelerations(particles,box)  # initial calculation for accelerations\n",
    "    for t in range(time):  # iteration over all timestepps\n",
    "        iterate(dt,particles,box)\n",
    "\n",
    "        ### save data of interest\n",
    "        data[t,0,:]=particles.x\n",
    "        data[t,1,:]=particles.y\n",
    "        data[t,2,:]=particles.vx\n",
    "        data[t,3,:]=particles.vy\n",
    "    return data"
   ]
  },
  {
   "cell_type": "markdown",
   "metadata": {},
   "source": [
    "### Steepest decent algorithm"
   ]
  },
  {
   "cell_type": "markdown",
   "metadata": {},
   "source": [
    "* function to calculate the potential Energy"
   ]
  },
  {
   "cell_type": "code",
   "execution_count": 353,
   "metadata": {},
   "outputs": [],
   "source": [
    "def potential_Energy(\n",
    "    position_x_data: NDArray[np.float64],\n",
    "    position_y_data: NDArray[np.float64],\n",
    "    box: tuple[float|int,float|int]\n",
    ") -> float:\n",
    "    \"\"\"\n",
    "    Takes posiiton arguments x, y for a **time T** and a box as input. \\n\n",
    "    Returns Total potential Energy as a function of time.\n",
    "    \"\"\"\n",
    "    e=0.0\n",
    "    # iteration of particle pairs\n",
    "    for i in range(len(position_x_data[:])):\n",
    "        dx= rel_coordiante(position_x_data[i],position_x_data[i+1:len(position_x_data)],box[0])\n",
    "        dy= rel_coordiante(position_y_data[i],position_y_data[i+1:len(position_y_data)],box[1])\n",
    "        e+= np.sum(np.array(list(map(\n",
    "                lJ_potentil,\n",
    "                np.array(list(map(distance,dx,dy)))\n",
    "                )))\n",
    "            )\n",
    "    return e"
   ]
  },
  {
   "cell_type": "markdown",
   "metadata": {},
   "source": [
    "* this is the brute force was of steepest decent:\n",
    "1st move particle in direction of force   "
   ]
  },
  {
   "cell_type": "code",
   "execution_count": 354,
   "metadata": {},
   "outputs": [],
   "source": [
    "def normalize_acceleration(\n",
    "        particles: Particle\n",
    ") -> None:\n",
    "    \"\"\"\n",
    "    This function takes particles with an updated acceleration ax2, ay2 and normalizes the acceleration vecotrs.\n",
    "    \"\"\"\n",
    "    particles.ax2, particles.ay2= np.array(\n",
    "        [particles.ax2, particles.ay2]\n",
    "        )/np.sqrt(np.square(particles.ax2)+np.square(particles.ay2)\n",
    "        )\n",
    "    pass\n",
    "\n",
    "def re_scale_acceleration(\n",
    "        particles: Particle,\n",
    "        scaling_factor: float\n",
    ") -> None:\n",
    "    \"\"\"\n",
    "    The acceleration-vector size will normed to the stepsize \"scaling_factor\". \\n\n",
    "    The pariticle accelerations will be updated directly.\n",
    "    \"\"\"\n",
    "    normalize_acceleration(particles=particles)\n",
    "    print(\"normalize acc:\\n\",np.sqrt(particles.ax2[0]**2+particles.ay2[1]**2))\n",
    "    particles.ax2, particles.ay2= np.array([particles.ax2, particles.ay2])*scaling_factor\n",
    "    print(\"rescaling acc:\\n\",np.sqrt(particles.ax2[0]**2+particles.ay2[1]**2))\n",
    "    pass\n",
    "\n",
    "def steepest_decent(\n",
    "        particles: Particle,\n",
    "        box: tuple[float|int, float|int],\n",
    "        step_size: float\n",
    ") -> NDArray[np.float64]:\n",
    "    \"\"\"\n",
    "    Takes (randomly initiated) partilces and finds (local) minimum with precission of minimum precision. \\n\n",
    "    The velocities should be zero and reinitialised after the minimization.\n",
    "    \"\"\"\n",
    "\n",
    "    # data arrays for debugging\n",
    "    posx_data= np.array([particles.x])\n",
    "    posy_data= np.array([particles.y])\n",
    "    print(posx_data)\n",
    "    energy_data= np.array([potential_Energy(\n",
    "            position_x_data= particles.x,\n",
    "            position_y_data= particles.y,\n",
    "            box= box\n",
    "        )])\n",
    "    # determine direction\n",
    "    update_accelerations(particles=particles, box=box)\n",
    "    re_scale_acceleration(particles=particles, scaling_factor=step_size)\n",
    "    \n",
    "    # update positions\n",
    "    particles.x= (particles.x+particles.ax2)%box[0]\n",
    "    particles.y= (particles.y+particles.ay2)%box[1]\n",
    "\n",
    "    energy_data= np.append(energy_data, [potential_Energy(\n",
    "            position_x_data= particles.x,\n",
    "            position_y_data= particles.y,\n",
    "            box= box\n",
    "        )])\n",
    "    posx_data=np.append(posx_data, [particles.x], axis=0)\n",
    "    posy_data=np.append(posy_data, [particles.y], axis=0)\n",
    "\n",
    "    while energy_data[-1] <= energy_data[-2]:\n",
    "        #print(\"while loop\\ne_pot_new=\",e_pot_new)\n",
    "        #print(\"e_pot_old=\", e_pot_old)\n",
    "        update_accelerations(particles=particles, box=box)\n",
    "        re_scale_acceleration(particles=particles, scaling_factor=step_size)\n",
    "        #print(\"force direction:\\n\", particles.ax2, particles.ay2)\n",
    "\n",
    "        # update positions\n",
    "        particles.x= (particles.x+particles.ax2)%box[0]\n",
    "        particles.y= (particles.y+particles.ax2)%box[1]\n",
    "        #print(\"epot_next\",e_pot_new)\n",
    "        energy_data= np.append(energy_data,potential_Energy(\n",
    "                position_x_data= particles.x,\n",
    "                position_y_data= particles.y,\n",
    "                box= box\n",
    "            ))\n",
    "        posx_data= np.append(posx_data, [particles.x], axis=0)\n",
    "        posy_data= np.append(posy_data, [particles.y], axis=0)\n",
    "    particles.x = (particles.x-particles.ax2)%box[0]\n",
    "    particles.y = (particles.y-particles.ax2)%box[1]\n",
    "    posx_data= np.append(posx_data, [particles.x], axis=0)\n",
    "    posy_data= np.append(posy_data, [particles.y], axis=0)\n",
    "    energy_data= np.append(energy_data,potential_Energy(\n",
    "                position_x_data= particles.x,\n",
    "                position_y_data= particles.y,\n",
    "                box= box\n",
    "            ))\n",
    "\n",
    "    return energy_data, posx_data, posy_data"
   ]
  },
  {
   "cell_type": "markdown",
   "metadata": {},
   "source": [
    "### Analysis\n",
    "Here functions that analyse the data will be implemented. Animation, Potential and Kinetic Energies. \n",
    "* First of funcitons for animation"
   ]
  },
  {
   "cell_type": "code",
   "execution_count": 355,
   "metadata": {},
   "outputs": [],
   "source": [
    "def animate(\n",
    "        frame,\n",
    "        x_data: NDArray[np.float64],\n",
    "        y_data: NDArray[np.float64], \n",
    "        scat\n",
    "):\n",
    "    \"\"\"\n",
    "    Takes x and y data [time, particle]; init funciton for \"creat_animation\"\n",
    "    \"\"\"\n",
    "    positions = np.c_[x_data[frame, :], y_data[frame,:]]\n",
    "    scat.set_offsets(positions)\n",
    "    return scat,\n",
    "\n",
    "def animation_plot(\n",
    "    p_radius: float|int,\n",
    "    box: tuple[float|int]\n",
    "):\n",
    "    \"\"\"\n",
    "    takes box size and particle radius. Initation for \"creat_animation\"\n",
    "    \"\"\"\n",
    "    fig, ax = plt.subplots()\n",
    "    scat = ax.scatter([], [], s=p_radius)  # Scale size for visibility\n",
    "    ax.set_xlim(box[0])\n",
    "    ax.set_ylim(box[1])\n",
    "    ax.set_title(\"Simulation Visualization\")\n",
    "    ax.set_xlabel(\"X [nm]\")\n",
    "    ax.set_ylabel(\"Y [nm]\")\n",
    "    return scat, fig, ax\n",
    "\n",
    "def creat_animation(\n",
    "        save_animation: bool,\n",
    "        animation_name: str,\n",
    "        animation_box: tuple[int,int],\n",
    "        x_data: NDArray[np.float64],\n",
    "        y_data: NDArray[np.float64]\n",
    ") -> FuncAnimation: \n",
    "    \"\"\"\n",
    "    x- and y_data has the form of [time, paritcle]. \\n\n",
    "    Saves the animation if save_animation = True.\n",
    "    \"\"\"\n",
    "    scat, fig, ax = animation_plot(10, animation_box)\n",
    "    anim = FuncAnimation(fig, animate, frames=len(x_data[:,0]), fargs=(x_data, y_data, scat), interval=20, blit=True)\n",
    "    writer = FFMpegWriter(fps=10, metadata=dict(artist='Dominic Nieder'), bitrate=1800)\n",
    "    if save_animation:\n",
    "        anim.save(animation_name+\".mp4\")\n",
    "    return anim"
   ]
  },
  {
   "cell_type": "markdown",
   "metadata": {},
   "source": [
    "* Analysis of the kinetic Energy: $E=\\frac{1}{2} \\Sigma_i m_i |v_i|^2$ "
   ]
  },
  {
   "cell_type": "code",
   "execution_count": 356,
   "metadata": {},
   "outputs": [],
   "source": [
    "def kinetic_Energy(\n",
    "        velocity_x_data: NDArray[np.float64],\n",
    "        velocity_y_data: NDArray[np.float64],\n",
    "        mass: float | NDArray[np.float64]\n",
    ") -> NDArray[np.float64]:  \n",
    "    \"\"\"\n",
    "    Takes velocity Data. \\n\n",
    "    Returns kinetic Energy as a funciton of time.\n",
    "    \"\"\"\n",
    "    ekin = mass/2*np.sum((np.square(velocity_x_data)+np.square(velocity_y_data)),1)\n",
    "    return ekin"
   ]
  },
  {
   "cell_type": "markdown",
   "metadata": {},
   "source": [
    "* Potential Energy as defined above in lj_potential"
   ]
  },
  {
   "cell_type": "code",
   "execution_count": 357,
   "metadata": {},
   "outputs": [],
   "source": [
    "def analyse_potential_Energy(\n",
    "    position_x_data: NDArray[np.float64],\n",
    "    position_y_data: NDArray[np.float64],\n",
    "    box: tuple[float|int,float|int]\n",
    ") -> NDArray[np.float64]:\n",
    "    \"\"\"\n",
    "    Takes posiiton arguments x(t), y(t) and a box as input. \\n\n",
    "    Returns Total potential Energy as a function of time.\n",
    "    \"\"\"\n",
    "    e=np.zeros(len(position_x_data[:,0]))\n",
    "    # iteration over every time step -> function of time \n",
    "    for T in range(len(position_x_data[:,0])):\n",
    "        # iteration of particle pairs\n",
    "        for i in range(len(position_x_data[0,:])):\n",
    "            dx=rel_coordiante(position_x_data[T,i],position_x_data[T,i+1:len(position_x_data[1])],box[0])\n",
    "            dy=rel_coordiante(position_y_data[T,i],position_y_data[T,i+1:len(position_y_data[1])],box[1])\n",
    "            d = map(distance,dx,dy)\n",
    "            e[T]+= np.sum(np.array(list(map(lJ_potentil,d))))\n",
    "    return e"
   ]
  },
  {
   "cell_type": "markdown",
   "metadata": {},
   "source": [
    "* Temperature will be calculated by $<E_{kin}> = \\frac{f}{2}kT$ or $T=\\frac{2<E_{kin}>}{kf}$, where k is the Boltzmankonstant and Temperature $T$"
   ]
  },
  {
   "cell_type": "code",
   "execution_count": 358,
   "metadata": {},
   "outputs": [],
   "source": [
    "def temperature_curve(  \n",
    "        dof: int,  # degrees of freedom\n",
    "        e_kin: NDArray[np.float64],\n",
    "        n_particles: int,\n",
    ") -> NDArray[np.float64]:\n",
    "    k = 1.380649*10**(-23)  # J/K\n",
    "    return 2*(e_kin/n_particles)/dof/k"
   ]
  },
  {
   "cell_type": "markdown",
   "metadata": {},
   "source": [
    "### Code execution\n",
    "Next I define all the variables and data list and use the simulation function with particles that shall be initialised on a grid."
   ]
  },
  {
   "cell_type": "markdown",
   "metadata": {},
   "source": [
    "#### Defining constants and variables"
   ]
  },
  {
   "cell_type": "code",
   "execution_count": 359,
   "metadata": {},
   "outputs": [],
   "source": [
    "### Defining constants\n",
    "N_PARTICLES: int = 50\n",
    "\n",
    "PARTICLE_MASS: float = 18*10**(-3)  # kg/mol -> same units!\n",
    "\n",
    "VELOCITY: float = 150 #  nm/ns\n",
    "\n",
    "TIME_STEPS: int = 2000\n",
    "\n",
    "DT: float = 0.0002  # ns\n",
    "\n",
    "BOX: tuple[int, int] = (10,10)\n",
    "\n",
    "INITIAL_JITTER: float = 3.0\n",
    "\n",
    "SAVE_MP4: bool = False\n",
    "\n",
    "### initiating data array\n",
    "data: NDArray[np.float64] = np.zeros((TIME_STEPS,len(BOX)**2,N_PARTICLES)) # (Time, len(x,y,vx,vy), N)"
   ]
  },
  {
   "cell_type": "code",
   "execution_count": 360,
   "metadata": {},
   "outputs": [
    {
     "data": {
      "image/png": "[encoded data removed]",
      "text/plain": [
       "<Figure size 640x480 with 1 Axes>"
      ]
     },
     "metadata": {},
     "output_type": "display_data"
    }
   ],
   "source": [
    "x=np.logspace(-0.48,0.25)\n",
    "y=lJ_potentil(x)\n",
    "\n",
    "plt.plot(x,y)\n",
    "plt.show()\n",
    "plt.close()"
   ]
  },
  {
   "cell_type": "markdown",
   "metadata": {},
   "source": [
    "#### Initialisation of Particles and optimization"
   ]
  },
  {
   "cell_type": "code",
   "execution_count": 361,
   "metadata": {},
   "outputs": [
    {
     "name": "stdout",
     "output_type": "stream",
     "text": [
      "Initialiszing new positions\n"
     ]
    },
    {
     "data": {
      "image/png": "[encoded data removed]",
      "text/plain": [
       "<Figure size 640x480 with 1 Axes>"
      ]
     },
     "metadata": {},
     "output_type": "display_data"
    },
    {
     "name": "stdout",
     "output_type": "stream",
     "text": [
      "[[0.   1.25 2.5  3.75 5.   6.25 7.5  8.75 0.   1.25 2.5  3.75 5.   6.25\n",
      "  7.5  8.75 0.   1.25 2.5  3.75 5.   6.25 7.5  8.75 0.   1.25 2.5  3.75\n",
      "  5.   6.25 7.5  8.75 0.   1.25 2.5  3.75 5.   6.25 7.5  8.75 0.   1.25\n",
      "  2.5  3.75 5.   6.25 7.5  8.75 0.   1.25]]\n",
      "normalize acc:\n",
      " 0.9999996046603513\n",
      "rescaling acc:\n",
      " 0.019999992093207027\n",
      "x: [[0.00000000e+00 1.25000000e+00 2.50000000e+00 3.75000000e+00\n",
      "  5.00000000e+00 6.25000000e+00 7.50000000e+00 8.75000000e+00\n",
      "  0.00000000e+00 1.25000000e+00 2.50000000e+00 3.75000000e+00\n",
      "  5.00000000e+00 6.25000000e+00 7.50000000e+00 8.75000000e+00\n",
      "  0.00000000e+00 1.25000000e+00 2.50000000e+00 3.75000000e+00\n",
      "  5.00000000e+00 6.25000000e+00 7.50000000e+00 8.75000000e+00\n",
      "  0.00000000e+00 1.25000000e+00 2.50000000e+00 3.75000000e+00\n",
      "  5.00000000e+00 6.25000000e+00 7.50000000e+00 8.75000000e+00\n",
      "  0.00000000e+00 1.25000000e+00 2.50000000e+00 3.75000000e+00\n",
      "  5.00000000e+00 6.25000000e+00 7.50000000e+00 8.75000000e+00\n",
      "  0.00000000e+00 1.25000000e+00 2.50000000e+00 3.75000000e+00\n",
      "  5.00000000e+00 6.25000000e+00 7.50000000e+00 8.75000000e+00\n",
      "  0.00000000e+00 1.25000000e+00]\n",
      " [9.99997452e+00 1.25003107e+00 2.50003945e+00 3.75001316e+00\n",
      "  5.00000291e+00 6.24999923e+00 7.49999024e+00 8.74996397e+00\n",
      "  1.14655914e-07 1.25025511e+00 2.50033681e+00 3.75024364e+00\n",
      "  5.00002053e+00 6.24995085e+00 7.49985213e+00 8.74976057e+00\n",
      "  9.68459988e-04 1.25135798e+00 2.50151632e+00 3.75140685e+00\n",
      "  4.99940395e+00 6.24917133e+00 7.49890712e+00 8.74880670e+00\n",
      "  9.99829450e+00 1.25507420e+00 2.50463395e+00 3.75247386e+00\n",
      "  4.99949924e+00 6.24862027e+00 7.49719330e+00 8.74496245e+00\n",
      "  9.99441884e+00 1.25572406e+00 2.50326471e+00 3.75077415e+00\n",
      "  5.00003661e+00 6.24977981e+00 7.49912775e+00 8.74661785e+00\n",
      "  9.98778004e+00 1.26221110e+00 2.50121522e+00 3.75006072e+00\n",
      "  5.00000332e+00 6.24999282e+00 7.49993588e+00 8.74878120e+00\n",
      "  9.98673339e+00 1.26326479e+00]\n",
      " [0.00000000e+00 1.25000000e+00 2.50000000e+00 3.75000000e+00\n",
      "  5.00000000e+00 6.25000000e+00 7.50000000e+00 8.75000000e+00\n",
      "  0.00000000e+00 1.25000000e+00 2.50000000e+00 3.75000000e+00\n",
      "  5.00000000e+00 6.25000000e+00 7.50000000e+00 8.75000000e+00\n",
      "  0.00000000e+00 1.25000000e+00 2.50000000e+00 3.75000000e+00\n",
      "  5.00000000e+00 6.25000000e+00 7.50000000e+00 8.75000000e+00\n",
      "  0.00000000e+00 1.25000000e+00 2.50000000e+00 3.75000000e+00\n",
      "  5.00000000e+00 6.25000000e+00 7.50000000e+00 8.75000000e+00\n",
      "  0.00000000e+00 1.25000000e+00 2.50000000e+00 3.75000000e+00\n",
      "  5.00000000e+00 6.25000000e+00 7.50000000e+00 8.75000000e+00\n",
      "  0.00000000e+00 1.25000000e+00 2.50000000e+00 3.75000000e+00\n",
      "  5.00000000e+00 6.25000000e+00 7.50000000e+00 8.75000000e+00\n",
      "  0.00000000e+00 1.25000000e+00]]\n"
     ]
    },
    {
     "data": {
      "image/png": "[encoded data removed]",
      "text/plain": [
       "<Figure size 640x480 with 1 Axes>"
      ]
     },
     "metadata": {},
     "output_type": "display_data"
    }
   ],
   "source": [
    "particels= initialize_particles_on_grid(\n",
    "        n_particles=N_PARTICLES,\n",
    "        box=BOX,\n",
    "        mass=PARTICLE_MASS, \n",
    "        velocity=VELOCITY, \n",
    "        add_jitter=0.0,\n",
    "        data_file_location= \"position_init.txt\",\n",
    "        load_positions= False\n",
    ")\n",
    "plt.scatter(particels.x,particels.y)\n",
    "plt.title(\"Particle init positions\")\n",
    "plt.show()\n",
    "plt.close()\n",
    "### check the steepest decent\n",
    "pot_energy, x, y= steepest_decent(\n",
    "        particles= particels,\n",
    "        box= BOX,\n",
    "        step_size= 0.02,  # nm\n",
    "    )\n",
    "print(\"x:\",x)\n",
    "#print(\"potential energy\",pot_energy)\n",
    "\n",
    "### Understanding the minimization process\n",
    "plt.title(\"Minimization potential landscape\")\n",
    "plt.plot(np.arange(len(pot_energy)),pot_energy, label=\"tot pot. Energy\")\n",
    "plt.xlabel(\"iteration step\")\n",
    "plt.ylabel(\"Energy [J]\")\n",
    "plt.show()\n",
    "plt.savefig(\"minimization_energy.png\")\n",
    "plt.close()\n"
   ]
  },
  {
   "cell_type": "markdown",
   "metadata": {},
   "source": [
    "#### Simulation"
   ]
  },
  {
   "cell_type": "code",
   "execution_count": 362,
   "metadata": {},
   "outputs": [
    {
     "name": "stdout",
     "output_type": "stream",
     "text": [
      "Simulation done!\n"
     ]
    }
   ],
   "source": [
    "# data= simulate(\n",
    "#         particles=particels\n",
    "#         time=TIME_STEPS,  # timesteps\n",
    "#         dt=DT,  # ns\n",
    "#         box=BOX,  \n",
    "#         data=data  # Time, phase-space pp, particles\n",
    "#     )\n",
    "\n",
    "print(\"Simulation done!\")\n",
    "\n",
    "#mp4 = creat_animation(SAVE_MP4, \"sheet02-animation_init-acc-jitter1\",BOX, data[:,0,:],data[:,1,:])  \n",
    "#HTML(mp4.to_html5_video())"
   ]
  },
  {
   "cell_type": "markdown",
   "metadata": {},
   "source": [
    "* Analysis of Energies"
   ]
  },
  {
   "cell_type": "code",
   "execution_count": 363,
   "metadata": {},
   "outputs": [],
   "source": [
    "plot_name=\"\"\n",
    "\n",
    "# timestep_array=np.arange(time_steps) * dt\n",
    "# e_kin = kinetic_Energy(data[:,2,:],data[:,3,:],paritcle_mass)\n",
    "# e_pot = potential_Energy(data[:,0,:], data[:,1,:],box)\n",
    "# temperature = temperature_curve(len(box),e_kin, n_particles)\n",
    "# \n",
    "# fig, axs = plt.subplots(1, 2, sharey=False, tight_layout=False)\n",
    "# \n",
    "# set_cutoff= 20000\n",
    "# axs[0].plot(timestep_array[:set_cutoff], e_kin[:set_cutoff],label=\"kin.\")\n",
    "# axs[0].plot(timestep_array[:set_cutoff], -e_pot[:set_cutoff],label=\"pot.\")\n",
    "# axs[1].plot(timestep_array[:set_cutoff], temperature[:set_cutoff], label=\"temp.\")\n",
    "# axs[0].set_xlabel('time [ns]')   \n",
    "# axs[1].set_xlabel('time [ns]')\n",
    "# axs[0].set_ylabel('Energy in [J]')  # find correct units of energy\n",
    "# axs[1].set_ylabel('T in [K]') \n",
    "# axs[0].set_title('Energies')\n",
    "# axs[1].set_title('Temperature')\n",
    "# axs[0].legend()\n",
    "# axs[1].legend()\n",
    "# plt.savefig(plot_name+\".png\")\n",
    "# plt.close()\n",
    "\n",
    "\n"
   ]
  },
  {
   "cell_type": "code",
   "execution_count": 364,
   "metadata": {},
   "outputs": [],
   "source": [
    "# plt.scatter(data[0,0,:],data[0,1,:])\n",
    "# plt.title(\"initialisation with jitter\")\n",
    "# plt.ylabel(\"y [nm]\")\n",
    "# plt.xlabel(\"x [nm]\")\n",
    "# plt.savefig(\"sheet02-jitterinit\")\n",
    "# plt.close()"
   ]
  },
  {
   "cell_type": "code",
   "execution_count": null,
   "metadata": {},
   "outputs": [],
   "source": []
  }
 ],
 "metadata": {
  "kernelspec": {
   "display_name": ".ccs-env",
   "language": "python",
   "name": "python3"
  },
  "language_info": {
   "codemirror_mode": {
    "name": "ipython",
    "version": 3
   },
   "file_extension": ".py",
   "mimetype": "text/x-python",
   "name": "python",
   "nbconvert_exporter": "python",
   "pygments_lexer": "ipython3",
   "version": "3.12.3"
  }
 },
 "nbformat": 4,
 "nbformat_minor": 2
}
