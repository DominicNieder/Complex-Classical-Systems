{
 "cells": [
  {
   "cell_type": "markdown",
   "metadata": {},
   "source": [
    "# Sheet 03\n",
    "This is the implementation of Sheet 02 of Awais Ahmed and Dominic Nieder."
   ]
  },
  {
   "cell_type": "code",
   "execution_count": 76,
   "metadata": {},
   "outputs": [],
   "source": [
    "from numpy.typing import NDArray  # trying to be typesafe\n",
    "import numpy as np  # needed all over the place\n",
    "from IPython.display import HTML # in line animations\n",
    "\n",
    "import os   # file and file path\n",
    "\n",
    "from itertools import count\n",
    "import pandas as pd\n",
    "import matplotlib.pyplot as plt  # for plots\n",
    "\n",
    "from matplotlib import colors  # not quite sure what fore\n",
    "from matplotlib.ticker import PercentFormatter  # also not sure, maybe animation..?\n",
    "from matplotlib.animation import FuncAnimation, FFMpegWriter  # for animations"
   ]
  },
  {
   "cell_type": "markdown",
   "metadata": {},
   "source": [
    "### Particle\n",
    "* creating \"Particle\" class, containing all the information of all particle positions, velocities, mass and accellerations as well as interaction potential (all the object of class \"Particle\" shall interact by a Lennard-Jones Potential)"
   ]
  },
  {
   "cell_type": "code",
   "execution_count": 77,
   "metadata": {},
   "outputs": [],
   "source": [
    "class Particle:\n",
    "    def __init__(\n",
    "        self,\n",
    "        n: int,\n",
    "        m: float | int,\n",
    "        x: NDArray[np.float64],\n",
    "        y: NDArray[np.float64],\n",
    "        vx: NDArray[np.float64],\n",
    "        vy: NDArray[np.float64],\n",
    "    ):\n",
    "        \"\"\"\n",
    "        Issue: No need to seperate x, y axis -> update all functions to take array([[x],[y]])\n",
    "        \"\"\"\n",
    "        self.n: int = n\n",
    "        self.m: float = float(m)\n",
    "\n",
    "        self.x: NDArray[np.float64]= np.array(x, dtype=np.float64)\n",
    "        self.y: NDArray[np.float64]= np.array(y, dtype=np.float64)\n",
    "\n",
    "        self.vx: NDArray[np.float64]= np.array(vx, dtype=np.float64)\n",
    "        self.vy: NDArray[np.float64]= np.array(vy, dtype=np.float64)\n",
    "\n",
    "        self.ax1: NDArray[np.float64]= np.zeros(n, dtype=np.float64)\n",
    "        self.ay1: NDArray[np.float64]= np.zeros(n, dtype=np.float64)\n",
    "        self.ax2: NDArray[np.float64]= np.zeros(n, dtype=np.float64)\n",
    "        self.ay2: NDArray[np.float64]= np.zeros(n, dtype=np.float64)\n",
    "        \n",
    "    def __repr__(self):\n",
    "        return f\"This is a particle at {self.x[0]}, {self.y[0]} with v={self.vx[0]},{self.vy[0]} interacting by Lennard-Jones potential.\""
   ]
  },
  {
   "cell_type": "markdown",
   "metadata": {},
   "source": [
    "### Initialisation of particles \n",
    "* saving any given data - e.g. position arguments"
   ]
  },
  {
   "cell_type": "code",
   "execution_count": 78,
   "metadata": {},
   "outputs": [],
   "source": [
    "def save_array_to_file(\n",
    "        txt_file_path: str,\n",
    "        data_array: NDArray[np.float64]\n",
    ") -> None:\n",
    "    np.savetxt(txt_file_path,data_array, delimiter=' ')\n",
    "    pass"
   ]
  },
  {
   "cell_type": "markdown",
   "metadata": {},
   "source": [
    "* retrieving saved data, e.g. position arguments"
   ]
  },
  {
   "cell_type": "code",
   "execution_count": 79,
   "metadata": {},
   "outputs": [],
   "source": [
    "def load_array_from_file(\n",
    "        txt_file_path: str\n",
    ") -> NDArray[np.float64]:\n",
    "    \"\"\"\n",
    "    This function loads data from a file in txt_file_path. \\n\n",
    "    E.g. initial positions.\n",
    "    \"\"\"\n",
    "    return np.loadtxt(txt_file_path,delimiter=' ')"
   ]
  },
  {
   "cell_type": "markdown",
   "metadata": {},
   "source": [
    "* initiate particle positions on a grid"
   ]
  },
  {
   "cell_type": "code",
   "execution_count": 80,
   "metadata": {},
   "outputs": [],
   "source": [
    "def initiate_positions_on_grid(\n",
    "        n_particles: int,\n",
    "        box: tuple[float|int, float|int]\n",
    ") -> NDArray[np.float64]:\n",
    "    \"\"\"\n",
    "    Returns n positions(x,y) that that are equally spaced on a grid, inside the box.\n",
    "    \"\"\"\n",
    "    grid_sections = int(np.ceil(np.sqrt(n_particles)))  # find the number of colums & rows\n",
    "    \n",
    "    # even spacing\n",
    "    x_spacing = box[0]/grid_sections \n",
    "    y_spacing = box[1]/grid_sections\n",
    "    # makes grid coordinates\n",
    "    x_positions, y_positions = np.meshgrid(\n",
    "        np.arange(grid_sections) * x_spacing, \n",
    "        np.arange(grid_sections) * y_spacing\n",
    "    )\n",
    "    return np.array([x_positions.flatten()[:n_particles], y_positions.flatten()[:n_particles]])"
   ]
  },
  {
   "cell_type": "markdown",
   "metadata": {},
   "source": [
    "* a seperate function to initiate velocities"
   ]
  },
  {
   "cell_type": "code",
   "execution_count": 81,
   "metadata": {},
   "outputs": [],
   "source": [
    "def initiate_velocities(\n",
    "        n_particles: int,\n",
    "        velocity: float\n",
    ") -> NDArray[np.float64]:\n",
    "    return  velocity * (np.random.rand(2,n_particles) - 0.5)"
   ]
  },
  {
   "cell_type": "markdown",
   "metadata": {},
   "source": [
    "* initialisation on a grid with radom velocity:\n"
   ]
  },
  {
   "cell_type": "code",
   "execution_count": 82,
   "metadata": {},
   "outputs": [],
   "source": [
    "def initialize_particles_on_grid(\n",
    "    n_particles: int, \n",
    "    box: tuple[float|int, float|int], \n",
    "    mass: float, \n",
    "    velocity: float,\n",
    "    add_jitter: float= 0.0,\n",
    "    data_file_location: str= \"position_data.txt\",\n",
    "    load_positions: bool= False,\n",
    ") -> Particle:\n",
    "    \"\"\"\n",
    "    Particles a regular grid within a given spacing.\\n\n",
    "    Random velocity directions. \\n\n",
    "    Returns: Particle with initialized positions and velocities. \n",
    "    \"\"\"\n",
    "    positions=np.zeros( (2,n_particles) )\n",
    "    if load_positions and os.path.isfile(data_file_location):  # load positions -> access save file\n",
    "        print(\"loading positions from \"+data_file_location+\"!\") \n",
    "        if np.shape(positions  ) == len(load_array_from_file(data_file_location)):\n",
    "            positions+= load_array_from_file(\n",
    "                data_file_location\n",
    "                )\n",
    "        else:\n",
    "            pass\n",
    "        \n",
    "    else:  # do not load positions -> generate positions\n",
    "        print(\"Initialiszing new positions\")\n",
    "        positions+= initiate_positions_on_grid(\n",
    "            n_particles= n_particles,\n",
    "            box= box\n",
    "            )\n",
    "\n",
    "        # adds jitter to the initial position, if jitter is 0.0 then there is no jitter\n",
    "        positions+= (np.random.rand(2,n_particles)-0.5)* add_jitter\n",
    "\n",
    "        # save positions -> reusability\n",
    "        save_array_to_file(\n",
    "            txt_file_path= data_file_location,\n",
    "            data_array= positions\n",
    "            )\n",
    "        \n",
    "    # Initialize velocities \n",
    "    v = initiate_velocities(n_particles=n_particles,velocity=velocity) \n",
    "    # Create and return a Particle\n",
    "    return Particle(\n",
    "        n=n_particles,\n",
    "        m=mass,\n",
    "        x=positions[0,:],\n",
    "        y=positions[1,:],\n",
    "        vx=v[0,:],\n",
    "        vy=v[1,:]\n",
    "    )"
   ]
  },
  {
   "cell_type": "markdown",
   "metadata": {},
   "source": [
    "### Forces and Potentials\n",
    "Lennard-Jones Potential and Force"
   ]
  },
  {
   "cell_type": "code",
   "execution_count": 83,
   "metadata": {},
   "outputs": [],
   "source": [
    "def lJ_potentil(\n",
    "        d: float|NDArray[np.float64]\n",
    ") -> float|NDArray[np.float64]:\n",
    "    \"\"\"\n",
    "    Lennard Jones Potential\n",
    "    \"\"\"\n",
    "    c_12 = 9.847044*10**(-3)  #  J/mol\n",
    "    c_6 = 6.2647225           #  J/mol \n",
    "    if d == 0:\n",
    "        print(\"division by zero\")\n",
    "        return 0\n",
    "    else:\n",
    "        return c_12/d**12-c_6/d**6\n",
    "\n",
    "def lj_force(\n",
    "        d: float|int,\n",
    "        r12: NDArray[np.float64]\n",
    ") -> NDArray[np.float64]:\n",
    "    \"\"\"\n",
    "    -> [fx,fy]\\n\n",
    "    Force by Lennard Jones interaction potential.\\n\n",
    "    d is the distance (scalar value).\\n\n",
    "    r12 is the relative coordinate (vecotr).\\n\n",
    "    Issue: -> invariant parameters c_12 and c_6; \n",
    "        -> include \"if condition\" for large forces\n",
    "    \"\"\"\n",
    "    c_12 = 9.847044*10**(-3)  # J/mol\n",
    "    c_6 = 6.2647225           # J/mol\n",
    "    if d == 0:\n",
    "        return np.array([0,0])\n",
    "    else:\n",
    "        return (12*c_12/d**13-6*c_6/d**7) * r12/d    "
   ]
  },
  {
   "cell_type": "markdown",
   "metadata": {},
   "source": [
    "### Nearest Neighbour search\n",
    "* the following functions allow for an appropriat nearest neighbour search"
   ]
  },
  {
   "cell_type": "code",
   "execution_count": 84,
   "metadata": {},
   "outputs": [],
   "source": [
    "def rel_coordiante(\n",
    "        r1: float,\n",
    "        r2: float,\n",
    "        box: float\n",
    ") -> float:  \n",
    "    \"\"\"\n",
    "    Returns relative coordinate between r1 and r2 with PBC. \\n\n",
    "    vec:r1 -> r2\n",
    "    \"\"\"\n",
    "    return (r2 - r1 + box / 2) % box - box / 2\n",
    "    \n",
    "\n",
    "def distance(\n",
    "        x: float| NDArray[np.float64],\n",
    "        y: float| NDArray[np.float64]\n",
    ") -> float | NDArray[np.float64]:\n",
    "    \"\"\"\n",
    "    Takes relative ccordinates. \\n\n",
    "    Returns distance between two particles. \\n\n",
    "    \"\"\"\n",
    "    return np.sqrt(x**2+y**2)"
   ]
  },
  {
   "cell_type": "markdown",
   "metadata": {},
   "source": [
    "### Velocity Verlet\n",
    "The next functions are all concerned about the integrations and getting all the accelerations by using the Lennard Jones foce field, that was implemented above.\n",
    "\n",
    "* integrating over positions"
   ]
  },
  {
   "cell_type": "code",
   "execution_count": 85,
   "metadata": {},
   "outputs": [],
   "source": [
    "### position update\n",
    "def integrate_position(\n",
    "        particles: Particle,\n",
    "        dt: float|int,\n",
    "        box: tuple[float|int, float|int]\n",
    ") -> None:\n",
    "    \"\"\"\n",
    "    Velocity Verlet: Updates positions of particles.\n",
    "    \"\"\"\n",
    "    particles.x+= particles.vx*dt+particles.ax1*dt*dt/2 \n",
    "    particles.y+= particles.vy*dt+particles.ay1*dt*dt/2\n",
    "    particles.x = particles.x%box[0]\n",
    "    particles.y = particles.y%box[1]\n",
    "    pass"
   ]
  },
  {
   "cell_type": "markdown",
   "metadata": {},
   "source": [
    "* integrating over velocity"
   ]
  },
  {
   "cell_type": "code",
   "execution_count": 86,
   "metadata": {},
   "outputs": [],
   "source": [
    "### updates velocity vectors\n",
    "def integrate_velocity(\n",
    "    particles: Particle,\n",
    "    dt: float|int\n",
    ") -> None:\n",
    "    \"\"\"\n",
    "    Velocity Verlet: velocity integration.\\n\n",
    "    Updates velocities of particles.\n",
    "    \"\"\"\n",
    "    particles.vx+=1/2 * (particles.ax1+particles.ax2)*dt\n",
    "    particles.vy+=1/2 * (particles.ay1+particles.ay2)*dt\n",
    "    pass"
   ]
  },
  {
   "cell_type": "markdown",
   "metadata": {},
   "source": [
    "* updating the acceleration"
   ]
  },
  {
   "cell_type": "code",
   "execution_count": 87,
   "metadata": {},
   "outputs": [],
   "source": [
    "### This funciton sets all the accelerations to zero\n",
    "def reset_acceleration(\n",
    "        particles: Particle\n",
    ") -> None:\n",
    "    \"\"\"\n",
    "    Sets particles.ax2 & particles.ay2 to zeros\n",
    "    \"\"\"\n",
    "    particles.ax2=np.zeros(particles.n, np.float64)\n",
    "    particles.ay2=np.zeros(particles.n, np.float64)\n",
    "    pass\n",
    "\n",
    "### Jitter on the acceleration c.f. to brownian motion\n",
    "def jitter_acceleration(\n",
    "        particles: Particle\n",
    ") -> None:\n",
    "    \"\"\"\n",
    "    Sets particles.ax2 & particles.ay2 to a small random number \n",
    "    \"\"\"\n",
    "    particles.ax2=np.random.rand(particles.n)*np.sqrt(0.0002)\n",
    "    particles.ay2=np.random.rand(particles.n)*np.sqrt(0.0002)\n",
    "    pass\n",
    "\n",
    "def new_update_acceleration(\n",
    "        particles: Particle,\n",
    "        box: tuple[float|int,float|int],\n",
    ")->None:\n",
    "    \"\"\"\n",
    "    Iterates through all particles calculates force. \\n\n",
    "    \\n\\n\n",
    "    Issue: \\n-iteration through all particles n^2; \\nSearching ~n log n\\n\n",
    "    Suggestion -> matrix multiplication with np-funciton.\n",
    "    \"\"\"\n",
    "    reset_acceleration(particles= particles)\n",
    "    for i in range(particles.n):\n",
    "        for j in range(i+1,particles.n):\n",
    "            # distnance in periodic boundry conditions \n",
    "            rel_x= rel_coordiante(r1=particles.x[i],r2=particles.x[j],box=box[0])\n",
    "            rel_y= rel_coordiante(r1=particles.y[i],r2=particles.y[j],box=box[1])\n",
    "            \n",
    "            # calculating acceleration\n",
    "            acceleration_ij= 1/particles.m * lj_force(\n",
    "                distance(rel_x,rel_y),\n",
    "                np.array([rel_x, rel_y])\n",
    "            )\n",
    "\n",
    "            # adding acceleration\n",
    "            particles.ax2[i]-= acceleration_ij[0]\n",
    "            particles.ay2[i]-= acceleration_ij[1]\n",
    "            particles.ax2[j]+= acceleration_ij[0]\n",
    "            particles.ay2[j]+= acceleration_ij[1]\n",
    "    pass"
   ]
  },
  {
   "cell_type": "markdown",
   "metadata": {},
   "source": [
    "### Simulation and main loops\n",
    "* This function contains the integration funcitons, updates forces "
   ]
  },
  {
   "cell_type": "code",
   "execution_count": 88,
   "metadata": {},
   "outputs": [],
   "source": [
    "def iterate(\n",
    "        dt: float|int,\n",
    "        particles: Particle,\n",
    "        box: tuple[float|int,float|int]\n",
    "    ) -> None:\n",
    "    \"\"\"\n",
    "    Updates positions and velocities. \\n\n",
    "    Accelerations for 1. iteration need to be obtained prior. \n",
    "    \"\"\"\n",
    "    particles.ax1=particles.ax2  # prior a(t+dt) -> a(t)\n",
    "    particles.ay1=particles.ay2\n",
    "    integrate_position(particles,dt,box)\n",
    "    new_update_acceleration(particles,box)\n",
    "    integrate_velocity(particles,dt)\n",
    "pass"
   ]
  },
  {
   "cell_type": "markdown",
   "metadata": {},
   "source": [
    "Next the 'main' simulation function is implemented. This iterates over all timesteps and saves the data of interest (phase space)."
   ]
  },
  {
   "cell_type": "code",
   "execution_count": 89,
   "metadata": {},
   "outputs": [],
   "source": [
    "def simulate(\n",
    "        particles: Particle, \n",
    "        time: int,\n",
    "        dt: float|int, \n",
    "        box: tuple[float|int,float|int],\n",
    "        data: NDArray[np.float64]\n",
    ") -> NDArray[np.float64]:\n",
    "    \"\"\"\n",
    "    Runs a simulation of n-particles in a box and saves phase-space coordinates to data.\\n\n",
    "    Returns data.\n",
    "    \"\"\"\n",
    "    new_update_acceleration(particles,box)  # initial calculation for accelerations\n",
    "    for t in range(time):  # iteration over all timestepps\n",
    "        iterate(dt,particles,box)\n",
    "\n",
    "        ### save data of interest\n",
    "        data[t,0,:]=particles.x\n",
    "        data[t,1,:]=particles.y\n",
    "        data[t,2,:]=particles.vx\n",
    "        data[t,3,:]=particles.vy\n",
    "    return data"
   ]
  },
  {
   "cell_type": "markdown",
   "metadata": {},
   "source": [
    "### Steepest decent algorithm"
   ]
  },
  {
   "cell_type": "markdown",
   "metadata": {},
   "source": [
    "* function to calculate the potential Energy"
   ]
  },
  {
   "cell_type": "code",
   "execution_count": 90,
   "metadata": {},
   "outputs": [],
   "source": [
    "def potential_Energy(\n",
    "    position_x_data: NDArray[np.float64],\n",
    "    position_y_data: NDArray[np.float64],\n",
    "    box: tuple[float|int,float|int]\n",
    ") -> float:\n",
    "    \"\"\"\n",
    "    Takes posiiton arguments x, y for a **time T** and a box as input. \\n\n",
    "    Returns Total potential Energy as a function of time.\n",
    "    \"\"\"\n",
    "    e=0.0\n",
    "    # iteration of particle pairs\n",
    "    for i in range(len(position_x_data[:])):\n",
    "        dx= rel_coordiante(position_x_data[i],position_x_data[i+1:len(position_x_data)],box[0])\n",
    "        dy= rel_coordiante(position_y_data[i],position_y_data[i+1:len(position_y_data)],box[1])\n",
    "        e+= np.sum(np.array(list(map(\n",
    "                lJ_potentil,\n",
    "                np.array(list(map(distance,dx,dy)))\n",
    "                )))\n",
    "            )\n",
    "    return e"
   ]
  },
  {
   "cell_type": "markdown",
   "metadata": {},
   "source": [
    "* this is the brute force was of steepest decent:\n",
    "1st move particle in direction of force   "
   ]
  },
  {
   "cell_type": "code",
   "execution_count": 91,
   "metadata": {},
   "outputs": [],
   "source": [
    "def normalize_acceleration(\n",
    "        particles: Particle\n",
    ") -> None:\n",
    "    \"\"\"\n",
    "    Vectorized normalization of each particle's acceleration vector.\n",
    "    \"\"\"\n",
    "    # Calculate the norm of each acceleration vector\n",
    "    norms = np.sqrt(particles.ax2**2 + particles.ay2**2)\n",
    "\n",
    "    # Avoid division by zero \n",
    "    norms = np.where(norms == 0, 1, norms)\n",
    "    \n",
    "    # Normalize the acceleration components\n",
    "    particles.ax2 /= norms\n",
    "    particles.ay2 /= norms\n",
    "    \n",
    "    # \n",
    "\n",
    "def re_scale_acceleration(\n",
    "        particles: Particle,\n",
    "        scaling_factor: float\n",
    ") -> None:\n",
    "    \"\"\"\n",
    "    scales the acceleration vector ax2, ay2 of the particles to the given length of the scaling factor\n",
    "    \"\"\"\n",
    "    # First normalize the accelerations\n",
    "    normalize_acceleration(particles)\n",
    "    #print(\"After normalization (mean length):\", (np.sqrt(particles.ax2**2 + particles.ay2**2)))\n",
    "\n",
    "    # Rescale by the scaling factor\n",
    "    particles.ax2 *= scaling_factor\n",
    "    particles.ay2 *= scaling_factor\n",
    "    #print(\"After rescaling (mean length):\", (np.sqrt(particles.ax2**2 + particles.ay2**2)))\n",
    "\n",
    "### Steepest decent algorithm\n",
    "def steepest_decent(\n",
    "        particles: Particle,\n",
    "        box: tuple[float|int, float|int],\n",
    "        step_size: float,\n",
    "        energy_tolerance: float= 10**(-5)\n",
    ") -> NDArray[np.float64]:\n",
    "    \"\"\"\n",
    "    Takes (randomly initiated) partilces and finds (local) minimum with precission of minimum precision. \\n\n",
    "    The velocities should be zero and reinitialised after the minimization.\n",
    "    \"\"\"\n",
    "    # data arrays for debugging\n",
    "    posx_data= np.array([particles.x])\n",
    "    posy_data= np.array([particles.y])\n",
    "    energy_data= np.array([potential_Energy(\n",
    "            position_x_data= particles.x,\n",
    "            position_y_data= particles.y,\n",
    "            box= box\n",
    "        )])\n",
    "        \n",
    "    # determine direction\n",
    "    new_update_acceleration(particles=particles, box=box)\n",
    "    re_scale_acceleration(particles=particles, scaling_factor=step_size)\n",
    "    \n",
    "    # update positions\n",
    "    particles.x= (particles.x+particles.ax2)%box[0]\n",
    "    particles.y= (particles.y+particles.ay2)%box[1]\n",
    "\n",
    "    energy_data= np.append(energy_data, [potential_Energy(\n",
    "            position_x_data= particles.x,\n",
    "            position_y_data= particles.y,\n",
    "            box= box\n",
    "        )])\n",
    "    posx_data=np.append(posx_data, [particles.x], axis=0)\n",
    "    posy_data=np.append(posy_data, [particles.y], axis=0)\n",
    "    \n",
    "    while energy_data[-1] <= energy_data[-2] and abs(energy_data[-1] - energy_data[-2]) > energy_tolerance:\n",
    "        #print(\"while loop\\ne_pot_new=\",e_pot_new)\n",
    "        #print(\"e_pot_old=\", e_pot_old)\n",
    "        new_update_acceleration(particles=particles, box=box)\n",
    "        re_scale_acceleration(particles=particles, scaling_factor=step_size)\n",
    "        #print(\"force direction:\\n\", particles.ax2, particles.ay2)\n",
    "\n",
    "        # update positions\n",
    "        particles.x= (particles.x+particles.ax2)%box[0]\n",
    "        particles.y= (particles.y+particles.ay2)%box[1]\n",
    "        #print(\"epot_next\",e_pot_new)\n",
    "        energy_data= np.append(energy_data,potential_Energy(\n",
    "                position_x_data= particles.x,\n",
    "                position_y_data= particles.y,\n",
    "                box= box\n",
    "            ))\n",
    "        posx_data= np.append(posx_data, [particles.x], axis=0)\n",
    "        posy_data= np.append(posy_data, [particles.y], axis=0)\n",
    "        # print(\"energy\",energy_data[-1])\n",
    "\n",
    "    particles.x = (particles.x-particles.ax2)%box[0]\n",
    "    particles.y = (particles.y-particles.ay2)%box[1]\n",
    "    posx_data= np.append(posx_data, [particles.x], axis=0)\n",
    "    posy_data= np.append(posy_data, [particles.y], axis=0)\n",
    "    energy_data= np.append(energy_data,potential_Energy(\n",
    "                position_x_data= particles.x,\n",
    "                position_y_data= particles.y,\n",
    "                box= box\n",
    "            ))\n",
    "    return energy_data, posx_data, posy_data"
   ]
  },
  {
   "cell_type": "markdown",
   "metadata": {},
   "source": [
    "### Analysis\n",
    "Here functions that analyse the data will be implemented. Animation, Potential and Kinetic Energies. \n",
    "* First of funcitons for animation"
   ]
  },
  {
   "cell_type": "code",
   "execution_count": 92,
   "metadata": {},
   "outputs": [],
   "source": [
    "def animate(\n",
    "        frame,\n",
    "        x_data: NDArray[np.float64],\n",
    "        y_data: NDArray[np.float64], \n",
    "        scat\n",
    "):\n",
    "    \"\"\"\n",
    "    Takes x and y data [time, particle]; init funciton for \"creat_animation\"\n",
    "    \"\"\"\n",
    "    positions = np.c_[x_data[frame, :], y_data[frame,:]]\n",
    "    scat.set_offsets(positions)\n",
    "    return scat,\n",
    "\n",
    "def animation_plot(\n",
    "    p_radius: float|int,\n",
    "    box: tuple[float|int]\n",
    "):\n",
    "    \"\"\"\n",
    "    takes box size and particle radius. Initation for \"creat_animation\"\n",
    "    \"\"\"\n",
    "    fig, ax = plt.subplots()\n",
    "    scat = ax.scatter([], [], s=p_radius)  # Scale size for visibility\n",
    "    ax.set_xlim(box[0])\n",
    "    ax.set_ylim(box[1])\n",
    "    ax.set_title(\"Simulation Visualization\")\n",
    "    ax.set_xlabel(\"X [nm]\")\n",
    "    ax.set_ylabel(\"Y [nm]\")\n",
    "    return scat, fig, ax\n",
    "\n",
    "def creat_animation(\n",
    "        save_animation: bool,\n",
    "        animation_name: str,\n",
    "        animation_box: tuple[int,int],\n",
    "        x_data: NDArray[np.float64],\n",
    "        y_data: NDArray[np.float64]\n",
    ") -> FuncAnimation: \n",
    "    \"\"\"\n",
    "    x- and y_data has the form of [time, paritcle]. \\n\n",
    "    Saves the animation if save_animation = True.\n",
    "    \"\"\"\n",
    "    scat, fig, ax = animation_plot(10, animation_box)\n",
    "    anim = FuncAnimation(fig, animate, frames=len(x_data[:,0]), fargs=(x_data, y_data, scat), interval=20, blit=True)\n",
    "    writer = FFMpegWriter(fps=10, metadata=dict(artist='Dominic Nieder'), bitrate=1800)\n",
    "    if save_animation:\n",
    "        anim.save(animation_name+\".mp4\")\n",
    "    return anim"
   ]
  },
  {
   "cell_type": "markdown",
   "metadata": {},
   "source": [
    "* Analysis of the kinetic Energy: $E=\\frac{1}{2} \\Sigma_i m_i |v_i|^2$ "
   ]
  },
  {
   "cell_type": "code",
   "execution_count": 93,
   "metadata": {},
   "outputs": [],
   "source": [
    "def kinetic_Energy(\n",
    "        velocity_x_data: NDArray[np.float64],\n",
    "        velocity_y_data: NDArray[np.float64],\n",
    "        mass: float | NDArray[np.float64]\n",
    ") -> NDArray[np.float64]:  \n",
    "    \"\"\"\n",
    "    Takes velocity Data. \\n\n",
    "    Returns kinetic Energy as a funciton of time.\n",
    "    \"\"\"\n",
    "    ekin = mass/2*np.sum((np.square(velocity_x_data)+np.square(velocity_y_data)),1)\n",
    "    return ekin"
   ]
  },
  {
   "cell_type": "markdown",
   "metadata": {},
   "source": [
    "* Potential Energy as defined above in lj_potential"
   ]
  },
  {
   "cell_type": "code",
   "execution_count": 94,
   "metadata": {},
   "outputs": [],
   "source": [
    "def analyse_potential_Energy(\n",
    "    position_x_data: NDArray[np.float64],\n",
    "    position_y_data: NDArray[np.float64],\n",
    "    box: tuple[float|int,float|int]\n",
    ") -> NDArray[np.float64]:\n",
    "    \"\"\"\n",
    "    Takes posiiton arguments x(t), y(t) and a box as input. \\n\n",
    "    Returns Total potential Energy as a function of time.\n",
    "    \"\"\"\n",
    "    e=np.zeros(len(position_x_data[:,0]))\n",
    "    # iteration over every time step -> function of time \n",
    "    for T in range(len(position_x_data[:,0])):\n",
    "        # iteration of particle pairs\n",
    "        for i in range(len(position_x_data[0,:])):\n",
    "            dx=rel_coordiante(position_x_data[T,i],position_x_data[T,i+1:len(position_x_data[1])],box[0])\n",
    "            dy=rel_coordiante(position_y_data[T,i],position_y_data[T,i+1:len(position_y_data[1])],box[1])\n",
    "            d = map(distance,dx,dy)\n",
    "            e[T]+= np.sum(np.array(list(map(lJ_potentil,d))))\n",
    "    return e"
   ]
  },
  {
   "cell_type": "markdown",
   "metadata": {},
   "source": [
    "* Temperature will be calculated by $<E_{kin}> = \\frac{f}{2}kT$ or $T=\\frac{2<E_{kin}>}{kf}$, where k is the Boltzmankonstant and Temperature $T$"
   ]
  },
  {
   "cell_type": "code",
   "execution_count": 95,
   "metadata": {},
   "outputs": [],
   "source": [
    "def temperature_curve(  \n",
    "        dof: int,  # degrees of freedom\n",
    "        e_kin: NDArray[np.float64],\n",
    "        n_particles: int,\n",
    ") -> NDArray[np.float64]:\n",
    "    k = 1.380649*10**(-23)  # J/K\n",
    "    return 2*(e_kin/n_particles)/dof/k"
   ]
  },
  {
   "cell_type": "markdown",
   "metadata": {},
   "source": [
    "### Code execution\n",
    "Next I define all the variables and data list and use the simulation function with particles that shall be initialised on a grid."
   ]
  },
  {
   "cell_type": "markdown",
   "metadata": {},
   "source": [
    "#### Defining constants and variables"
   ]
  },
  {
   "cell_type": "code",
   "execution_count": 96,
   "metadata": {},
   "outputs": [],
   "source": [
    "### Defining constants\n",
    "N_PARTICLES: int = 100\n",
    "\n",
    "PARTICLE_MASS: float = 18*10**(-3)  # kg/mol -> same units!\n",
    "\n",
    "VELOCITY: float = 150 #  nm/ns\n",
    "\n",
    "TIME_STEPS: int = 2000\n",
    "\n",
    "DT: float = 0.002  # ns\n",
    "\n",
    "BOX: tuple[int, int] = (5,5)\n",
    "\n",
    "INITIAL_JITTER: float = 3.0\n",
    "\n",
    "SAVE_MP4: bool = False\n",
    "\n",
    "### initiating data array\n",
    "data: NDArray[np.float64] = np.zeros((TIME_STEPS,len(BOX)**2,N_PARTICLES)) # (Time, len(x,y,vx,vy), N)"
   ]
  },
  {
   "cell_type": "code",
   "execution_count": 97,
   "metadata": {},
   "outputs": [
    {
     "data": {
      "image/png": "[encoded data removed]",
      "text/plain": [
       "<Figure size 640x480 with 1 Axes>"
      ]
     },
     "metadata": {},
     "output_type": "display_data"
    }
   ],
   "source": [
    "x=np.logspace(-0.48,0.25)\n",
    "y=list(map(lJ_potentil,x))\n",
    "\n",
    "plt.plot(x,y)\n",
    "plt.show()\n",
    "plt.close()\n"
   ]
  },
  {
   "cell_type": "markdown",
   "metadata": {},
   "source": [
    "#### Initialisation of Particles and optimization"
   ]
  },
  {
   "cell_type": "code",
   "execution_count": null,
   "metadata": {},
   "outputs": [
    {
     "name": "stdout",
     "output_type": "stream",
     "text": [
      "Initialiszing new positions\n"
     ]
    },
    {
     "data": {
      "image/png": "[encoded data removed]",
      "text/plain": [
       "<Figure size 640x480 with 1 Axes>"
      ]
     },
     "metadata": {},
     "output_type": "display_data"
    }
   ],
   "source": [
    "particels= initialize_particles_on_grid(\n",
    "        n_particles=N_PARTICLES,\n",
    "        box=BOX,\n",
    "        mass=PARTICLE_MASS, \n",
    "        velocity=VELOCITY, \n",
    "        add_jitter=3.0,\n",
    "        data_file_location= \"position_init.txt\",\n",
    "        load_positions= False\n",
    ")\n",
    "\n",
    "### check the steepest decent\n",
    "pot_energy, x, y= steepest_decent(\n",
    "        particles= particels,\n",
    "        box= BOX,\n",
    "        step_size= 0.002,  # nm\n",
    "    )\n",
    "\n",
    "### Understanding the minimization process\n",
    "plt.title(\"Minimization potential landscape\")\n",
    "plt.plot(np.arange(len(pot_energy)),pot_energy, label=\"tot pot. Energy\")\n",
    "plt.xlabel(\"iteration step\")\n",
    "plt.ylabel(\"Energy [J]\")\n",
    "plt.grid(True)\n",
    "plt.savefig(\"steepest_descent_jitter.png\")\n",
    "plt.show()\n",
    "plt.close()"
   ]
  },
  {
   "cell_type": "code",
   "execution_count": 106,
   "metadata": {},
   "outputs": [
    {
     "data": {
      "image/png": "[encoded data removed]",
      "text/plain": [
       "<Figure size 640x480 with 1 Axes>"
      ]
     },
     "metadata": {},
     "output_type": "display_data"
    }
   ],
   "source": [
    "plt.plot(np.arange(len(pot_energy)),pot_energy, label=\"tot pot. Energy\")\n",
    "plt.title(\"Minimization of E-pot: logscale \")\n",
    "#plt.xscale(\"log\")\n",
    "plt.xscale(\"log\")\n",
    "plt.grid()\n",
    "plt.show()\n",
    "plt.close()"
   ]
  },
  {
   "cell_type": "markdown",
   "metadata": {},
   "source": [
    "#### Simulation"
   ]
  },
  {
   "cell_type": "code",
   "execution_count": 107,
   "metadata": {},
   "outputs": [
    {
     "name": "stdout",
     "output_type": "stream",
     "text": [
      "Simulation done!\n"
     ]
    },
    {
     "ename": "KeyboardInterrupt",
     "evalue": "",
     "output_type": "error",
     "traceback": [
      "\u001b[0;31m---------------------------------------------------------------------------\u001b[0m",
      "\u001b[0;31mKeyboardInterrupt\u001b[0m                         Traceback (most recent call last)",
      "Cell \u001b[0;32mIn[107], line 12\u001b[0m\n\u001b[1;32m      9\u001b[0m \u001b[38;5;28mprint\u001b[39m(\u001b[38;5;124m\"\u001b[39m\u001b[38;5;124mSimulation done!\u001b[39m\u001b[38;5;124m\"\u001b[39m)\n\u001b[1;32m     11\u001b[0m mp4_SD \u001b[38;5;241m=\u001b[39m creat_animation(\u001b[38;5;28;01mTrue\u001b[39;00m, \u001b[38;5;124m\"\u001b[39m\u001b[38;5;124msteepest_decent_jitter\u001b[39m\u001b[38;5;124m\"\u001b[39m, BOX,x_data\u001b[38;5;241m=\u001b[39mx,y_data\u001b[38;5;241m=\u001b[39my)\n\u001b[0;32m---> 12\u001b[0m HTML(\u001b[43mmp4_SD\u001b[49m\u001b[38;5;241;43m.\u001b[39;49m\u001b[43mto_html5_video\u001b[49m\u001b[43m(\u001b[49m\u001b[43m)\u001b[49m)\n\u001b[1;32m     14\u001b[0m \u001b[38;5;66;03m#mp4 = creat_animation(SAVE_MP4, \"sheet02-animation_init-acc-jitter1\",BOX, data[:,0,:],data[:,1,:])  \u001b[39;00m\n\u001b[1;32m     15\u001b[0m \u001b[38;5;66;03m#HTML(mp4.to_html5_video())\u001b[39;00m\n",
      "File \u001b[0;32m~/Documents/Complex-Classical-Systems/.ccs-env/lib/python3.12/site-packages/matplotlib/animation.py:1269\u001b[0m, in \u001b[0;36mAnimation.to_html5_video\u001b[0;34m(self, embed_limit)\u001b[0m\n\u001b[1;32m   1265\u001b[0m Writer \u001b[38;5;241m=\u001b[39m writers[mpl\u001b[38;5;241m.\u001b[39mrcParams[\u001b[38;5;124m'\u001b[39m\u001b[38;5;124manimation.writer\u001b[39m\u001b[38;5;124m'\u001b[39m]]\n\u001b[1;32m   1266\u001b[0m writer \u001b[38;5;241m=\u001b[39m Writer(codec\u001b[38;5;241m=\u001b[39m\u001b[38;5;124m'\u001b[39m\u001b[38;5;124mh264\u001b[39m\u001b[38;5;124m'\u001b[39m,\n\u001b[1;32m   1267\u001b[0m                 bitrate\u001b[38;5;241m=\u001b[39mmpl\u001b[38;5;241m.\u001b[39mrcParams[\u001b[38;5;124m'\u001b[39m\u001b[38;5;124manimation.bitrate\u001b[39m\u001b[38;5;124m'\u001b[39m],\n\u001b[1;32m   1268\u001b[0m                 fps\u001b[38;5;241m=\u001b[39m\u001b[38;5;241m1000.\u001b[39m \u001b[38;5;241m/\u001b[39m \u001b[38;5;28mself\u001b[39m\u001b[38;5;241m.\u001b[39m_interval)\n\u001b[0;32m-> 1269\u001b[0m \u001b[38;5;28;43mself\u001b[39;49m\u001b[38;5;241;43m.\u001b[39;49m\u001b[43msave\u001b[49m\u001b[43m(\u001b[49m\u001b[38;5;28;43mstr\u001b[39;49m\u001b[43m(\u001b[49m\u001b[43mpath\u001b[49m\u001b[43m)\u001b[49m\u001b[43m,\u001b[49m\u001b[43m \u001b[49m\u001b[43mwriter\u001b[49m\u001b[38;5;241;43m=\u001b[39;49m\u001b[43mwriter\u001b[49m\u001b[43m)\u001b[49m\n\u001b[1;32m   1270\u001b[0m \u001b[38;5;66;03m# Now open and base64 encode.\u001b[39;00m\n\u001b[1;32m   1271\u001b[0m vid64 \u001b[38;5;241m=\u001b[39m base64\u001b[38;5;241m.\u001b[39mencodebytes(path\u001b[38;5;241m.\u001b[39mread_bytes())\n",
      "File \u001b[0;32m~/Documents/Complex-Classical-Systems/.ccs-env/lib/python3.12/site-packages/matplotlib/animation.py:1085\u001b[0m, in \u001b[0;36mAnimation.save\u001b[0;34m(self, filename, writer, fps, dpi, codec, bitrate, extra_args, metadata, extra_anim, savefig_kwargs, progress_callback)\u001b[0m\n\u001b[1;32m   1082\u001b[0m \u001b[38;5;28;01mfor\u001b[39;00m data \u001b[38;5;129;01min\u001b[39;00m \u001b[38;5;28mzip\u001b[39m(\u001b[38;5;241m*\u001b[39m[a\u001b[38;5;241m.\u001b[39mnew_saved_frame_seq() \u001b[38;5;28;01mfor\u001b[39;00m a \u001b[38;5;129;01min\u001b[39;00m all_anim]):\n\u001b[1;32m   1083\u001b[0m     \u001b[38;5;28;01mfor\u001b[39;00m anim, d \u001b[38;5;129;01min\u001b[39;00m \u001b[38;5;28mzip\u001b[39m(all_anim, data):\n\u001b[1;32m   1084\u001b[0m         \u001b[38;5;66;03m# TODO: See if turning off blit is really necessary\u001b[39;00m\n\u001b[0;32m-> 1085\u001b[0m         \u001b[43manim\u001b[49m\u001b[38;5;241;43m.\u001b[39;49m\u001b[43m_draw_next_frame\u001b[49m\u001b[43m(\u001b[49m\u001b[43md\u001b[49m\u001b[43m,\u001b[49m\u001b[43m \u001b[49m\u001b[43mblit\u001b[49m\u001b[38;5;241;43m=\u001b[39;49m\u001b[38;5;28;43;01mFalse\u001b[39;49;00m\u001b[43m)\u001b[49m\n\u001b[1;32m   1086\u001b[0m         \u001b[38;5;28;01mif\u001b[39;00m progress_callback \u001b[38;5;129;01mis\u001b[39;00m \u001b[38;5;129;01mnot\u001b[39;00m \u001b[38;5;28;01mNone\u001b[39;00m:\n\u001b[1;32m   1087\u001b[0m             progress_callback(frame_number, total_frames)\n",
      "File \u001b[0;32m~/Documents/Complex-Classical-Systems/.ccs-env/lib/python3.12/site-packages/matplotlib/animation.py:1121\u001b[0m, in \u001b[0;36mAnimation._draw_next_frame\u001b[0;34m(self, framedata, blit)\u001b[0m\n\u001b[1;32m   1119\u001b[0m \u001b[38;5;28mself\u001b[39m\u001b[38;5;241m.\u001b[39m_pre_draw(framedata, blit)\n\u001b[1;32m   1120\u001b[0m \u001b[38;5;28mself\u001b[39m\u001b[38;5;241m.\u001b[39m_draw_frame(framedata)\n\u001b[0;32m-> 1121\u001b[0m \u001b[38;5;28;43mself\u001b[39;49m\u001b[38;5;241;43m.\u001b[39;49m\u001b[43m_post_draw\u001b[49m\u001b[43m(\u001b[49m\u001b[43mframedata\u001b[49m\u001b[43m,\u001b[49m\u001b[43m \u001b[49m\u001b[43mblit\u001b[49m\u001b[43m)\u001b[49m\n",
      "File \u001b[0;32m~/Documents/Complex-Classical-Systems/.ccs-env/lib/python3.12/site-packages/matplotlib/animation.py:1146\u001b[0m, in \u001b[0;36mAnimation._post_draw\u001b[0;34m(self, framedata, blit)\u001b[0m\n\u001b[1;32m   1144\u001b[0m     \u001b[38;5;28mself\u001b[39m\u001b[38;5;241m.\u001b[39m_blit_draw(\u001b[38;5;28mself\u001b[39m\u001b[38;5;241m.\u001b[39m_drawn_artists)\n\u001b[1;32m   1145\u001b[0m \u001b[38;5;28;01melse\u001b[39;00m:\n\u001b[0;32m-> 1146\u001b[0m     \u001b[38;5;28;43mself\u001b[39;49m\u001b[38;5;241;43m.\u001b[39;49m\u001b[43m_fig\u001b[49m\u001b[38;5;241;43m.\u001b[39;49m\u001b[43mcanvas\u001b[49m\u001b[38;5;241;43m.\u001b[39;49m\u001b[43mdraw_idle\u001b[49m\u001b[43m(\u001b[49m\u001b[43m)\u001b[49m\n",
      "File \u001b[0;32m~/Documents/Complex-Classical-Systems/.ccs-env/lib/python3.12/site-packages/matplotlib/backend_bases.py:1905\u001b[0m, in \u001b[0;36mFigureCanvasBase.draw_idle\u001b[0;34m(self, *args, **kwargs)\u001b[0m\n\u001b[1;32m   1903\u001b[0m \u001b[38;5;28;01mif\u001b[39;00m \u001b[38;5;129;01mnot\u001b[39;00m \u001b[38;5;28mself\u001b[39m\u001b[38;5;241m.\u001b[39m_is_idle_drawing:\n\u001b[1;32m   1904\u001b[0m     \u001b[38;5;28;01mwith\u001b[39;00m \u001b[38;5;28mself\u001b[39m\u001b[38;5;241m.\u001b[39m_idle_draw_cntx():\n\u001b[0;32m-> 1905\u001b[0m         \u001b[38;5;28;43mself\u001b[39;49m\u001b[38;5;241;43m.\u001b[39;49m\u001b[43mdraw\u001b[49m\u001b[43m(\u001b[49m\u001b[38;5;241;43m*\u001b[39;49m\u001b[43margs\u001b[49m\u001b[43m,\u001b[49m\u001b[43m \u001b[49m\u001b[38;5;241;43m*\u001b[39;49m\u001b[38;5;241;43m*\u001b[39;49m\u001b[43mkwargs\u001b[49m\u001b[43m)\u001b[49m\n",
      "File \u001b[0;32m~/Documents/Complex-Classical-Systems/.ccs-env/lib/python3.12/site-packages/matplotlib/backends/backend_agg.py:387\u001b[0m, in \u001b[0;36mFigureCanvasAgg.draw\u001b[0;34m(self)\u001b[0m\n\u001b[1;32m    384\u001b[0m \u001b[38;5;66;03m# Acquire a lock on the shared font cache.\u001b[39;00m\n\u001b[1;32m    385\u001b[0m \u001b[38;5;28;01mwith\u001b[39;00m (\u001b[38;5;28mself\u001b[39m\u001b[38;5;241m.\u001b[39mtoolbar\u001b[38;5;241m.\u001b[39m_wait_cursor_for_draw_cm() \u001b[38;5;28;01mif\u001b[39;00m \u001b[38;5;28mself\u001b[39m\u001b[38;5;241m.\u001b[39mtoolbar\n\u001b[1;32m    386\u001b[0m       \u001b[38;5;28;01melse\u001b[39;00m nullcontext()):\n\u001b[0;32m--> 387\u001b[0m     \u001b[38;5;28;43mself\u001b[39;49m\u001b[38;5;241;43m.\u001b[39;49m\u001b[43mfigure\u001b[49m\u001b[38;5;241;43m.\u001b[39;49m\u001b[43mdraw\u001b[49m\u001b[43m(\u001b[49m\u001b[38;5;28;43mself\u001b[39;49m\u001b[38;5;241;43m.\u001b[39;49m\u001b[43mrenderer\u001b[49m\u001b[43m)\u001b[49m\n\u001b[1;32m    388\u001b[0m     \u001b[38;5;66;03m# A GUI class may be need to update a window using this draw, so\u001b[39;00m\n\u001b[1;32m    389\u001b[0m     \u001b[38;5;66;03m# don't forget to call the superclass.\u001b[39;00m\n\u001b[1;32m    390\u001b[0m     \u001b[38;5;28msuper\u001b[39m()\u001b[38;5;241m.\u001b[39mdraw()\n",
      "File \u001b[0;32m~/Documents/Complex-Classical-Systems/.ccs-env/lib/python3.12/site-packages/matplotlib/artist.py:95\u001b[0m, in \u001b[0;36m_finalize_rasterization.<locals>.draw_wrapper\u001b[0;34m(artist, renderer, *args, **kwargs)\u001b[0m\n\u001b[1;32m     93\u001b[0m \u001b[38;5;129m@wraps\u001b[39m(draw)\n\u001b[1;32m     94\u001b[0m \u001b[38;5;28;01mdef\u001b[39;00m \u001b[38;5;21mdraw_wrapper\u001b[39m(artist, renderer, \u001b[38;5;241m*\u001b[39margs, \u001b[38;5;241m*\u001b[39m\u001b[38;5;241m*\u001b[39mkwargs):\n\u001b[0;32m---> 95\u001b[0m     result \u001b[38;5;241m=\u001b[39m \u001b[43mdraw\u001b[49m\u001b[43m(\u001b[49m\u001b[43martist\u001b[49m\u001b[43m,\u001b[49m\u001b[43m \u001b[49m\u001b[43mrenderer\u001b[49m\u001b[43m,\u001b[49m\u001b[43m \u001b[49m\u001b[38;5;241;43m*\u001b[39;49m\u001b[43margs\u001b[49m\u001b[43m,\u001b[49m\u001b[43m \u001b[49m\u001b[38;5;241;43m*\u001b[39;49m\u001b[38;5;241;43m*\u001b[39;49m\u001b[43mkwargs\u001b[49m\u001b[43m)\u001b[49m\n\u001b[1;32m     96\u001b[0m     \u001b[38;5;28;01mif\u001b[39;00m renderer\u001b[38;5;241m.\u001b[39m_rasterizing:\n\u001b[1;32m     97\u001b[0m         renderer\u001b[38;5;241m.\u001b[39mstop_rasterizing()\n",
      "File \u001b[0;32m~/Documents/Complex-Classical-Systems/.ccs-env/lib/python3.12/site-packages/matplotlib/artist.py:72\u001b[0m, in \u001b[0;36mallow_rasterization.<locals>.draw_wrapper\u001b[0;34m(artist, renderer)\u001b[0m\n\u001b[1;32m     69\u001b[0m     \u001b[38;5;28;01mif\u001b[39;00m artist\u001b[38;5;241m.\u001b[39mget_agg_filter() \u001b[38;5;129;01mis\u001b[39;00m \u001b[38;5;129;01mnot\u001b[39;00m \u001b[38;5;28;01mNone\u001b[39;00m:\n\u001b[1;32m     70\u001b[0m         renderer\u001b[38;5;241m.\u001b[39mstart_filter()\n\u001b[0;32m---> 72\u001b[0m     \u001b[38;5;28;01mreturn\u001b[39;00m \u001b[43mdraw\u001b[49m\u001b[43m(\u001b[49m\u001b[43martist\u001b[49m\u001b[43m,\u001b[49m\u001b[43m \u001b[49m\u001b[43mrenderer\u001b[49m\u001b[43m)\u001b[49m\n\u001b[1;32m     73\u001b[0m \u001b[38;5;28;01mfinally\u001b[39;00m:\n\u001b[1;32m     74\u001b[0m     \u001b[38;5;28;01mif\u001b[39;00m artist\u001b[38;5;241m.\u001b[39mget_agg_filter() \u001b[38;5;129;01mis\u001b[39;00m \u001b[38;5;129;01mnot\u001b[39;00m \u001b[38;5;28;01mNone\u001b[39;00m:\n",
      "File \u001b[0;32m~/Documents/Complex-Classical-Systems/.ccs-env/lib/python3.12/site-packages/matplotlib/figure.py:3162\u001b[0m, in \u001b[0;36mFigure.draw\u001b[0;34m(self, renderer)\u001b[0m\n\u001b[1;32m   3159\u001b[0m             \u001b[38;5;66;03m# ValueError can occur when resizing a window.\u001b[39;00m\n\u001b[1;32m   3161\u001b[0m     \u001b[38;5;28mself\u001b[39m\u001b[38;5;241m.\u001b[39mpatch\u001b[38;5;241m.\u001b[39mdraw(renderer)\n\u001b[0;32m-> 3162\u001b[0m     \u001b[43mmimage\u001b[49m\u001b[38;5;241;43m.\u001b[39;49m\u001b[43m_draw_list_compositing_images\u001b[49m\u001b[43m(\u001b[49m\n\u001b[1;32m   3163\u001b[0m \u001b[43m        \u001b[49m\u001b[43mrenderer\u001b[49m\u001b[43m,\u001b[49m\u001b[43m \u001b[49m\u001b[38;5;28;43mself\u001b[39;49m\u001b[43m,\u001b[49m\u001b[43m \u001b[49m\u001b[43martists\u001b[49m\u001b[43m,\u001b[49m\u001b[43m \u001b[49m\u001b[38;5;28;43mself\u001b[39;49m\u001b[38;5;241;43m.\u001b[39;49m\u001b[43msuppressComposite\u001b[49m\u001b[43m)\u001b[49m\n\u001b[1;32m   3165\u001b[0m     renderer\u001b[38;5;241m.\u001b[39mclose_group(\u001b[38;5;124m'\u001b[39m\u001b[38;5;124mfigure\u001b[39m\u001b[38;5;124m'\u001b[39m)\n\u001b[1;32m   3166\u001b[0m \u001b[38;5;28;01mfinally\u001b[39;00m:\n",
      "File \u001b[0;32m~/Documents/Complex-Classical-Systems/.ccs-env/lib/python3.12/site-packages/matplotlib/image.py:132\u001b[0m, in \u001b[0;36m_draw_list_compositing_images\u001b[0;34m(renderer, parent, artists, suppress_composite)\u001b[0m\n\u001b[1;32m    130\u001b[0m \u001b[38;5;28;01mif\u001b[39;00m not_composite \u001b[38;5;129;01mor\u001b[39;00m \u001b[38;5;129;01mnot\u001b[39;00m has_images:\n\u001b[1;32m    131\u001b[0m     \u001b[38;5;28;01mfor\u001b[39;00m a \u001b[38;5;129;01min\u001b[39;00m artists:\n\u001b[0;32m--> 132\u001b[0m         \u001b[43ma\u001b[49m\u001b[38;5;241;43m.\u001b[39;49m\u001b[43mdraw\u001b[49m\u001b[43m(\u001b[49m\u001b[43mrenderer\u001b[49m\u001b[43m)\u001b[49m\n\u001b[1;32m    133\u001b[0m \u001b[38;5;28;01melse\u001b[39;00m:\n\u001b[1;32m    134\u001b[0m     \u001b[38;5;66;03m# Composite any adjacent images together\u001b[39;00m\n\u001b[1;32m    135\u001b[0m     image_group \u001b[38;5;241m=\u001b[39m []\n",
      "File \u001b[0;32m~/Documents/Complex-Classical-Systems/.ccs-env/lib/python3.12/site-packages/matplotlib/artist.py:72\u001b[0m, in \u001b[0;36mallow_rasterization.<locals>.draw_wrapper\u001b[0;34m(artist, renderer)\u001b[0m\n\u001b[1;32m     69\u001b[0m     \u001b[38;5;28;01mif\u001b[39;00m artist\u001b[38;5;241m.\u001b[39mget_agg_filter() \u001b[38;5;129;01mis\u001b[39;00m \u001b[38;5;129;01mnot\u001b[39;00m \u001b[38;5;28;01mNone\u001b[39;00m:\n\u001b[1;32m     70\u001b[0m         renderer\u001b[38;5;241m.\u001b[39mstart_filter()\n\u001b[0;32m---> 72\u001b[0m     \u001b[38;5;28;01mreturn\u001b[39;00m \u001b[43mdraw\u001b[49m\u001b[43m(\u001b[49m\u001b[43martist\u001b[49m\u001b[43m,\u001b[49m\u001b[43m \u001b[49m\u001b[43mrenderer\u001b[49m\u001b[43m)\u001b[49m\n\u001b[1;32m     73\u001b[0m \u001b[38;5;28;01mfinally\u001b[39;00m:\n\u001b[1;32m     74\u001b[0m     \u001b[38;5;28;01mif\u001b[39;00m artist\u001b[38;5;241m.\u001b[39mget_agg_filter() \u001b[38;5;129;01mis\u001b[39;00m \u001b[38;5;129;01mnot\u001b[39;00m \u001b[38;5;28;01mNone\u001b[39;00m:\n",
      "File \u001b[0;32m~/Documents/Complex-Classical-Systems/.ccs-env/lib/python3.12/site-packages/matplotlib/axes/_base.py:3137\u001b[0m, in \u001b[0;36m_AxesBase.draw\u001b[0;34m(self, renderer)\u001b[0m\n\u001b[1;32m   3134\u001b[0m \u001b[38;5;28;01mif\u001b[39;00m artists_rasterized:\n\u001b[1;32m   3135\u001b[0m     _draw_rasterized(\u001b[38;5;28mself\u001b[39m\u001b[38;5;241m.\u001b[39mfigure, artists_rasterized, renderer)\n\u001b[0;32m-> 3137\u001b[0m \u001b[43mmimage\u001b[49m\u001b[38;5;241;43m.\u001b[39;49m\u001b[43m_draw_list_compositing_images\u001b[49m\u001b[43m(\u001b[49m\n\u001b[1;32m   3138\u001b[0m \u001b[43m    \u001b[49m\u001b[43mrenderer\u001b[49m\u001b[43m,\u001b[49m\u001b[43m \u001b[49m\u001b[38;5;28;43mself\u001b[39;49m\u001b[43m,\u001b[49m\u001b[43m \u001b[49m\u001b[43martists\u001b[49m\u001b[43m,\u001b[49m\u001b[43m \u001b[49m\u001b[38;5;28;43mself\u001b[39;49m\u001b[38;5;241;43m.\u001b[39;49m\u001b[43mfigure\u001b[49m\u001b[38;5;241;43m.\u001b[39;49m\u001b[43msuppressComposite\u001b[49m\u001b[43m)\u001b[49m\n\u001b[1;32m   3140\u001b[0m renderer\u001b[38;5;241m.\u001b[39mclose_group(\u001b[38;5;124m'\u001b[39m\u001b[38;5;124maxes\u001b[39m\u001b[38;5;124m'\u001b[39m)\n\u001b[1;32m   3141\u001b[0m \u001b[38;5;28mself\u001b[39m\u001b[38;5;241m.\u001b[39mstale \u001b[38;5;241m=\u001b[39m \u001b[38;5;28;01mFalse\u001b[39;00m\n",
      "File \u001b[0;32m~/Documents/Complex-Classical-Systems/.ccs-env/lib/python3.12/site-packages/matplotlib/image.py:132\u001b[0m, in \u001b[0;36m_draw_list_compositing_images\u001b[0;34m(renderer, parent, artists, suppress_composite)\u001b[0m\n\u001b[1;32m    130\u001b[0m \u001b[38;5;28;01mif\u001b[39;00m not_composite \u001b[38;5;129;01mor\u001b[39;00m \u001b[38;5;129;01mnot\u001b[39;00m has_images:\n\u001b[1;32m    131\u001b[0m     \u001b[38;5;28;01mfor\u001b[39;00m a \u001b[38;5;129;01min\u001b[39;00m artists:\n\u001b[0;32m--> 132\u001b[0m         \u001b[43ma\u001b[49m\u001b[38;5;241;43m.\u001b[39;49m\u001b[43mdraw\u001b[49m\u001b[43m(\u001b[49m\u001b[43mrenderer\u001b[49m\u001b[43m)\u001b[49m\n\u001b[1;32m    133\u001b[0m \u001b[38;5;28;01melse\u001b[39;00m:\n\u001b[1;32m    134\u001b[0m     \u001b[38;5;66;03m# Composite any adjacent images together\u001b[39;00m\n\u001b[1;32m    135\u001b[0m     image_group \u001b[38;5;241m=\u001b[39m []\n",
      "File \u001b[0;32m~/Documents/Complex-Classical-Systems/.ccs-env/lib/python3.12/site-packages/matplotlib/artist.py:72\u001b[0m, in \u001b[0;36mallow_rasterization.<locals>.draw_wrapper\u001b[0;34m(artist, renderer)\u001b[0m\n\u001b[1;32m     69\u001b[0m     \u001b[38;5;28;01mif\u001b[39;00m artist\u001b[38;5;241m.\u001b[39mget_agg_filter() \u001b[38;5;129;01mis\u001b[39;00m \u001b[38;5;129;01mnot\u001b[39;00m \u001b[38;5;28;01mNone\u001b[39;00m:\n\u001b[1;32m     70\u001b[0m         renderer\u001b[38;5;241m.\u001b[39mstart_filter()\n\u001b[0;32m---> 72\u001b[0m     \u001b[38;5;28;01mreturn\u001b[39;00m \u001b[43mdraw\u001b[49m\u001b[43m(\u001b[49m\u001b[43martist\u001b[49m\u001b[43m,\u001b[49m\u001b[43m \u001b[49m\u001b[43mrenderer\u001b[49m\u001b[43m)\u001b[49m\n\u001b[1;32m     73\u001b[0m \u001b[38;5;28;01mfinally\u001b[39;00m:\n\u001b[1;32m     74\u001b[0m     \u001b[38;5;28;01mif\u001b[39;00m artist\u001b[38;5;241m.\u001b[39mget_agg_filter() \u001b[38;5;129;01mis\u001b[39;00m \u001b[38;5;129;01mnot\u001b[39;00m \u001b[38;5;28;01mNone\u001b[39;00m:\n",
      "File \u001b[0;32m~/Documents/Complex-Classical-Systems/.ccs-env/lib/python3.12/site-packages/matplotlib/collections.py:1005\u001b[0m, in \u001b[0;36m_CollectionWithSizes.draw\u001b[0;34m(self, renderer)\u001b[0m\n\u001b[1;32m   1002\u001b[0m \u001b[38;5;129m@artist\u001b[39m\u001b[38;5;241m.\u001b[39mallow_rasterization\n\u001b[1;32m   1003\u001b[0m \u001b[38;5;28;01mdef\u001b[39;00m \u001b[38;5;21mdraw\u001b[39m(\u001b[38;5;28mself\u001b[39m, renderer):\n\u001b[1;32m   1004\u001b[0m     \u001b[38;5;28mself\u001b[39m\u001b[38;5;241m.\u001b[39mset_sizes(\u001b[38;5;28mself\u001b[39m\u001b[38;5;241m.\u001b[39m_sizes, \u001b[38;5;28mself\u001b[39m\u001b[38;5;241m.\u001b[39mfigure\u001b[38;5;241m.\u001b[39mdpi)\n\u001b[0;32m-> 1005\u001b[0m     \u001b[38;5;28;43msuper\u001b[39;49m\u001b[43m(\u001b[49m\u001b[43m)\u001b[49m\u001b[38;5;241;43m.\u001b[39;49m\u001b[43mdraw\u001b[49m\u001b[43m(\u001b[49m\u001b[43mrenderer\u001b[49m\u001b[43m)\u001b[49m\n",
      "File \u001b[0;32m~/Documents/Complex-Classical-Systems/.ccs-env/lib/python3.12/site-packages/matplotlib/artist.py:72\u001b[0m, in \u001b[0;36mallow_rasterization.<locals>.draw_wrapper\u001b[0;34m(artist, renderer)\u001b[0m\n\u001b[1;32m     69\u001b[0m     \u001b[38;5;28;01mif\u001b[39;00m artist\u001b[38;5;241m.\u001b[39mget_agg_filter() \u001b[38;5;129;01mis\u001b[39;00m \u001b[38;5;129;01mnot\u001b[39;00m \u001b[38;5;28;01mNone\u001b[39;00m:\n\u001b[1;32m     70\u001b[0m         renderer\u001b[38;5;241m.\u001b[39mstart_filter()\n\u001b[0;32m---> 72\u001b[0m     \u001b[38;5;28;01mreturn\u001b[39;00m \u001b[43mdraw\u001b[49m\u001b[43m(\u001b[49m\u001b[43martist\u001b[49m\u001b[43m,\u001b[49m\u001b[43m \u001b[49m\u001b[43mrenderer\u001b[49m\u001b[43m)\u001b[49m\n\u001b[1;32m     73\u001b[0m \u001b[38;5;28;01mfinally\u001b[39;00m:\n\u001b[1;32m     74\u001b[0m     \u001b[38;5;28;01mif\u001b[39;00m artist\u001b[38;5;241m.\u001b[39mget_agg_filter() \u001b[38;5;129;01mis\u001b[39;00m \u001b[38;5;129;01mnot\u001b[39;00m \u001b[38;5;28;01mNone\u001b[39;00m:\n",
      "File \u001b[0;32m~/Documents/Complex-Classical-Systems/.ccs-env/lib/python3.12/site-packages/matplotlib/collections.py:411\u001b[0m, in \u001b[0;36mCollection.draw\u001b[0;34m(self, renderer)\u001b[0m\n\u001b[1;32m    409\u001b[0m     gc\u001b[38;5;241m.\u001b[39mset_antialiased(\u001b[38;5;28mself\u001b[39m\u001b[38;5;241m.\u001b[39m_antialiaseds[\u001b[38;5;241m0\u001b[39m])\n\u001b[1;32m    410\u001b[0m     gc\u001b[38;5;241m.\u001b[39mset_url(\u001b[38;5;28mself\u001b[39m\u001b[38;5;241m.\u001b[39m_urls[\u001b[38;5;241m0\u001b[39m])\n\u001b[0;32m--> 411\u001b[0m     \u001b[43mrenderer\u001b[49m\u001b[38;5;241;43m.\u001b[39;49m\u001b[43mdraw_markers\u001b[49m\u001b[43m(\u001b[49m\n\u001b[1;32m    412\u001b[0m \u001b[43m        \u001b[49m\u001b[43mgc\u001b[49m\u001b[43m,\u001b[49m\u001b[43m \u001b[49m\u001b[43mpaths\u001b[49m\u001b[43m[\u001b[49m\u001b[38;5;241;43m0\u001b[39;49m\u001b[43m]\u001b[49m\u001b[43m,\u001b[49m\u001b[43m \u001b[49m\u001b[43mcombined_transform\u001b[49m\u001b[38;5;241;43m.\u001b[39;49m\u001b[43mfrozen\u001b[49m\u001b[43m(\u001b[49m\u001b[43m)\u001b[49m\u001b[43m,\u001b[49m\n\u001b[1;32m    413\u001b[0m \u001b[43m        \u001b[49m\u001b[43mmpath\u001b[49m\u001b[38;5;241;43m.\u001b[39;49m\u001b[43mPath\u001b[49m\u001b[43m(\u001b[49m\u001b[43moffsets\u001b[49m\u001b[43m)\u001b[49m\u001b[43m,\u001b[49m\u001b[43m \u001b[49m\u001b[43moffset_trf\u001b[49m\u001b[43m,\u001b[49m\u001b[43m \u001b[49m\u001b[38;5;28;43mtuple\u001b[39;49m\u001b[43m(\u001b[49m\u001b[43mfacecolors\u001b[49m\u001b[43m[\u001b[49m\u001b[38;5;241;43m0\u001b[39;49m\u001b[43m]\u001b[49m\u001b[43m)\u001b[49m\u001b[43m)\u001b[49m\n\u001b[1;32m    414\u001b[0m \u001b[38;5;28;01melse\u001b[39;00m:\n\u001b[1;32m    415\u001b[0m     \u001b[38;5;28;01mif\u001b[39;00m \u001b[38;5;28mself\u001b[39m\u001b[38;5;241m.\u001b[39m_gapcolor \u001b[38;5;129;01mis\u001b[39;00m \u001b[38;5;129;01mnot\u001b[39;00m \u001b[38;5;28;01mNone\u001b[39;00m:\n\u001b[1;32m    416\u001b[0m         \u001b[38;5;66;03m# First draw paths within the gaps.\u001b[39;00m\n",
      "\u001b[0;31mKeyboardInterrupt\u001b[0m: "
     ]
    },
    {
     "data": {
      "image/png": "[encoded data removed]",
      "text/plain": [
       "<Figure size 640x480 with 1 Axes>"
      ]
     },
     "metadata": {},
     "output_type": "display_data"
    }
   ],
   "source": [
    "# data= simulate(\n",
    "#         particles=particels\n",
    "#         time=TIME_STEPS,  # timesteps\n",
    "#         dt=DT,  # ns\n",
    "#         box=BOX,  \n",
    "#         data=data  # Time, phase-space pp, particles\n",
    "#     )\n",
    "\n",
    "print(\"Simulation done!\")\n",
    "\n",
    "mp4_SD = creat_animation(True, \"steepest_decent_jitter\", BOX,x_data=x,y_data=y)\n",
    "HTML(mp4_SD.to_html5_video())\n",
    "\n",
    "#mp4 = creat_animation(SAVE_MP4, \"sheet02-animation_init-acc-jitter1\",BOX, data[:,0,:],data[:,1,:])  \n",
    "#HTML(mp4.to_html5_video())"
   ]
  },
  {
   "cell_type": "markdown",
   "metadata": {},
   "source": [
    "* Analysis of Energies"
   ]
  },
  {
   "cell_type": "code",
   "execution_count": null,
   "metadata": {},
   "outputs": [],
   "source": [
    "plot_name=\"\"\n",
    "\n",
    "# timestep_array=np.arange(time_steps) * dt\n",
    "# e_kin = kinetic_Energy(data[:,2,:],data[:,3,:],paritcle_mass)\n",
    "# e_pot = potential_Energy(data[:,0,:], data[:,1,:],box)\n",
    "# temperature = temperature_curve(len(box),e_kin, n_particles)\n",
    "# \n",
    "# fig, axs = plt.subplots(1, 2, sharey=False, tight_layout=False)\n",
    "# \n",
    "# set_cutoff= 20000\n",
    "# axs[0].plot(timestep_array[:set_cutoff], e_kin[:set_cutoff],label=\"kin.\")\n",
    "# axs[0].plot(timestep_array[:set_cutoff], -e_pot[:set_cutoff],label=\"pot.\")\n",
    "# axs[1].plot(timestep_array[:set_cutoff], temperature[:set_cutoff], label=\"temp.\")\n",
    "# axs[0].set_xlabel('time [ns]')   \n",
    "# axs[1].set_xlabel('time [ns]')\n",
    "# axs[0].set_ylabel('Energy in [J]')  # find correct units of energy\n",
    "# axs[1].set_ylabel('T in [K]') \n",
    "# axs[0].set_title('Energies')\n",
    "# axs[1].set_title('Temperature')\n",
    "# axs[0].legend()\n",
    "# axs[1].legend()\n",
    "# plt.savefig(plot_name+\".png\")\n",
    "# plt.close()\n",
    "\n",
    "\n"
   ]
  },
  {
   "cell_type": "code",
   "execution_count": null,
   "metadata": {},
   "outputs": [],
   "source": [
    "# plt.scatter(data[0,0,:],data[0,1,:])\n",
    "# plt.title(\"initialisation with jitter\")\n",
    "# plt.ylabel(\"y [nm]\")\n",
    "# plt.xlabel(\"x [nm]\")\n",
    "# plt.savefig(\"sheet02-jitterinit\")\n",
    "# plt.close()"
   ]
  },
  {
   "cell_type": "code",
   "execution_count": null,
   "metadata": {},
   "outputs": [],
   "source": []
  }
 ],
 "metadata": {
  "kernelspec": {
   "display_name": ".ccs-env",
   "language": "python",
   "name": "python3"
  },
  "language_info": {
   "codemirror_mode": {
    "name": "ipython",
    "version": 3
   },
   "file_extension": ".py",
   "mimetype": "text/x-python",
   "name": "python",
   "nbconvert_exporter": "python",
   "pygments_lexer": "ipython3",
   "version": "3.12.3"
  }
 },
 "nbformat": 4,
 "nbformat_minor": 2
}
