{
 "cells": [
  {
   "cell_type": "markdown",
   "metadata": {},
   "source": [
    "# Sheet 02\n",
    "This is the implementation of Sheet 02 of Awais Ahmed and Dominic Nieder."
   ]
  },
  {
   "cell_type": "code",
   "execution_count": 242,
   "metadata": {},
   "outputs": [],
   "source": [
    "from numpy.typing import NDArray  # trying to be typesafe\n",
    "import numpy as np  # needed all over the place\n",
    "from IPython.display import HTML # in line animations\n",
    "\n",
    "import matplotlib.pyplot as plt  # for plots\n",
    "\n",
    "from matplotlib import colors  # not quite sure what fore\n",
    "from matplotlib.ticker import PercentFormatter  # also not sure, maybe animation..?\n",
    "from matplotlib.animation import FuncAnimation, FFMpegWriter  # for animations"
   ]
  },
  {
   "cell_type": "markdown",
   "metadata": {},
   "source": [
    "### Particle\n",
    "* creating \"Particle\" class, containing all the information of all particle positions, velocities, mass and accellerations as well as interaction potential (all the object of class \"Particle\" shall interact by a Lennard-Jones Potential)"
   ]
  },
  {
   "cell_type": "code",
   "execution_count": 243,
   "metadata": {},
   "outputs": [],
   "source": [
    "class Particle:\n",
    "    def __init__(\n",
    "        self,\n",
    "        n: int,\n",
    "        m: float | int,\n",
    "        x: NDArray[np.float64],\n",
    "        y: NDArray[np.float64],\n",
    "        vx: NDArray[np.float64],\n",
    "        vy: NDArray[np.float64],\n",
    "    ):\n",
    "        self.n: int = n\n",
    "        self.m: float = float(m)\n",
    "        self.x: NDArray[np.float64] = np.array(x, dtype=np.float64)\n",
    "        self.y: NDArray[np.float64] = np.array(y, dtype=np.float64)\n",
    "        self.vx: NDArray[np.float64] = np.array(vx, dtype=np.float64)\n",
    "        self.vy: NDArray[np.float64] = np.array(vy, dtype=np.float64)\n",
    "        self.ax1: NDArray[np.float64] = np.zeros(n, dtype=np.float64)\n",
    "        self.ay1: NDArray[np.float64] = np.zeros(n, dtype=np.float64)\n",
    "        self.ax2: NDArray[np.float64] = np.zeros(n, dtype=np.float64)\n",
    "        self.ay2: NDArray[np.float64] = np.zeros(n, dtype=np.float64)\n",
    "\n",
    "        \n",
    "    def __repr__(self):\n",
    "        return f\"This is a particle at {self.x[0]}, {self.y[0]} with v={self.vx[0]},{self.vy[0]} interacting by Lennard-Jones potential.\""
   ]
  },
  {
   "cell_type": "markdown",
   "metadata": {},
   "source": [
    "### Initialisation of particles \n",
    "* initialisation on a grid with radom velocity:\n",
    "* issues pending!"
   ]
  },
  {
   "cell_type": "code",
   "execution_count": 244,
   "metadata": {},
   "outputs": [],
   "source": [
    "def initialize_particles_on_grid(\n",
    "    n_particles: int, \n",
    "    box: tuple[float|int, float|int], \n",
    "    mass: float, \n",
    "    velocity: float,\n",
    "    add_jitter: bool\n",
    ") -> Particle:\n",
    "    \"\"\"\n",
    "    Particles a regular grid within a given spacing.\\n\n",
    "    Random velocity directions. \\n\n",
    "    Returns: Particle with initialized positions and velocities. \n",
    "    \"\"\"\n",
    "    x_return = np.zeros(n_particles)\n",
    "    y_return = np.zeros(n_particles)\n",
    "    grid_sections = int(np.ceil(np.sqrt(n_particles)))  # find the number of colums & rows\n",
    "\n",
    "    # even spacing\n",
    "    x_spacing = box[0]/grid_sections \n",
    "    y_spacing = box[1]/grid_sections\n",
    "    \n",
    "    # makes grid coordinates\n",
    "    x_positions, y_positions = np.meshgrid(\n",
    "        np.arange(grid_sections) * x_spacing, \n",
    "        np.arange(grid_sections) * y_spacing\n",
    "    )\n",
    "    \n",
    "    # take n paricles out of the grid\n",
    "    x_return = x_positions.flatten()[:n_particles]\n",
    "    y_return = y_positions.flatten()[:n_particles]\n",
    "\n",
    "    # adding the possibility to a a jitter to the \"particle grid\" -> What are the effects of jitter to energy init?\n",
    "    if add_jitter:\n",
    "        x_positions += (np.random.rand(len(x_positions))-0.5)\n",
    "        y_positions += (np.random.rand(len(y_positions))-0.5)\n",
    "        \n",
    "    # Initialize velocities \n",
    "    vx = velocity * (np.random.rand(n_particles) - 0.5) * 2\n",
    "    vy = velocity * (np.random.rand(n_particles) - 0.5) * 2\n",
    "\n",
    "    # check initialisation\n",
    "    # plt.scatter(x_return,y_return)\n",
    "    # plt.ylabel(\"x [nm]\")\n",
    "    # plt.xlabel(\"y [nm]\")\n",
    "    # plt.title(\"Init positions of particles\")\n",
    "    # plt.savefig(\"initialisation.png\")\n",
    "    # plt.close()\n",
    "\n",
    "    # Create and return a Particle\n",
    "    return Particle(\n",
    "        n=n_particles,\n",
    "        m=mass,\n",
    "        x=x_return,\n",
    "        y=y_return,\n",
    "        vx=vx,\n",
    "        vy=vy\n",
    "    )"
   ]
  },
  {
   "cell_type": "markdown",
   "metadata": {},
   "source": [
    "### Forces and Potentials\n",
    "Lennard-Jones Potential and Force"
   ]
  },
  {
   "cell_type": "code",
   "execution_count": 245,
   "metadata": {},
   "outputs": [],
   "source": [
    "def lJ_potentil(\n",
    "        d12: float|NDArray[np.float64]\n",
    ") -> float|NDArray[np.float64]:\n",
    "    \"\"\"\n",
    "    Lennard Jones Potential\n",
    "    \"\"\"\n",
    "    c_12 = 9.847044*10**(-3)  #  J/mol\n",
    "    c_6 = 6.2647225           #  J/mol\n",
    "    return c_12/d12**12-c_6/d12**6\n",
    "\n",
    "def lj_force(\n",
    "        d12: float|int,\n",
    "        r12: NDArray[np.float64]\n",
    ") -> NDArray[np.float64]:\n",
    "    \"\"\"\n",
    "    Force by Lennard Jones interaction potential.\n",
    "    \"\"\"\n",
    "    c_12 = 9.847044*10**(-3)  # J/mol\n",
    "    c_6 = 6.2647225           # J/mol\n",
    "    return (12*c_12/d12**13-6*c_6/d12**7) * r12/d12"
   ]
  },
  {
   "cell_type": "markdown",
   "metadata": {},
   "source": [
    "### Nearest Neighbour search\n",
    "* the following functions allow for an appropriat nearest neighbour search"
   ]
  },
  {
   "cell_type": "code",
   "execution_count": 246,
   "metadata": {},
   "outputs": [],
   "source": [
    "def system_shift(\n",
    "        x: float,\n",
    "        box: float\n",
    ") -> NDArray[np.float64]:\n",
    "    \"\"\"\n",
    "    Calculating shift of one coordinate: S->S' of which p'=box/2\n",
    "    \"\"\"\n",
    "    return x-box/2\n",
    "\n",
    "\n",
    "def rel_coordiante(\n",
    "        r1: float,\n",
    "        r2: NDArray[np.float64],\n",
    "        box: float|int\n",
    ") -> NDArray[np.float64]:  \n",
    "    \"\"\" \n",
    "    Returns list(aroows):(r1->list(r2))(x|y), for vectorcomponent x or y.\n",
    "    \"\"\"\n",
    "    return (r2-system_shift(r1,box))%box - box/2\n",
    "    \n",
    "\n",
    "def distance(\n",
    "        x: float,\n",
    "        y: float\n",
    ") -> float:\n",
    "    \"\"\"\n",
    "    Takes relative ccordinates. \\n\n",
    "    Returns distance between two particles. \\n\\n\n",
    "    I somehow have to deal with the possibility of dividing by Zero. My idea is to set distance very large, so that the collision get \"ignored\".\n",
    "    \"\"\"\n",
    "    \n",
    "    a= np.sqrt(x*x+y*y)\n",
    "    if a != 0:\n",
    "        return a\n",
    "    else:\n",
    "        return 100000000"
   ]
  },
  {
   "cell_type": "markdown",
   "metadata": {},
   "source": [
    "### Velocity Verlet\n",
    "The next functions are all concerned about the integrations and getting all the accelerations by using the Lennard Jones foce field, that was implemented above.\n",
    "\n",
    "* integrating over positions"
   ]
  },
  {
   "cell_type": "code",
   "execution_count": 247,
   "metadata": {},
   "outputs": [],
   "source": [
    "### position update\n",
    "def integrate_position(\n",
    "        particles: Particle,\n",
    "        dt: float|int,\n",
    "        box: tuple[float|int, float|int]\n",
    ") -> None:\n",
    "    \"\"\"\n",
    "    Velocity Verlet: Updates positions of particles.\n",
    "    \"\"\"\n",
    "    dx = particles.vx*dt+particles.ax1*dt*dt/2\n",
    "    dy = particles.vy*dt+particles.ay1*dt*dt/2\n",
    "    particles.x+=dx \n",
    "    particles.y+=dy\n",
    "    particles.x = particles.x%box[0]\n",
    "    particles.y = particles.y%box[1]\n",
    "    pass"
   ]
  },
  {
   "cell_type": "markdown",
   "metadata": {},
   "source": [
    "* integrating over velocity"
   ]
  },
  {
   "cell_type": "code",
   "execution_count": 248,
   "metadata": {},
   "outputs": [],
   "source": [
    "### updates velocity vectors\n",
    "def integrate_velocity(\n",
    "    particles: Particle,\n",
    "    dt: float|int\n",
    ") -> None:\n",
    "    \"\"\"\n",
    "    Velocity Verlet: velocity integration.\\n\n",
    "    Updates velocities of particles.\n",
    "    \"\"\"\n",
    "    particles.vx+=1/2 * (particles.ax1+particles.ax2)*dt\n",
    "    particles.vy+=1/2 * (particles.ay1+particles.ay2)*dt\n",
    "    pass"
   ]
  },
  {
   "cell_type": "markdown",
   "metadata": {},
   "source": [
    "* updating the acceleration"
   ]
  },
  {
   "cell_type": "code",
   "execution_count": 249,
   "metadata": {},
   "outputs": [],
   "source": [
    "### This funciton sets all the accelerations to zero\n",
    "def reset_acceleration(\n",
    "        particles: Particle\n",
    ") -> None:\n",
    "    \"\"\"\n",
    "    Sets particles.ax2 & particles.ay2 to zeros\n",
    "    \"\"\"\n",
    "    particles.ax2=np.zeros(particles.n, np.float64)\n",
    "    particles.ay2=np.zeros(particles.n, np.float64)\n",
    "    pass\n",
    "\n",
    "\n",
    "### updates acceleration for x+dt additavly, so that the superposition of the force fields get respected\n",
    "def update_accelerations(\n",
    "        particles: Particle,\n",
    "        box: tuple[float|int,float|int],    \n",
    ") -> None:\n",
    "    \"\"\"\n",
    "    Updates particle.ax2 & particle.ay2 from the particle class.\\n\n",
    "    Issues: creating force variable and relative positions x & y on the fly.\n",
    "    \"\"\"\n",
    "    reset_acceleration(particles)\n",
    "    for i in range(particles.n):\n",
    "        # relative coordinates i\n",
    "        x_rel=rel_coordiante(particles.x[i], particles.x[i+1:particles.n],box[0])  # I don't like to create list on the fly... -> add as field in the class \"Particle\" or implement functionally?\n",
    "        y_rel=rel_coordiante(particles.y[i], particles.y[i+1:particles.n],box[1])\n",
    "\n",
    "        for j in range(i+1,particles.n):\n",
    "            # calculating the acceleration j->i! \n",
    "            acceleration = 1/particles.m * lj_force(\n",
    "                distance(x_rel[j-(i+1)],y_rel[j-(i+1)]),\n",
    "                np.array([x_rel[j-(i+1)],y_rel[j-(i+1)]])\n",
    "                )  # still dont like creating variables on the fly... -> creat force field in class \"Particles\"...?\n",
    "            particles.ax2[i] += acceleration[0]  \n",
    "            particles.ay2[i] += acceleration[1]\n",
    "            particles.ax2[j] -= acceleration[0] \n",
    "            particles.ay2[j] -= acceleration[1]\n",
    "    pass\n",
    "\n"
   ]
  },
  {
   "cell_type": "markdown",
   "metadata": {},
   "source": [
    "### Simulation and main loops\n",
    "* This function contains the integration funcitons, updates forces "
   ]
  },
  {
   "cell_type": "code",
   "execution_count": 250,
   "metadata": {},
   "outputs": [],
   "source": [
    "def iterate(\n",
    "        dt: float|int,\n",
    "        particles: Particle,\n",
    "        box: tuple[float|int,float|int]\n",
    "    ) -> None:\n",
    "    \"\"\"\n",
    "    Updates positions and velocities. \\n\n",
    "    Accelerations for 1. iteration need to be obtained prior. \n",
    "    \"\"\"\n",
    "    particles.ax1=particles.ax2  # prior a(t+dt) -> a(t)\n",
    "    particles.ay1=particles.ay2\n",
    "    integrate_position(particles,dt,box)\n",
    "    update_accelerations(particles,box)\n",
    "    integrate_velocity(particles,dt)\n",
    "pass"
   ]
  },
  {
   "cell_type": "markdown",
   "metadata": {},
   "source": [
    "Next the 'main' simulation function is implemented. This iterates over all timesteps and saves the data of interest (phase space)."
   ]
  },
  {
   "cell_type": "code",
   "execution_count": 251,
   "metadata": {},
   "outputs": [],
   "source": [
    "def simulate(\n",
    "        particles: Particle, \n",
    "        time: int,\n",
    "        dt: float|int, \n",
    "        box: tuple[float|int,float|int],\n",
    "        data: NDArray[np.float64]\n",
    ") -> NDArray[np.float64]:\n",
    "    \"\"\"\n",
    "    Runs a simulation of n-particles in a box and saves phase-space coordinates to data.\\n\n",
    "    Returns data.\n",
    "    \"\"\"\n",
    "    update_accelerations(particles,box)  # initial calculation for accelerations\n",
    "    for t in range(time):  # iteration over all timestepps\n",
    "        iterate(dt,particles,box)\n",
    "\n",
    "        ### save data of interest\n",
    "        data[t,0,:]=particles.x\n",
    "        data[t,1,:]=particles.y\n",
    "        data[t,2,:]=particles.vx\n",
    "        data[t,3,:]=particles.vy\n",
    "    return data"
   ]
  },
  {
   "cell_type": "markdown",
   "metadata": {},
   "source": [
    "### Analysis\n",
    "Here functions that analyse the data will be implemented. Animation, Potential and Kinetic Energies. \n",
    "* First of funcitons for animation"
   ]
  },
  {
   "cell_type": "code",
   "execution_count": 252,
   "metadata": {},
   "outputs": [],
   "source": [
    "def animate(\n",
    "        frame,\n",
    "        x_data: NDArray[np.float64],\n",
    "        y_data, \n",
    "        scat\n",
    "):\n",
    "    positions = np.c_[x_data[frame, :], y_data[frame,:]]\n",
    "    scat.set_offsets(positions)\n",
    "    return scat,\n",
    "\n",
    "def animation_plot(\n",
    "    p_radius: float|int,\n",
    "    box: tuple[float|int]\n",
    "):\n",
    "    fig, ax = plt.subplots()\n",
    "    scat = ax.scatter([], [], s=p_radius)  # Scale size for visibility\n",
    "    ax.set_xlim(box[0])\n",
    "    ax.set_ylim(box[1])\n",
    "    ax.set_title(\"Simulation Visualization\")\n",
    "    ax.set_xlabel(\"X [nm]\")\n",
    "    ax.set_ylabel(\"Y [nm]\")\n",
    "    return scat, fig, ax\n",
    "\n",
    "def creat_animation(\n",
    "        save_animation: bool,\n",
    "        animation_name: str,\n",
    "        animation_box: tuple[int,int],\n",
    "        x_data: NDArray[np.float64],\n",
    "        y_data: NDArray[np.float64]\n",
    ") -> FuncAnimation: \n",
    "    scat, fig, ax = animation_plot(10, animation_box)\n",
    "    anim = FuncAnimation(fig, animate, frames=len(x_data[:,0]), fargs=(x_data, y_data, scat), interval=20, blit=True)\n",
    "    writer = FFMpegWriter(fps=10, metadata=dict(artist='Dominic Nieder'), bitrate=1800)\n",
    "    if save_animation:\n",
    "        anim.save(animation_name+\".mp4\")\n",
    "    return anim\n",
    "\n"
   ]
  },
  {
   "cell_type": "markdown",
   "metadata": {},
   "source": [
    "* Analysis of the kinetic Energy: $E=\\frac{1}{2} \\Sigma_i m_i |v_i|^2$ "
   ]
  },
  {
   "cell_type": "code",
   "execution_count": 253,
   "metadata": {},
   "outputs": [],
   "source": [
    "def kinetic_Energy(\n",
    "        velocity_x_data: NDArray[np.float64],\n",
    "        velocity_y_data: NDArray[np.float64],\n",
    "        mass: float | NDArray[np.float64]\n",
    ") -> NDArray[np.float64]:  \n",
    "    \"\"\"\n",
    "    Takes velocity Data. \\n\n",
    "    Returns kinetic Energy as a funciton of time.\n",
    "    \"\"\"\n",
    "    ekin = mass/2*np.sum((np.square(velocity_x_data)+np.square(velocity_y_data)),1)\n",
    "    return ekin"
   ]
  },
  {
   "cell_type": "code",
   "execution_count": 254,
   "metadata": {},
   "outputs": [
    {
     "name": "stdout",
     "output_type": "stream",
     "text": [
      "[[1 1]\n",
      " [4 4]\n",
      " [9 9]]\n"
     ]
    }
   ],
   "source": [
    "a=np.array([[1,1],[2,2],[3,3]])\n",
    "print(np.square(a))"
   ]
  },
  {
   "cell_type": "markdown",
   "metadata": {},
   "source": [
    "* Potential Energy as defined above"
   ]
  },
  {
   "cell_type": "code",
   "execution_count": 255,
   "metadata": {},
   "outputs": [],
   "source": [
    "def potential_Energy(\n",
    "    position_x_data: NDArray[np.float64],\n",
    "    position_y_data: NDArray[np.float64],\n",
    "    box: tuple[float|int,float|int]\n",
    ") -> NDArray[np.float64]:\n",
    "    \"\"\"\n",
    "    Takes posiiton arguments. \\n\n",
    "    Returns Total potential Energy as a funciton of time.\\n\\n\n",
    "    Issues -> Periodic boundry conditions\n",
    "    -> consider how to do summation (cd kinetic energy)\n",
    "    \"\"\"\n",
    "    e=np.zeros(len(position_x_data[0]))\n",
    "    # iteration over every time step -> function of \n",
    "    for T in range(len(position_x_data[0])):\n",
    "        # iteration of particle pairs\n",
    "        for i in range(len(position_x_data[1])):\n",
    "            dx=rel_coordiante(position_x_data[T,i],position_x_data[T,i+1:len(position_x_data[1])],box[0])\n",
    "            dy=rel_coordiante(position_y_data[T,i],position_y_data[T,i+1:len(position_y_data[1])],box[1])\n",
    "            d = map(distance,dx,dy)\n",
    "            e[T]+= np.sum(np.array(list(map(lJ_potentil,d))))\n",
    "    return e"
   ]
  },
  {
   "cell_type": "markdown",
   "metadata": {},
   "source": [
    "### Code execution\n",
    "Next I define all the variables and data list and use the simulation function with particles that shall be initialised on a grid."
   ]
  },
  {
   "cell_type": "code",
   "execution_count": null,
   "metadata": {},
   "outputs": [
    {
     "ename": "NameError",
     "evalue": "name 'save_mp4' is not defined",
     "output_type": "error",
     "traceback": [
      "\u001b[0;31m---------------------------------------------------------------------------\u001b[0m",
      "\u001b[0;31mNameError\u001b[0m                                 Traceback (most recent call last)",
      "Cell \u001b[0;32mIn[256], line 29\u001b[0m\n\u001b[1;32m     13\u001b[0m data: NDArray[np\u001b[38;5;241m.\u001b[39mfloat64] \u001b[38;5;241m=\u001b[39m np\u001b[38;5;241m.\u001b[39mzeros((time_steps,\u001b[38;5;28mlen\u001b[39m(box)\u001b[38;5;241m*\u001b[39m\u001b[38;5;241m*\u001b[39m\u001b[38;5;241m2\u001b[39m,n_particles)) \u001b[38;5;66;03m# (Time, len(x,y,vx,vy), N)\u001b[39;00m\n\u001b[1;32m     15\u001b[0m data \u001b[38;5;241m=\u001b[39m simulate(\n\u001b[1;32m     16\u001b[0m     initialize_particles_on_grid(\n\u001b[1;32m     17\u001b[0m     n_particles\u001b[38;5;241m=\u001b[39mn_particles,\n\u001b[0;32m   (...)\u001b[0m\n\u001b[1;32m     26\u001b[0m     data\u001b[38;5;241m=\u001b[39mdata  \u001b[38;5;66;03m# Time, phase-space pp, particles\u001b[39;00m\n\u001b[1;32m     27\u001b[0m )\n\u001b[0;32m---> 29\u001b[0m mp4 \u001b[38;5;241m=\u001b[39m creat_animation(\u001b[43msave_mp4\u001b[49m, \u001b[38;5;124m\"\u001b[39m\u001b[38;5;124msheet02-animation1\u001b[39m\u001b[38;5;124m\"\u001b[39m,box, data[:,\u001b[38;5;241m0\u001b[39m,:],data[:,\u001b[38;5;241m1\u001b[39m,:])  \n\u001b[1;32m     30\u001b[0m HTML(mp4\u001b[38;5;241m.\u001b[39mto_html5_video())\n",
      "\u001b[0;31mNameError\u001b[0m: name 'save_mp4' is not defined"
     ]
    }
   ],
   "source": [
    "n_particles: int = 50\n",
    "\n",
    "paritcle_mass: float = 18*10**(-3)  # kg/mol -> same units!\n",
    "\n",
    "velocity: float = 100 #  nm/ns\n",
    "\n",
    "time_steps: int = 700\n",
    "\n",
    "dt: float = 0.0002  # ns\n",
    "\n",
    "box: tuple[int, int] = (5,5)\n",
    "\n",
    "data: NDArray[np.float64] = np.zeros((time_steps,len(box)**2,n_particles)) # (Time, len(x,y,vx,vy), N)\n",
    "\n",
    "save_mp4: bool = False\n",
    "\n",
    "data = simulate(\n",
    "    initialize_particles_on_grid(\n",
    "    n_particles=n_particles,\n",
    "    box=box,\n",
    "    mass=paritcle_mass,  \n",
    "    velocity=velocity,\n",
    "    add_jitter=False  \n",
    "    ),\n",
    "    time=time_steps,  # timesteps\n",
    "    dt=dt,  # ns\n",
    "    box=box,\n",
    "    data=data  # Time, phase-space pp, particles\n",
    ")\n",
    "\n",
    "mp4 = creat_animation(save_mp4, \"sheet02-animation1\",box, data[:,0,:],data[:,1,:])  \n",
    "HTML(mp4.to_html5_video())"
   ]
  },
  {
   "cell_type": "markdown",
   "metadata": {},
   "source": [
    "* Analysis of Energies"
   ]
  },
  {
   "cell_type": "code",
   "execution_count": null,
   "metadata": {},
   "outputs": [
    {
     "name": "stdout",
     "output_type": "stream",
     "text": [
      "500 50 500\n"
     ]
    },
    {
     "ename": "ValueError",
     "evalue": "x and y must have same first dimension, but have shapes (500,) and (50,)",
     "output_type": "error",
     "traceback": [
      "\u001b[0;31m---------------------------------------------------------------------------\u001b[0m",
      "\u001b[0;31mValueError\u001b[0m                                Traceback (most recent call last)",
      "Cell \u001b[0;32mIn[241], line 8\u001b[0m\n\u001b[1;32m      6\u001b[0m fig, axs \u001b[38;5;241m=\u001b[39m plt\u001b[38;5;241m.\u001b[39msubplots(\u001b[38;5;241m1\u001b[39m, \u001b[38;5;241m2\u001b[39m, sharey\u001b[38;5;241m=\u001b[39m\u001b[38;5;28;01mTrue\u001b[39;00m, tight_layout\u001b[38;5;241m=\u001b[39m\u001b[38;5;28;01mTrue\u001b[39;00m)\n\u001b[1;32m      7\u001b[0m axs[\u001b[38;5;241m0\u001b[39m]\u001b[38;5;241m.\u001b[39mplot(timestep_array, e_kin)\n\u001b[0;32m----> 8\u001b[0m \u001b[43maxs\u001b[49m\u001b[43m[\u001b[49m\u001b[38;5;241;43m1\u001b[39;49m\u001b[43m]\u001b[49m\u001b[38;5;241;43m.\u001b[39;49m\u001b[43mplot\u001b[49m\u001b[43m(\u001b[49m\u001b[43mtimestep_array\u001b[49m\u001b[43m,\u001b[49m\u001b[43m \u001b[49m\u001b[43me_pot\u001b[49m\u001b[43m)\u001b[49m\n\u001b[1;32m      9\u001b[0m plt\u001b[38;5;241m.\u001b[39mtitle(\u001b[38;5;124m\"\u001b[39m\u001b[38;5;124mEnergies\u001b[39m\u001b[38;5;124m\"\u001b[39m)\n\u001b[1;32m     10\u001b[0m axs[\u001b[38;5;241m0\u001b[39m]\u001b[38;5;241m.\u001b[39mset_xlabel(\u001b[38;5;124m'\u001b[39m\u001b[38;5;124mtime [ns]\u001b[39m\u001b[38;5;124m'\u001b[39m)   \n",
      "File \u001b[0;32m~/Documents/Complex-Classical-Systems/.ccs-env/lib/python3.12/site-packages/matplotlib/axes/_axes.py:1779\u001b[0m, in \u001b[0;36mAxes.plot\u001b[0;34m(self, scalex, scaley, data, *args, **kwargs)\u001b[0m\n\u001b[1;32m   1536\u001b[0m \u001b[38;5;250m\u001b[39m\u001b[38;5;124;03m\"\"\"\u001b[39;00m\n\u001b[1;32m   1537\u001b[0m \u001b[38;5;124;03mPlot y versus x as lines and/or markers.\u001b[39;00m\n\u001b[1;32m   1538\u001b[0m \n\u001b[0;32m   (...)\u001b[0m\n\u001b[1;32m   1776\u001b[0m \u001b[38;5;124;03m(``'green'``) or hex strings (``'#008000'``).\u001b[39;00m\n\u001b[1;32m   1777\u001b[0m \u001b[38;5;124;03m\"\"\"\u001b[39;00m\n\u001b[1;32m   1778\u001b[0m kwargs \u001b[38;5;241m=\u001b[39m cbook\u001b[38;5;241m.\u001b[39mnormalize_kwargs(kwargs, mlines\u001b[38;5;241m.\u001b[39mLine2D)\n\u001b[0;32m-> 1779\u001b[0m lines \u001b[38;5;241m=\u001b[39m [\u001b[38;5;241m*\u001b[39m\u001b[38;5;28mself\u001b[39m\u001b[38;5;241m.\u001b[39m_get_lines(\u001b[38;5;28mself\u001b[39m, \u001b[38;5;241m*\u001b[39margs, data\u001b[38;5;241m=\u001b[39mdata, \u001b[38;5;241m*\u001b[39m\u001b[38;5;241m*\u001b[39mkwargs)]\n\u001b[1;32m   1780\u001b[0m \u001b[38;5;28;01mfor\u001b[39;00m line \u001b[38;5;129;01min\u001b[39;00m lines:\n\u001b[1;32m   1781\u001b[0m     \u001b[38;5;28mself\u001b[39m\u001b[38;5;241m.\u001b[39madd_line(line)\n",
      "File \u001b[0;32m~/Documents/Complex-Classical-Systems/.ccs-env/lib/python3.12/site-packages/matplotlib/axes/_base.py:296\u001b[0m, in \u001b[0;36m_process_plot_var_args.__call__\u001b[0;34m(self, axes, data, *args, **kwargs)\u001b[0m\n\u001b[1;32m    294\u001b[0m     this \u001b[38;5;241m+\u001b[39m\u001b[38;5;241m=\u001b[39m args[\u001b[38;5;241m0\u001b[39m],\n\u001b[1;32m    295\u001b[0m     args \u001b[38;5;241m=\u001b[39m args[\u001b[38;5;241m1\u001b[39m:]\n\u001b[0;32m--> 296\u001b[0m \u001b[38;5;28;01myield from\u001b[39;00m \u001b[38;5;28;43mself\u001b[39;49m\u001b[38;5;241;43m.\u001b[39;49m\u001b[43m_plot_args\u001b[49m\u001b[43m(\u001b[49m\n\u001b[1;32m    297\u001b[0m \u001b[43m    \u001b[49m\u001b[43maxes\u001b[49m\u001b[43m,\u001b[49m\u001b[43m \u001b[49m\u001b[43mthis\u001b[49m\u001b[43m,\u001b[49m\u001b[43m \u001b[49m\u001b[43mkwargs\u001b[49m\u001b[43m,\u001b[49m\u001b[43m \u001b[49m\u001b[43mambiguous_fmt_datakey\u001b[49m\u001b[38;5;241;43m=\u001b[39;49m\u001b[43mambiguous_fmt_datakey\u001b[49m\u001b[43m)\u001b[49m\n",
      "File \u001b[0;32m~/Documents/Complex-Classical-Systems/.ccs-env/lib/python3.12/site-packages/matplotlib/axes/_base.py:486\u001b[0m, in \u001b[0;36m_process_plot_var_args._plot_args\u001b[0;34m(self, axes, tup, kwargs, return_kwargs, ambiguous_fmt_datakey)\u001b[0m\n\u001b[1;32m    483\u001b[0m     axes\u001b[38;5;241m.\u001b[39myaxis\u001b[38;5;241m.\u001b[39mupdate_units(y)\n\u001b[1;32m    485\u001b[0m \u001b[38;5;28;01mif\u001b[39;00m x\u001b[38;5;241m.\u001b[39mshape[\u001b[38;5;241m0\u001b[39m] \u001b[38;5;241m!=\u001b[39m y\u001b[38;5;241m.\u001b[39mshape[\u001b[38;5;241m0\u001b[39m]:\n\u001b[0;32m--> 486\u001b[0m     \u001b[38;5;28;01mraise\u001b[39;00m \u001b[38;5;167;01mValueError\u001b[39;00m(\u001b[38;5;124mf\u001b[39m\u001b[38;5;124m\"\u001b[39m\u001b[38;5;124mx and y must have same first dimension, but \u001b[39m\u001b[38;5;124m\"\u001b[39m\n\u001b[1;32m    487\u001b[0m                      \u001b[38;5;124mf\u001b[39m\u001b[38;5;124m\"\u001b[39m\u001b[38;5;124mhave shapes \u001b[39m\u001b[38;5;132;01m{\u001b[39;00mx\u001b[38;5;241m.\u001b[39mshape\u001b[38;5;132;01m}\u001b[39;00m\u001b[38;5;124m and \u001b[39m\u001b[38;5;132;01m{\u001b[39;00my\u001b[38;5;241m.\u001b[39mshape\u001b[38;5;132;01m}\u001b[39;00m\u001b[38;5;124m\"\u001b[39m)\n\u001b[1;32m    488\u001b[0m \u001b[38;5;28;01mif\u001b[39;00m x\u001b[38;5;241m.\u001b[39mndim \u001b[38;5;241m>\u001b[39m \u001b[38;5;241m2\u001b[39m \u001b[38;5;129;01mor\u001b[39;00m y\u001b[38;5;241m.\u001b[39mndim \u001b[38;5;241m>\u001b[39m \u001b[38;5;241m2\u001b[39m:\n\u001b[1;32m    489\u001b[0m     \u001b[38;5;28;01mraise\u001b[39;00m \u001b[38;5;167;01mValueError\u001b[39;00m(\u001b[38;5;124mf\u001b[39m\u001b[38;5;124m\"\u001b[39m\u001b[38;5;124mx and y can be no greater than 2D, but have \u001b[39m\u001b[38;5;124m\"\u001b[39m\n\u001b[1;32m    490\u001b[0m                      \u001b[38;5;124mf\u001b[39m\u001b[38;5;124m\"\u001b[39m\u001b[38;5;124mshapes \u001b[39m\u001b[38;5;132;01m{\u001b[39;00mx\u001b[38;5;241m.\u001b[39mshape\u001b[38;5;132;01m}\u001b[39;00m\u001b[38;5;124m and \u001b[39m\u001b[38;5;132;01m{\u001b[39;00my\u001b[38;5;241m.\u001b[39mshape\u001b[38;5;132;01m}\u001b[39;00m\u001b[38;5;124m\"\u001b[39m)\n",
      "\u001b[0;31mValueError\u001b[0m: x and y must have same first dimension, but have shapes (500,) and (50,)"
     ]
    },
    {
     "data": {
      "image/png": "[encoded data removed]",
      "text/plain": [
       "<Figure size 640x480 with 2 Axes>"
      ]
     },
     "metadata": {},
     "output_type": "display_data"
    }
   ],
   "source": [
    "timestep_array=np.arange(time_steps) * dt\n",
    "e_kin = kinetic_Energy(data[:,2,:],data[:,3,:],paritcle_mass)\n",
    "e_pot = potential_Energy(data[:,0,:], data[:,1,:],box)\n",
    "print(len(e_kin),len(e_pot),len(timestep_array))\n",
    "\n",
    "fig, axs = plt.subplots(1, 2, sharey=True, tight_layout=True)\n",
    "axs[0].plot(timestep_array, e_kin)\n",
    "axs[1].plot(timestep_array, e_pot)\n",
    "plt.title(\"Energies\")\n",
    "axs[0].set_xlabel('time [ns]')   \n",
    "axs[1].set_xlabel('time [ns]')\n",
    "axs[0].set_ylabel('Energy in [J]')  # find correct units of energy \n",
    "plt.savefig(\"sheet02-AnalysisEnergies1.png\")\n",
    "plt.close()\n",
    "\n",
    "\n"
   ]
  }
 ],
 "metadata": {
  "kernelspec": {
   "display_name": ".ccs-env",
   "language": "python",
   "name": "python3"
  },
  "language_info": {
   "codemirror_mode": {
    "name": "ipython",
    "version": 3
   },
   "file_extension": ".py",
   "mimetype": "text/x-python",
   "name": "python",
   "nbconvert_exporter": "python",
   "pygments_lexer": "ipython3",
   "version": "3.12.3"
  }
 },
 "nbformat": 4,
 "nbformat_minor": 2
}
