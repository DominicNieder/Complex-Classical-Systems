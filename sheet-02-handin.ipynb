{
 "cells": [
  {
   "cell_type": "markdown",
   "metadata": {},
   "source": [
    "# Sheet 02\n",
    "This is the implementation of Sheet 02 of Awais Ahmed and Dominic Nieder."
   ]
  },
  {
   "cell_type": "code",
   "execution_count": null,
   "metadata": {},
   "outputs": [],
   "source": [
    "import numpy as np"
   ]
  },
  {
   "cell_type": "markdown",
   "metadata": {},
   "source": [
    "* creating \"Particle\" class, containing all the information of all particle positions, velocities, mass and accellerations as well as interaction potential (all the object of class \"Particle\" shall interact by a Lennard-Jones Potential)"
   ]
  },
  {
   "cell_type": "code",
   "execution_count": null,
   "metadata": {},
   "outputs": [],
   "source": [
    "class Particle:\n",
    "    def __init__(\n",
    "            self,\n",
    "            n:int,\n",
    "            m:float|int,\n",
    "            x:np.ndarray[float],\n",
    "            y:np.ndarray[float],\n",
    "            vx:np.ndarray[float],\n",
    "            vy:np.ndarray[float],\n",
    "            ):\n",
    "        self.m:np.ndarray[float]=m\n",
    "        self.x:np.ndarray[float]=x\n",
    "        self.y:np.ndarray[float]=y\n",
    "        self.vx:np.ndarray[float]=vx\n",
    "        self.vy:np.ndarray[float]=vy\n",
    "        self.ax1:np.ndarray[float]=np.zeros(n)\n",
    "        self.ay1:np.ndarray[float]=np.zeros(n)\n",
    "        self.ax2:np.ndarray[float]=np.zeros(n)\n",
    "        self.ay2:np.ndarray[float]=np.zeros(n)\n",
    "\n",
    "        \n",
    "    def __repr__(self):\n",
    "         return(str(\"This is a particle at %0.2f, %0.2f with v=%0.2f,%0.2f interacts by Lennard Jones potential\" % (self.x,self.y,self.vx,self.vy)) )\n",
    "\n",
    "### Lennard-Jones potential & force\n",
    "def lJ_potentil(d12:float|int) -> float:\n",
    "    c_12 = 9.847044*10**(-6)\n",
    "    c_6 = 6.2647225*10**(-3)\n",
    "    return c_12/d12**12-c_6/d12**6\n",
    "\n",
    "def lj_force(d12:float|int, r12:np.ndarray[float]) -> np.ndarray[float]:\n",
    "    c_12 = 9.847044*10**(-6)\n",
    "    c_6 = 6.2647225*10**(-3)\n",
    "    return (12*c_12/d12**13-6*c_6/d12**7) * r12/d12"
   ]
  },
  {
   "cell_type": "markdown",
   "metadata": {},
   "source": [
    "* the following functions allow for an appropriat nearest neighbour search"
   ]
  },
  {
   "cell_type": "code",
   "execution_count": null,
   "metadata": {},
   "outputs": [],
   "source": [
    "### calculating shift to S->S' of which p1'=(box[0]/2, box[1]/2)\n",
    "def system_shift(\n",
    "        x:np.ndarray[float],\n",
    "        y:np.ndarray[float],\n",
    "        box:np.ndarray[float|int]\n",
    ") -> np.ndarray[float]:\n",
    "    return -box/2\n",
    "\n",
    "### vec(p2->p1)\n",
    "def rel_koordiantes(\n",
    "        x1:float,\n",
    "        y1:float,\n",
    "        x2:float,\n",
    "        y2:float,\n",
    "        box:np.ndarray[float|int]\n",
    ") -> np.ndarray[int]:  \n",
    "    dx, dy = system_shift(x1,y1,box)  # S->S': S' is a box with p1' at its center\n",
    "    vec=np.array([x1 +dx - (x2-dx)%box[0] , y1 +dy - (y2-dy)%box[1]])\n",
    "    return vec\n",
    "\n",
    "def distance()"
   ]
  },
  {
   "cell_type": "markdown",
   "metadata": {},
   "source": [
    "The next functions are all concerned about the integrations and getting all the accelerations by using the Lennard Jones foce field, that was implemented above."
   ]
  },
  {
   "cell_type": "code",
   "execution_count": null,
   "metadata": {},
   "outputs": [],
   "source": [
    "### position update\n",
    "def integrate_position(\n",
    "        particles:Particle,\n",
    "        dt:float|int,\n",
    "        box:np.ndarray[float|int]\n",
    ") -> tuple[float]:\n",
    "    dx = particles.vx*dt+particles.ax1*dt*dt/2\n",
    "    dy = particles.vy*dt+particles.ay1*dt*dt/2\n",
    "    particles.x+=dx \n",
    "    particles.y+=dy\n",
    "    particles.x = particles.x%box[0]\n",
    "    particles.y = particles.y%box[1]\n",
    "    pass\n",
    "\n",
    "### updates velocity vectors\n",
    "def integrate_velocity(\n",
    "    particles:Particle,\n",
    "    dt:float|int\n",
    ") -> None:\n",
    "    particles.vx+=1/2 (particles.ax1+particles.ax2)*dt\n",
    "    particles.vy+=1/2 (particles.ay1+particles.ay2)*dt\n",
    "    pass\n",
    "\n",
    "\n",
    "### This funciton sets all the accelerations to zero\n",
    "def reset_acceleration(ax,ay,n) -> None:\n",
    "    ax=np.zeros(n)\n",
    "    ay=np.zeros(n)\n",
    "    pass\n",
    "\n",
    "\n",
    "### updates acceleration for x+dt additavly, so that the superposition of the force fields get respected\n",
    "def update_accelerations(\n",
    "        particles:Particle,\n",
    "        box:np.ndarray,    \n",
    "):\n",
    "    reset_acceleration(particles.ax2,particles.ay2)\n",
    "    for i in range(particles.n):\n",
    "        for j in range(i+1,particles.n):\n",
    "            [particles.ax2[i],particles.ay2[j]] += lj_force(  # calling the \"rel_koordinates\" function might be problematic!\n",
    "                rel_koordiantes(\n",
    "                    particles.x[i],\n",
    "                    particles.y[i],\n",
    "                    particles.x[j],\n",
    "                    particles.y[j],\n",
    "                    box\n",
    "                    )\n",
    "                    )/particles.m\n",
    "            particles.ax2[j]-=particles.ax2[i]  # f(i->j)=-f(j->i)\n",
    "            particles.ay2[j]-=particles.ay2[i]\n",
    "    pass\n",
    "\n",
    "### This funciton contains the integration funcitons, updates forces and \n",
    "def iterate(\n",
    "        dt:float|int,\n",
    "        particles:Particle,\n",
    "        box:tuple[float|int]\n",
    "    ) -> list:\n",
    "    particles.ax1=particles.ax2  # prior a(t+dt) -> a(t)\n",
    "    particles.ay1=particles.ay2\n",
    "    integrate_position(particles,dt,box)\n",
    "    update_accelerations(particles.n,particles,box)\n",
    "    integrate_velocity(particles,dt)\n",
    "pass"
   ]
  },
  {
   "cell_type": "markdown",
   "metadata": {},
   "source": [
    "Next the 'main' simulation function is implemented. This iterates over all timesteps and saves the data of interest (phase space)."
   ]
  },
  {
   "cell_type": "code",
   "execution_count": null,
   "metadata": {},
   "outputs": [],
   "source": [
    "def simulate(\n",
    "        particles:Particle, \n",
    "        T:int, \n",
    "        dt:float|int, \n",
    "        box:tuple[float|int],\n",
    "        data:list\n",
    ") -> list:\n",
    "    update_accelerations(particles.n,particles,box)  # initial calculation for accelerations\n",
    "    for t in range(T):  # iteration over all timestepps\n",
    "        iterate(dt,particles.n,particles,box)\n",
    "        ### save data of interest\n",
    "        data[t,0,:]=particles.x\n",
    "        data[t,1,:]=particles.y\n",
    "        data[t,2,:]=particles.vx\n",
    "        data[t,3,:]=particles.vy\n",
    "    return data"
   ]
  },
  {
   "cell_type": "markdown",
   "metadata": {},
   "source": [
    "Next I define all the variables and data list and use the simulation function."
   ]
  },
  {
   "cell_type": "code",
   "execution_count": null,
   "metadata": {},
   "outputs": [],
   "source": [
    "n=2  # mol\n",
    "m=18  # g/mol\n",
    "time=500  # ns\n",
    "dt=0.002  # ns (1ns = 1000fs), 2fs=0.002ns\n",
    "v0=150  # ns/nm\n",
    "\n",
    "box= (5,5)  # nm\n",
    "data=np.zeros(time,4,n)  # 4 phase space of single particle\n",
    "\n",
    "particles = Particle(\n",
    "    n,\n",
    "    m,\n",
    "    np.array([1,2]),\n",
    "    np.array([2,1]),\n",
    "    v0*np.array([1,0]),\n",
    "    v0*np.array([0,1])\n",
    ")\n",
    "\n",
    "data = simulate(particles,time,dt,box,data)\n"
   ]
  },
  {
   "cell_type": "code",
   "execution_count": null,
   "metadata": {},
   "outputs": [],
   "source": [
    "### calculating distributions\n",
    "### |v| distribution\n",
    "def collect_vabs(\n",
    "        vx:list[list[float]],\n",
    "        vy:list[list[float]],\n",
    "        interval:tuple[int]\n",
    ") -> list[float]:\n",
    "    v_abs=np.zeros(len(vx)+(interval[1]-interval[0]))\n",
    "    for i in range(len(vx)):\n",
    "        for j in range(interval[0],interval[1]):\n",
    "            v_abs[i+j-interval[0]]=(np.sqrt(vx[i][j]**2+vy[i][j]**2))\n",
    "    return v_abs\n",
    "\n",
    "### velocity x or y distribution\n",
    "def collect_v_1D(vx:list[float],\n",
    "                 interval:tuple[int]\n",
    ") -> list[float]:\n",
    "    l=np.zeros(len(vx)+(interval[1]-interval[0]))\n",
    "    print(len(l))\n",
    "    for i in range(len(vx)):\n",
    "        for j in range(interval[0],interval[1]):\n",
    "            l[i+j-interval[0]]=(vx[i][j])\n",
    "    return l\n"
   ]
  },
  {
   "cell_type": "code",
   "execution_count": null,
   "metadata": {},
   "outputs": [],
   "source": []
  }
 ],
 "metadata": {
  "kernelspec": {
   "display_name": ".ccs-env",
   "language": "python",
   "name": "python3"
  },
  "language_info": {
   "name": "python",
   "version": "3.12.3"
  }
 },
 "nbformat": 4,
 "nbformat_minor": 2
}
