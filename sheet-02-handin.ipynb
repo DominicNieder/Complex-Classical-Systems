{
 "cells": [
  {
   "cell_type": "markdown",
   "metadata": {},
   "source": [
    "# Sheet 02\n",
    "This is the implementation of Sheet 02 of Awais Ahmed and Dominic Nieder."
   ]
  },
  {
   "cell_type": "code",
   "execution_count": 1,
   "metadata": {},
   "outputs": [],
   "source": [
    "from numpy.typing import NDArray\n",
    "import numpy as np"
   ]
  },
  {
   "cell_type": "markdown",
   "metadata": {},
   "source": [
    "### Particle\n",
    "* creating \"Particle\" class, containing all the information of all particle positions, velocities, mass and accellerations as well as interaction potential (all the object of class \"Particle\" shall interact by a Lennard-Jones Potential)"
   ]
  },
  {
   "cell_type": "code",
   "execution_count": 2,
   "metadata": {},
   "outputs": [],
   "source": [
    "class Particle:\n",
    "    def __init__(\n",
    "        self,\n",
    "        n: int,\n",
    "        m: float | int,\n",
    "        x: NDArray[np.float64],\n",
    "        y: NDArray[np.float64],\n",
    "        vx: NDArray[np.float64],\n",
    "        vy: NDArray[np.float64],\n",
    "    ):\n",
    "        self.n: int = n\n",
    "        self.m: float = float(m)\n",
    "        self.x: NDArray[np.float64] = np.array(x, dtype=np.float64)\n",
    "        self.y: NDArray[np.float64] = np.array(y, dtype=np.float64)\n",
    "        self.vx: NDArray[np.float64] = np.array(vx, dtype=np.float64)\n",
    "        self.vy: NDArray[np.float64] = np.array(vy, dtype=np.float64)\n",
    "        self.ax1: NDArray[np.float64] = np.zeros(n, dtype=np.float64)\n",
    "        self.ay1: NDArray[np.float64] = np.zeros(n, dtype=np.float64)\n",
    "        self.ax2: NDArray[np.float64] = np.zeros(n, dtype=np.float64)\n",
    "        self.ay2: NDArray[np.float64] = np.zeros(n, dtype=np.float64)\n",
    "\n",
    "        \n",
    "    def __repr__(self):\n",
    "        return f\"This is a particle at {self.x[0]}, {self.y[0]} with v={self.vx[0]},{self.vy[0]} interacting by Lennard-Jones potential.\""
   ]
  },
  {
   "cell_type": "markdown",
   "metadata": {},
   "source": [
    "### Initialisation of particles \n",
    "* initialisation on a grid with radom velocity:\n",
    "* issues pending!"
   ]
  },
  {
   "cell_type": "code",
   "execution_count": 9,
   "metadata": {},
   "outputs": [],
   "source": [
    "def initialize_particles_on_grid(\n",
    "    n_particles: int, \n",
    "    spacing: float, \n",
    "    mass: float, \n",
    "    velocity: float\n",
    ") -> Particle:\n",
    "    \"\"\"\n",
    "    Particles a regular grid within a given spacing.\\n\n",
    "    Random velocity directions. \\n\n",
    "    Returns: Particle with initialized positions and velocities. \\n\\n\n",
    "    Issues -> np.ndarray has no function flattern! \\n\n",
    "        -> spacing should be rather even. \\n\n",
    "        -> velocity distribution around angles or at least normalize...\n",
    "    \"\"\"\n",
    "    \n",
    "    grid_sections = int(np.ceil(np.sqrt(n_particles)))\n",
    "\n",
    "    # generates grid \n",
    "    x_positions, y_positions = np.meshgrid(\n",
    "        np.arange(grid_sections) * spacing, \n",
    "        np.arange(grid_sections) * spacing\n",
    "    )\n",
    "\n",
    "    # takes \n",
    "    x_positions = x_positions.flattern()[:n_particles]\n",
    "    y_positions = y_positions.flattern()[:n_particles]\n",
    "\n",
    "    # Initialize velocities \n",
    "    vx = velocity * (np.random.rand(n_particles) - 0.5) * 2\n",
    "    vy = velocity * (np.random.rand(n_particles) - 0.5) * 2\n",
    "\n",
    "    # Create and return a Particle\n",
    "    return Particle(\n",
    "        n=n_particles,\n",
    "        m=mass,\n",
    "        x=x_positions,\n",
    "        y=y_positions,\n",
    "        vx=vx,\n",
    "        vy=vy\n",
    "    )"
   ]
  },
  {
   "cell_type": "markdown",
   "metadata": {},
   "source": [
    "### Forces and Potentials\n",
    "Lennard-Jones Potential and Force"
   ]
  },
  {
   "cell_type": "code",
   "execution_count": 4,
   "metadata": {},
   "outputs": [],
   "source": [
    "def lJ_potentil(d12:float|NDArray[np.float64]) -> float|NDArray[float]:\n",
    "    \"\"\"\n",
    "    Lennard Jones Potential\n",
    "    \"\"\"\n",
    "    c_12 = 9.847044*10**(-6) \n",
    "    c_6 = 6.2647225*10**(-3)\n",
    "    return c_12/d12**12-c_6/d12**6\n",
    "\n",
    "def lj_force(d12:float|int, r12:NDArray[np.float64]) -> NDArray[np.float64]:\n",
    "    \"\"\"\n",
    "    Force by Lennard Jones interaction potential.\n",
    "    \"\"\"\n",
    "    c_12 = 9.847044*10**(-6)\n",
    "    c_6 = 6.2647225*10**(-3)\n",
    "    return (12*c_12/d12**13-6*c_6/d12**7) * r12/d12"
   ]
  },
  {
   "cell_type": "markdown",
   "metadata": {},
   "source": [
    "### Nearest Neighbour search\n",
    "* the following functions allow for an appropriat nearest neighbour search"
   ]
  },
  {
   "cell_type": "code",
   "execution_count": 5,
   "metadata": {},
   "outputs": [],
   "source": [
    "def system_shift(\n",
    "        x:float,\n",
    "        box:float\n",
    ") -> NDArray[np.float64]:\n",
    "    \"\"\"\n",
    "    Calculating shift of one coordinate: S->S' of which p'=box/2\n",
    "    \"\"\"\n",
    "    return x-box/2\n",
    "\n",
    "\n",
    "def rel_coordiante(\n",
    "        r1:float,\n",
    "        r2:NDArray[np.float64],\n",
    "        box:float|int\n",
    ") -> NDArray[np.float64]:  \n",
    "    \"\"\" \n",
    "    Returns list(aroows):(r1->list(r2))(x|y), for vectorcomponent x or y.\n",
    "    \"\"\"\n",
    "    return (r2-system_shift(r1,box))%box - box/2\n",
    "    \n",
    "\n",
    "def distance(\n",
    "        x:float,\n",
    "        y:float\n",
    ") -> float:\n",
    "    \"\"\"\n",
    "    Takes relative ccordinates. \\n\n",
    "    Returns distance between two particles.\n",
    "    \"\"\"\n",
    "    return np.sqrt(x*x+y*y)"
   ]
  },
  {
   "cell_type": "markdown",
   "metadata": {},
   "source": [
    "### Velocity Verlet\n",
    "The next functions are all concerned about the integrations and getting all the accelerations by using the Lennard Jones foce field, that was implemented above.\n",
    "\n",
    "* integrating over positions"
   ]
  },
  {
   "cell_type": "code",
   "execution_count": null,
   "metadata": {},
   "outputs": [],
   "source": [
    "### position update\n",
    "def integrate_position(\n",
    "        particles:Particle,\n",
    "        dt:float|int,\n",
    "        box:tuple[float|int, float|int]\n",
    ") -> None:\n",
    "    \"\"\"\n",
    "    Velocity Verlet: Updates positions of particles.\n",
    "    \"\"\"\n",
    "    dx = particles.vx*dt+particles.ax1*dt*dt/2\n",
    "    dy = particles.vy*dt+particles.ay1*dt*dt/2\n",
    "    particles.x+=dx \n",
    "    particles.y+=dy\n",
    "    particles.x = particles.x%box[0]\n",
    "    particles.y = particles.y%box[1]\n",
    "    pass"
   ]
  },
  {
   "cell_type": "markdown",
   "metadata": {},
   "source": [
    "* integrating over velocity"
   ]
  },
  {
   "cell_type": "code",
   "execution_count": null,
   "metadata": {},
   "outputs": [],
   "source": [
    "### updates velocity vectors\n",
    "def integrate_velocity(\n",
    "    particles:Particle,\n",
    "    dt:float|int\n",
    ") -> None:\n",
    "    \"\"\"\n",
    "    Velocity Verlet: velocity integration.\\n\n",
    "    Updates velocities of particles.\n",
    "    \"\"\"\n",
    "    particles.vx+=1/2 * (particles.ax1+particles.ax2)*dt\n",
    "    particles.vy+=1/2 * (particles.ay1+particles.ay2)*dt\n",
    "    pass"
   ]
  },
  {
   "cell_type": "markdown",
   "metadata": {},
   "source": [
    "* updating the acceleration"
   ]
  },
  {
   "cell_type": "code",
   "execution_count": 6,
   "metadata": {},
   "outputs": [
    {
     "name": "stderr",
     "output_type": "stream",
     "text": [
      "<>:27: SyntaxWarning: 'int' object is not callable; perhaps you missed a comma?\n",
      "<>:28: SyntaxWarning: 'int' object is not callable; perhaps you missed a comma?\n",
      "<>:27: SyntaxWarning: 'int' object is not callable; perhaps you missed a comma?\n",
      "<>:28: SyntaxWarning: 'int' object is not callable; perhaps you missed a comma?\n",
      "/tmp/ipykernel_6869/3367002229.py:27: SyntaxWarning: 'int' object is not callable; perhaps you missed a comma?\n",
      "  particles.vx+=1/2 (particles.ax1+particles.ax2)*dt\n",
      "/tmp/ipykernel_6869/3367002229.py:28: SyntaxWarning: 'int' object is not callable; perhaps you missed a comma?\n",
      "  particles.vy+=1/2 (particles.ay1+particles.ay2)*dt\n"
     ]
    }
   ],
   "source": [
    "### This funciton sets all the accelerations to zero\n",
    "def reset_acceleration(particles:Particle,n) -> None:\n",
    "    \"\"\"\n",
    "    Sets particles.ax2 & particles.ay2 to zeros\n",
    "    \"\"\"\n",
    "    particles.ax2=np.zeros(n)\n",
    "    particles.ay2=np.zeros(n)\n",
    "    pass\n",
    "\n",
    "\n",
    "### updates acceleration for x+dt additavly, so that the superposition of the force fields get respected\n",
    "def update_accelerations(\n",
    "        particles:Particle,\n",
    "        box:tuple[float|int,float|int],    \n",
    "):\n",
    "    \"\"\"\n",
    "    Updates particle.ax2 & particle.ay2 from the particle class.\\n\n",
    "    Issues: creating force variable and relative positions x & y on the fly.\n",
    "    \"\"\"\n",
    "    reset_acceleration(particles.ax2,particles.ay2)\n",
    "    for i in range(particles.n):\n",
    "        # relative coordinates i\n",
    "        x_rel=rel_coordiante(particles.x[i], particles.x[i+1:particles.n],box[0])  # I don't like to create list on the fly... -> add as field in the class \"Particle\" or implement functionally?\n",
    "        y_rel=rel_coordiante(particles.y[i], particles.y[i+1,particles.n],box[1])\n",
    "        for j in range(i+1,particles.n):\n",
    "            # calculating the acceleration j->i! \n",
    "            f = 1/particles.m * lj_force(\n",
    "                distance(x_rel[j-(i+1)],y_rel[j-(i+1)]),\n",
    "                np.array([x_rel[j-(i+1)],y_rel[j-(i+1)]])\n",
    "                )  # still dont like creating variables on the fly... -> creat force field in class \"Particles\"...?\n",
    "            particles.ax2[i] += f  \n",
    "            particles.ay2[i] += f\n",
    "            particles.ax2[j] -= f \n",
    "            particles.ay2[j] -= f\n",
    "    pass\n",
    "\n"
   ]
  },
  {
   "cell_type": "markdown",
   "metadata": {},
   "source": [
    "### Simulation and main loops\n",
    "* This function contains the integration funcitons, updates forces "
   ]
  },
  {
   "cell_type": "code",
   "execution_count": null,
   "metadata": {},
   "outputs": [],
   "source": [
    "def iterate(\n",
    "        dt:float|int,\n",
    "        particles:Particle,\n",
    "        box:tuple[float|int,float|int]\n",
    "    ) -> NDArray[np.float64]:\n",
    "    \"\"\"\n",
    "    Updates positions and velocities. \\n\n",
    "    Accelerations for 1. iteration need to be obtained prior. \n",
    "    \"\"\"\n",
    "    particles.ax1=particles.ax2  # prior a(t+dt) -> a(t)\n",
    "    particles.ay1=particles.ay2\n",
    "    integrate_position(particles,dt,box)\n",
    "    update_accelerations(particles.n,particles,box)\n",
    "    integrate_velocity(particles,dt)\n",
    "pass"
   ]
  },
  {
   "cell_type": "markdown",
   "metadata": {},
   "source": [
    "Next the 'main' simulation function is implemented. This iterates over all timesteps and saves the data of interest (phase space)."
   ]
  },
  {
   "cell_type": "code",
   "execution_count": 7,
   "metadata": {},
   "outputs": [],
   "source": [
    "def simulate(\n",
    "        particles:Particle, \n",
    "        time:int, \n",
    "        dt:float|int, \n",
    "        box:tuple[float|int,float|int],\n",
    "        data:NDArray[np.float64]\n",
    ") -> NDArray[np.float64]:\n",
    "    \"\"\"\n",
    "    Runs a simulation of n-particles in a box and saves phase-space coordinates to data.\\n\n",
    "    Returns data.\n",
    "    \"\"\"\n",
    "    update_accelerations(particles.n,particles,box)  # initial calculation for accelerations\n",
    "    for t in range(time):  # iteration over all timestepps\n",
    "        iterate(dt,particles.n,particles,box)\n",
    "        ### save data of interest\n",
    "        data[t,0,:]=particles.x\n",
    "        data[t,1,:]=particles.y\n",
    "        data[t,2,:]=particles.vx\n",
    "        data[t,3,:]=particles.vy\n",
    "    return data"
   ]
  },
  {
   "cell_type": "markdown",
   "metadata": {},
   "source": [
    "### Analysis\n",
    "Here functions that analyse the data will be implemented. Animation, Potential and Kinetic Energies."
   ]
  },
  {
   "cell_type": "markdown",
   "metadata": {},
   "source": [
    "### Code execution\n",
    "Next I define all the variables and data list and use the simulation function with particles that shall be initialised on a grid."
   ]
  },
  {
   "cell_type": "code",
   "execution_count": 8,
   "metadata": {},
   "outputs": [
    {
     "ename": "AttributeError",
     "evalue": "'numpy.ndarray' object has no attribute 'flattern'",
     "output_type": "error",
     "traceback": [
      "\u001b[0;31m---------------------------------------------------------------------------\u001b[0m",
      "\u001b[0;31mAttributeError\u001b[0m                            Traceback (most recent call last)",
      "Cell \u001b[0;32mIn[8], line 2\u001b[0m\n\u001b[1;32m      1\u001b[0m data \u001b[38;5;241m=\u001b[39m simulate(\n\u001b[0;32m----> 2\u001b[0m     \u001b[43minitialize_particles_on_grid\u001b[49m\u001b[43m(\u001b[49m\n\u001b[1;32m      3\u001b[0m \u001b[43m    \u001b[49m\u001b[43mn_particles\u001b[49m\u001b[38;5;241;43m=\u001b[39;49m\u001b[38;5;241;43m50\u001b[39;49m\u001b[43m,\u001b[49m\n\u001b[1;32m      4\u001b[0m \u001b[43m    \u001b[49m\u001b[43mspacing\u001b[49m\u001b[38;5;241;43m=\u001b[39;49m\u001b[38;5;241;43m8\u001b[39;49m\u001b[38;5;241;43m/\u001b[39;49m\u001b[38;5;241;43m5\u001b[39;49m\u001b[43m,\u001b[49m\n\u001b[1;32m      5\u001b[0m \u001b[43m    \u001b[49m\u001b[43mmass\u001b[49m\u001b[38;5;241;43m=\u001b[39;49m\u001b[38;5;241;43m18\u001b[39;49m\u001b[43m,\u001b[49m\u001b[43m  \u001b[49m\u001b[38;5;66;43;03m# g/mol\u001b[39;49;00m\n\u001b[1;32m      6\u001b[0m \u001b[43m    \u001b[49m\u001b[43mvelocity\u001b[49m\u001b[38;5;241;43m=\u001b[39;49m\u001b[38;5;241;43m150\u001b[39;49m\u001b[43m  \u001b[49m\u001b[38;5;66;43;03m# ns/nm\u001b[39;49;00m\n\u001b[1;32m      7\u001b[0m \u001b[43m    \u001b[49m\u001b[43m)\u001b[49m,\n\u001b[1;32m      8\u001b[0m     time\u001b[38;5;241m=\u001b[39m\u001b[38;5;241m500\u001b[39m,  \u001b[38;5;66;03m# timesteps\u001b[39;00m\n\u001b[1;32m      9\u001b[0m     dt\u001b[38;5;241m=\u001b[39m\u001b[38;5;241m0.002\u001b[39m,  \u001b[38;5;66;03m# ns\u001b[39;00m\n\u001b[1;32m     10\u001b[0m     box\u001b[38;5;241m=\u001b[39m(\u001b[38;5;241m5\u001b[39m,\u001b[38;5;241m5\u001b[39m),\n\u001b[1;32m     11\u001b[0m     data\u001b[38;5;241m=\u001b[39mnp\u001b[38;5;241m.\u001b[39mzeros(\u001b[38;5;241m500\u001b[39m,\u001b[38;5;241m4\u001b[39m,\u001b[38;5;241m50\u001b[39m)  \u001b[38;5;66;03m# Time, phase-space pp, particles\u001b[39;00m\n\u001b[1;32m     12\u001b[0m )\n",
      "Cell \u001b[0;32mIn[3], line 22\u001b[0m, in \u001b[0;36minitialize_particles_on_grid\u001b[0;34m(n_particles, spacing, mass, velocity)\u001b[0m\n\u001b[1;32m     16\u001b[0m x_positions, y_positions \u001b[38;5;241m=\u001b[39m np\u001b[38;5;241m.\u001b[39mmeshgrid(\n\u001b[1;32m     17\u001b[0m     np\u001b[38;5;241m.\u001b[39marange(grid_sections) \u001b[38;5;241m*\u001b[39m spacing, \n\u001b[1;32m     18\u001b[0m     np\u001b[38;5;241m.\u001b[39marange(grid_sections) \u001b[38;5;241m*\u001b[39m spacing\n\u001b[1;32m     19\u001b[0m )\n\u001b[1;32m     21\u001b[0m \u001b[38;5;66;03m# takes \u001b[39;00m\n\u001b[0;32m---> 22\u001b[0m x_positions \u001b[38;5;241m=\u001b[39m \u001b[43mx_positions\u001b[49m\u001b[38;5;241;43m.\u001b[39;49m\u001b[43mflattern\u001b[49m()[:n_particles]\n\u001b[1;32m     23\u001b[0m y_positions \u001b[38;5;241m=\u001b[39m y_positions\u001b[38;5;241m.\u001b[39mflattern()[:n_particles]\n\u001b[1;32m     25\u001b[0m \u001b[38;5;66;03m# Initialize velocities \u001b[39;00m\n",
      "\u001b[0;31mAttributeError\u001b[0m: 'numpy.ndarray' object has no attribute 'flattern'"
     ]
    }
   ],
   "source": [
    "data = simulate(\n",
    "    initialize_particles_on_grid(\n",
    "    n_particles=50,\n",
    "    spacing=8/5,\n",
    "    mass=18,  # g/mol\n",
    "    velocity=150  # ns/nm\n",
    "    ),\n",
    "    time=500,  # timesteps\n",
    "    dt=0.002,  # ns\n",
    "    box=(5,5),\n",
    "    data=np.zeros(500,4,50)  # Time, phase-space pp, particles\n",
    ")"
   ]
  },
  {
   "cell_type": "markdown",
   "metadata": {},
   "source": []
  },
  {
   "cell_type": "code",
   "execution_count": null,
   "metadata": {},
   "outputs": [],
   "source": []
  }
 ],
 "metadata": {
  "kernelspec": {
   "display_name": ".ccs-env",
   "language": "python",
   "name": "python3"
  },
  "language_info": {
   "codemirror_mode": {
    "name": "ipython",
    "version": 3
   },
   "file_extension": ".py",
   "mimetype": "text/x-python",
   "name": "python",
   "nbconvert_exporter": "python",
   "pygments_lexer": "ipython3",
   "version": "3.12.3"
  }
 },
 "nbformat": 4,
 "nbformat_minor": 2
}
