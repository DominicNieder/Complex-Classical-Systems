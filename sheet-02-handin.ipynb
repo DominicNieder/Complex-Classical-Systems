{
 "cells": [
  {
   "cell_type": "markdown",
   "metadata": {},
   "source": [
    "# Sheet 02\n",
    "This is the implementation of Sheet 02 of Awais Ahmed and Dominic Nieder."
   ]
  },
  {
   "cell_type": "code",
   "execution_count": 57,
   "metadata": {},
   "outputs": [],
   "source": [
    "from numpy.typing import NDArray  # trying to be typesafe\n",
    "import numpy as np  # needed all over the place\n",
    "\n",
    "import matplotlib.pyplot as plt  # for plots\n",
    "\n",
    "from matplotlib import colors  # not quite sure what fore\n",
    "from matplotlib.ticker import PercentFormatter  # also not sure, maybe animation..?\n",
    "from matplotlib.animation import FuncAnimation, FFMpegWriter  # for animations"
   ]
  },
  {
   "cell_type": "markdown",
   "metadata": {},
   "source": [
    "### Particle\n",
    "* creating \"Particle\" class, containing all the information of all particle positions, velocities, mass and accellerations as well as interaction potential (all the object of class \"Particle\" shall interact by a Lennard-Jones Potential)"
   ]
  },
  {
   "cell_type": "code",
   "execution_count": 58,
   "metadata": {},
   "outputs": [],
   "source": [
    "class Particle:\n",
    "    def __init__(\n",
    "        self,\n",
    "        n: int,\n",
    "        m: float | int,\n",
    "        x: NDArray[np.float64],\n",
    "        y: NDArray[np.float64],\n",
    "        vx: NDArray[np.float64],\n",
    "        vy: NDArray[np.float64],\n",
    "    ):\n",
    "        self.n: int = n\n",
    "        self.m: float = float(m)\n",
    "        self.x: NDArray[np.float64] = np.array(x, dtype=np.float64)\n",
    "        self.y: NDArray[np.float64] = np.array(y, dtype=np.float64)\n",
    "        self.vx: NDArray[np.float64] = np.array(vx, dtype=np.float64)\n",
    "        self.vy: NDArray[np.float64] = np.array(vy, dtype=np.float64)\n",
    "        self.ax1: NDArray[np.float64] = np.zeros(n, dtype=np.float64)\n",
    "        self.ay1: NDArray[np.float64] = np.zeros(n, dtype=np.float64)\n",
    "        self.ax2: NDArray[np.float64] = np.zeros(n, dtype=np.float64)\n",
    "        self.ay2: NDArray[np.float64] = np.zeros(n, dtype=np.float64)\n",
    "\n",
    "        \n",
    "    def __repr__(self):\n",
    "        return f\"This is a particle at {self.x[0]}, {self.y[0]} with v={self.vx[0]},{self.vy[0]} interacting by Lennard-Jones potential.\""
   ]
  },
  {
   "cell_type": "markdown",
   "metadata": {},
   "source": [
    "### Initialisation of particles \n",
    "* initialisation on a grid with radom velocity:\n",
    "* issues pending!"
   ]
  },
  {
   "cell_type": "code",
   "execution_count": 59,
   "metadata": {},
   "outputs": [],
   "source": [
    "def initialize_particles_on_grid(\n",
    "    n_particles: int, \n",
    "    spacing: float, \n",
    "    mass: float, \n",
    "    velocity: float,\n",
    "    add_jitter: bool\n",
    ") -> Particle:\n",
    "    \"\"\"\n",
    "    Particles a regular grid within a given spacing.\\n\n",
    "    Random velocity directions. \\n\n",
    "    Returns: Particle with initialized positions and velocities. \\n\\n\n",
    "    Issues -> np.ndarray has no function flattern! \\n\n",
    "        -> spacing should be rather even. \\n\n",
    "        -> velocity distribution around angles or at least normalize...\n",
    "    \"\"\"\n",
    "    \n",
    "    grid_sections = int(np.ceil(np.sqrt(n_particles)))\n",
    "\n",
    "    # generates grid \n",
    "    x_positions, y_positions = np.meshgrid(\n",
    "        np.arange(grid_sections) * spacing, \n",
    "        np.arange(grid_sections) * spacing\n",
    "    )\n",
    "\n",
    "    # takes \n",
    "    x_positions = x_positions.flatten()[:n_particles]\n",
    "    y_positions = y_positions.flatten()[:n_particles]\n",
    "\n",
    "    # adding the possibility to a a jitter to the \"particle grid\" -> What are the effect\n",
    "    if add_jitter:\n",
    "        x_positions += (np.random.rand(len(x_positions))-0.5)\n",
    "        y_positions += (np.random.rand(len(y_positions))-0.5)\n",
    "        \n",
    "    # Initialize velocities \n",
    "    vx = velocity * (np.random.rand(n_particles) - 0.5) * 2\n",
    "    vy = velocity * (np.random.rand(n_particles) - 0.5) * 2\n",
    "\n",
    "    # Create and return a Particle\n",
    "    return Particle(\n",
    "        n=n_particles,\n",
    "        m=mass,\n",
    "        x=x_positions,\n",
    "        y=y_positions,\n",
    "        vx=vx,\n",
    "        vy=vy\n",
    "    )"
   ]
  },
  {
   "cell_type": "markdown",
   "metadata": {},
   "source": [
    "### Forces and Potentials\n",
    "Lennard-Jones Potential and Force"
   ]
  },
  {
   "cell_type": "code",
   "execution_count": 60,
   "metadata": {},
   "outputs": [],
   "source": [
    "def lJ_potentil(\n",
    "        d12: float|NDArray[np.float64]\n",
    ") -> float|NDArray[np.float64]:\n",
    "    \"\"\"\n",
    "    Lennard Jones Potential\n",
    "    \"\"\"\n",
    "    c_12 = 9.847044*10**(-6) \n",
    "    c_6 = 6.2647225*10**(-3)\n",
    "    return c_12/d12**12-c_6/d12**6\n",
    "\n",
    "def lj_force(\n",
    "        d12: float|int,\n",
    "        r12: NDArray[np.float64]\n",
    ") -> NDArray[np.float64]:\n",
    "    \"\"\"\n",
    "    Force by Lennard Jones interaction potential.\n",
    "    \"\"\"\n",
    "    c_12 = 9.847044*10**(-6)\n",
    "    c_6 = 6.2647225*10**(-3)\n",
    "    return (12*c_12/d12**13-6*c_6/d12**7) * r12/d12"
   ]
  },
  {
   "cell_type": "markdown",
   "metadata": {},
   "source": [
    "### Nearest Neighbour search\n",
    "* the following functions allow for an appropriat nearest neighbour search"
   ]
  },
  {
   "cell_type": "code",
   "execution_count": null,
   "metadata": {},
   "outputs": [],
   "source": [
    "def system_shift(\n",
    "        x: float,\n",
    "        box: float\n",
    ") -> NDArray[np.float64]:\n",
    "    \"\"\"\n",
    "    Calculating shift of one coordinate: S->S' of which p'=box/2\n",
    "    \"\"\"\n",
    "    return x-box/2\n",
    "\n",
    "\n",
    "def rel_coordiante(\n",
    "        r1: float,\n",
    "        r2: NDArray[np.float64],\n",
    "        box: float|int\n",
    ") -> NDArray[np.float64]:  \n",
    "    \"\"\" \n",
    "    Returns list(aroows):(r1->list(r2))(x|y), for vectorcomponent x or y.\n",
    "    \"\"\"\n",
    "    return (r2-system_shift(r1,box))%box - box/2\n",
    "    \n",
    "\n",
    "def distance(\n",
    "        x: float,\n",
    "        y: float\n",
    ") -> float:\n",
    "    \"\"\"\n",
    "    Takes relative ccordinates. \\n\n",
    "    Returns distance between two particles. \\n\\n\n",
    "    I somehow have to deal with the possibility of dividing by Zero. My idea is to set distance very large, so that the collision get \"ignored\".\n",
    "    \"\"\"\n",
    "    \n",
    "    a= np.sqrt(x*x+y*y)\n",
    "    if a != 0:\n",
    "        return a\n",
    "    else:\n",
    "        return 100000000"
   ]
  },
  {
   "cell_type": "markdown",
   "metadata": {},
   "source": [
    "### Velocity Verlet\n",
    "The next functions are all concerned about the integrations and getting all the accelerations by using the Lennard Jones foce field, that was implemented above.\n",
    "\n",
    "* integrating over positions"
   ]
  },
  {
   "cell_type": "code",
   "execution_count": 62,
   "metadata": {},
   "outputs": [],
   "source": [
    "### position update\n",
    "def integrate_position(\n",
    "        particles: Particle,\n",
    "        dt: float|int,\n",
    "        box: tuple[float|int, float|int]\n",
    ") -> None:\n",
    "    \"\"\"\n",
    "    Velocity Verlet: Updates positions of particles.\n",
    "    \"\"\"\n",
    "    dx = particles.vx*dt+particles.ax1*dt*dt/2\n",
    "    dy = particles.vy*dt+particles.ay1*dt*dt/2\n",
    "    particles.x+=dx \n",
    "    particles.y+=dy\n",
    "    particles.x = particles.x%box[0]\n",
    "    particles.y = particles.y%box[1]\n",
    "    pass"
   ]
  },
  {
   "cell_type": "markdown",
   "metadata": {},
   "source": [
    "* integrating over velocity"
   ]
  },
  {
   "cell_type": "code",
   "execution_count": 63,
   "metadata": {},
   "outputs": [],
   "source": [
    "### updates velocity vectors\n",
    "def integrate_velocity(\n",
    "    particles: Particle,\n",
    "    dt: float|int\n",
    ") -> None:\n",
    "    \"\"\"\n",
    "    Velocity Verlet: velocity integration.\\n\n",
    "    Updates velocities of particles.\n",
    "    \"\"\"\n",
    "    particles.vx+=1/2 * (particles.ax1+particles.ax2)*dt\n",
    "    particles.vy+=1/2 * (particles.ay1+particles.ay2)*dt\n",
    "    pass"
   ]
  },
  {
   "cell_type": "markdown",
   "metadata": {},
   "source": [
    "* updating the acceleration"
   ]
  },
  {
   "cell_type": "code",
   "execution_count": 64,
   "metadata": {},
   "outputs": [],
   "source": [
    "### This funciton sets all the accelerations to zero\n",
    "def reset_acceleration(\n",
    "        particles: Particle\n",
    ") -> None:\n",
    "    \"\"\"\n",
    "    Sets particles.ax2 & particles.ay2 to zeros\n",
    "    \"\"\"\n",
    "    particles.ax2=np.zeros(particles.n, np.float64)\n",
    "    particles.ay2=np.zeros(particles.n, np.float64)\n",
    "    pass\n",
    "\n",
    "\n",
    "### updates acceleration for x+dt additavly, so that the superposition of the force fields get respected\n",
    "def update_accelerations(\n",
    "        particles: Particle,\n",
    "        box: tuple[float|int,float|int],    \n",
    ") -> None:\n",
    "    \"\"\"\n",
    "    Updates particle.ax2 & particle.ay2 from the particle class.\\n\n",
    "    Issues: creating force variable and relative positions x & y on the fly.\n",
    "    \"\"\"\n",
    "    reset_acceleration(particles)\n",
    "    for i in range(particles.n):\n",
    "        # relative coordinates i\n",
    "        x_rel=rel_coordiante(particles.x[i], particles.x[i+1:particles.n],box[0])  # I don't like to create list on the fly... -> add as field in the class \"Particle\" or implement functionally?\n",
    "        y_rel=rel_coordiante(particles.y[i], particles.y[i+1:particles.n],box[1])\n",
    "\n",
    "        for j in range(i+1,particles.n):\n",
    "            # calculating the acceleration j->i! \n",
    "            acceleration = 1/particles.m * lj_force(\n",
    "                distance(x_rel[j-(i+1)],y_rel[j-(i+1)]),\n",
    "                np.array([x_rel[j-(i+1)],y_rel[j-(i+1)]])\n",
    "                )  # still dont like creating variables on the fly... -> creat force field in class \"Particles\"...?\n",
    "            particles.ax2[i] += acceleration[0]  \n",
    "            particles.ay2[i] += acceleration[1]\n",
    "            particles.ax2[j] -= acceleration[0] \n",
    "            particles.ay2[j] -= acceleration[1]\n",
    "    pass\n",
    "\n"
   ]
  },
  {
   "cell_type": "markdown",
   "metadata": {},
   "source": [
    "### Simulation and main loops\n",
    "* This function contains the integration funcitons, updates forces "
   ]
  },
  {
   "cell_type": "code",
   "execution_count": 65,
   "metadata": {},
   "outputs": [],
   "source": [
    "def iterate(\n",
    "        dt: float|int,\n",
    "        particles: Particle,\n",
    "        box: tuple[float|int,float|int]\n",
    "    ) -> None:\n",
    "    \"\"\"\n",
    "    Updates positions and velocities. \\n\n",
    "    Accelerations for 1. iteration need to be obtained prior. \n",
    "    \"\"\"\n",
    "    particles.ax1=particles.ax2  # prior a(t+dt) -> a(t)\n",
    "    particles.ay1=particles.ay2\n",
    "    integrate_position(particles,dt,box)\n",
    "    update_accelerations(particles,box)\n",
    "    integrate_velocity(particles,dt)\n",
    "pass"
   ]
  },
  {
   "cell_type": "markdown",
   "metadata": {},
   "source": [
    "Next the 'main' simulation function is implemented. This iterates over all timesteps and saves the data of interest (phase space)."
   ]
  },
  {
   "cell_type": "code",
   "execution_count": 66,
   "metadata": {},
   "outputs": [],
   "source": [
    "def simulate(\n",
    "        particles: Particle, \n",
    "        time: int,\n",
    "        dt: float|int, \n",
    "        box: tuple[float|int,float|int],\n",
    "        data: NDArray[np.float64]\n",
    ") -> NDArray[np.float64]:\n",
    "    \"\"\"\n",
    "    Runs a simulation of n-particles in a box and saves phase-space coordinates to data.\\n\n",
    "    Returns data.\n",
    "    \"\"\"\n",
    "    update_accelerations(particles,box)  # initial calculation for accelerations\n",
    "    for t in range(time):  # iteration over all timestepps\n",
    "        iterate(dt,particles,box)\n",
    "\n",
    "        ### save data of interest\n",
    "        data[t,0,:]=particles.x\n",
    "        data[t,1,:]=particles.y\n",
    "        data[t,2,:]=particles.vx\n",
    "        data[t,3,:]=particles.vy\n",
    "    return data"
   ]
  },
  {
   "cell_type": "markdown",
   "metadata": {},
   "source": [
    "### Analysis\n",
    "Here functions that analyse the data will be implemented. Animation, Potential and Kinetic Energies. \n",
    "* First of funcitons for animation"
   ]
  },
  {
   "cell_type": "code",
   "execution_count": null,
   "metadata": {},
   "outputs": [],
   "source": [
    "def animate(\n",
    "        frame,\n",
    "        x_data: NDArray[np.float64],\n",
    "        y_data, scat\n",
    "    ):\n",
    "    positions = np.c_[x_data[frame, :], y_data[frame,:]]\n",
    "    scat.set_offsets(positions)\n",
    "    return scat,\n",
    "\n",
    "def animation_plot(\n",
    "    p_radius: float|int,\n",
    "    box: tuple[float|int]\n",
    "):\n",
    "    fig, ax = plt.subplots()\n",
    "    scat = ax.scatter([], [], s=p_radius)  # Scale size for visibility\n",
    "    ax.set_xlim(box[0])\n",
    "    ax.set_ylim(box[1])\n",
    "    ax.set_title(\"Simulation Visualization\")\n",
    "    ax.set_xlabel(\"X [nm]\")\n",
    "    ax.set_ylabel(\"Y [nm]\")\n",
    "    return scat, fig, ax\n",
    "\n",
    "def creat_animation(\n",
    "        animation_name: str,\n",
    "        animation_box: tuple[int,int],\n",
    "        x_data: NDArray[np.float64],\n",
    "        y_data: NDArray[np.float64]\n",
    ") -> FuncAnimation: \n",
    "    scat, fig, ax = animation_plot(10, animation_box)\n",
    "    anim = FuncAnimation(fig, animate, frames=len(x_data), fargs=(x_data, y_data, scat), interval=20, blit=True)\n",
    "    writer = FFMpegWriter(fps=36, metadata=dict(artist='Dominic Nieder'), bitrate=1800)\n",
    "    anim.save(animation_name+\".mp4\")\n",
    "    return anim\n",
    "\n"
   ]
  },
  {
   "cell_type": "markdown",
   "metadata": {},
   "source": [
    "* Analysis of the kinetic Energy: $E=\\frac{1}{2} \\Sigma_i m_i |v_i|^2$ "
   ]
  },
  {
   "cell_type": "code",
   "execution_count": 78,
   "metadata": {},
   "outputs": [],
   "source": [
    "def kinetic_Energy(\n",
    "        velocity_x_data: NDArray[np.float64],\n",
    "        velocity_y_data: NDArray[np.float64],\n",
    "        mass: float | NDArray[np.float64]\n",
    ") -> NDArray[np.float64]:  \n",
    "    \"\"\"\n",
    "    Takes velocity Data. \\n\n",
    "    Returns kinetic Energy as a funciton of time.\\n\\n\n",
    "    Issues -> handeling Summation ?\n",
    "    \"\"\"\n",
    "    return 1/2*np.sum(mass*(velocity_x_data*velocity_x_data + velocity_y_data*velocity_y_data,1))"
   ]
  },
  {
   "cell_type": "markdown",
   "metadata": {},
   "source": [
    "* Potential Energy as defined above"
   ]
  },
  {
   "cell_type": "code",
   "execution_count": null,
   "metadata": {},
   "outputs": [],
   "source": [
    "def potential_Energy(\n",
    "    position_x_data: NDArray[np.float64],\n",
    "    position_y_data: NDArray[np.float64]\n",
    ") -> NDArray[np.float64]:\n",
    "    \"\"\"\n",
    "    Takes posiiton arguments. \\n\n",
    "    Returns Total potential Energy as a funciton of time.\\n\\n\n",
    "    Issues -> Periodic boundry conditions\n",
    "    -> consider how to do summation (cd kinetic energy)\n",
    "    \"\"\"\n",
    "    e=np.zeros(len(position_x_data[0]))\n",
    "    for T in range(len(position_x_data[0])):\n",
    "        for i in range(len(position_x_data[1])):\n",
    "            dx=rel_coordiante(position_x_data[T,i],position_x_data[T,i+1:len(position_x_data[1])])\n",
    "            dy=rel_coordiante(position_y_data[T,i],position_y_data[T,i+1:len(position_y_data[1])])\n",
    "            d = map(distance,dx,dy)\n",
    "            e[T]+= np.sum(np.array(list(map(lJ_potentil,d))))\n",
    "    return e"
   ]
  },
  {
   "cell_type": "markdown",
   "metadata": {},
   "source": [
    "### Code execution\n",
    "Next I define all the variables and data list and use the simulation function with particles that shall be initialised on a grid."
   ]
  },
  {
   "cell_type": "code",
   "execution_count": null,
   "metadata": {},
   "outputs": [],
   "source": [
    "n_particles : int = 50\n",
    "spacing : float = 8/5\n",
    "paritcle_mass : float = 18  # g/mol \n",
    "velocity : float = 150 #  nm/ns\n",
    "time_steps :int = 500\n",
    "dt :float = 0.002  # ns\n",
    "box : tuple[int, int] = (5,5)\n",
    "data : NDArray[np.float64] = np.zeros((time_steps,len(box)**2,n_particles)) # (Time, len(x,y,vx,vy), N)\n",
    "\n",
    "data = simulate(\n",
    "    initialize_particles_on_grid(\n",
    "    n_particles=n_particles,\n",
    "    spacing=spacing,\n",
    "    mass=paritcle_mass,  \n",
    "    velocity=velocity,\n",
    "    add_jitter=False  \n",
    "    ),\n",
    "    time=time_steps,  # timesteps\n",
    "    dt=dt,  # ns\n",
    "    box=box,\n",
    "    data=data  # Time, phase-space pp, particles\n",
    ")\n",
    "\n",
    "mp4 = creat_animation(\"sheet02-animation1\",box, data[:,0,:],data[:,1,:])  \n",
    "HTML(mp4.to_html5_video())"
   ]
  },
  {
   "cell_type": "markdown",
   "metadata": {},
   "source": [
    "* Analysis of Energies"
   ]
  },
  {
   "cell_type": "code",
   "execution_count": null,
   "metadata": {},
   "outputs": [
    {
     "name": "stdout",
     "output_type": "stream",
     "text": [
      "[3 3]\n",
      "[1 1]\n",
      "2\n",
      "[5. 5. 5. 5. 5. 5. 5. 5. 5. 5.]\n",
      "[1. 1. 1. 1. 1. 1. 1. 1. 1. 1.]\n",
      "10\n"
     ]
    }
   ],
   "source": [
    "timestep_array=np.arange(time_steps) * dt\n",
    "e_kin = kinetic_Energy(data[:,2,:],data[:,3,:],paritcle_mass)\n",
    "e_pot = potential_Energy(data[:,0,:], data[:,1,:])\n",
    "\n",
    "\n",
    "fig, axs = plt.subplots(1, 2, sharey=True, tight_layout=True)\n",
    "axs[0].plot(time_steps, e_kin)\n",
    "axs[1].hist(time_steps, e_pot)\n",
    "plt.title(\"y-velocity distributions\")\n",
    "axs[0].set_xlabel('time [ns]')   \n",
    "axs[1].set_xlabel('time [ns]')\n",
    "axs[0].set_ylabel('Energy in [J]')  # find correct units of energy \n",
    "plt.savefig(\"sheet02-AnalysisEnergies1.png\")\n",
    "plt.close()\n",
    "\n",
    "\n"
   ]
  }
 ],
 "metadata": {
  "kernelspec": {
   "display_name": ".ccs-env",
   "language": "python",
   "name": "python3"
  },
  "language_info": {
   "codemirror_mode": {
    "name": "ipython",
    "version": 3
   },
   "file_extension": ".py",
   "mimetype": "text/x-python",
   "name": "python",
   "nbconvert_exporter": "python",
   "pygments_lexer": "ipython3",
   "version": "3.12.3"
  }
 },
 "nbformat": 4,
 "nbformat_minor": 2
}
