{
 "cells": [
  {
   "cell_type": "markdown",
   "metadata": {},
   "source": [
    "# Sheet 02\n",
    "This is the implementation of Sheet 02 of Awais Ahmed and Dominic Nieder."
   ]
  },
  {
   "cell_type": "code",
   "execution_count": null,
   "metadata": {},
   "outputs": [],
   "source": [
    "import numpy as np"
   ]
  },
  {
   "cell_type": "markdown",
   "metadata": {},
   "source": [
    "* creating \"Particle\" class, containing all the information of a particle position, velocity and interaction potential (all the object of class \"Particle\" interact by a Lennard-Jones Potential)\n",
    "* The \"Particle\" class contains all particle positions and velocities"
   ]
  },
  {
   "cell_type": "code",
   "execution_count": null,
   "metadata": {},
   "outputs": [],
   "source": [
    "class Particle:\n",
    "    def __init__(\n",
    "            self,\n",
    "            m:float|int,\n",
    "            x:np.ndarray[float|int],\n",
    "            y:np.ndarray[float|int],\n",
    "            vx:np.ndarray[float|int],\n",
    "            vy:np.ndarray[float|int]\n",
    "            ):\n",
    "        self.m:np.ndarray[float|int]=m\n",
    "        self.x:np.ndarray[float|int]=x\n",
    "        self.y:np.ndarray[float|int]=y\n",
    "        self.vx:np.ndarray[float|int]=vx\n",
    "        self.vy:np.ndarray[float|int]=vy\n",
    "        \n",
    "    def __repr__(self):\n",
    "         return(str(\"This is a particle at %0.2f, %0.2f with v=%0.2f,%0.2f interacts by Lennard Jones potential\" % (self.x,self.y,self.vx,self.vy)) )\n",
    "\n",
    "### Lennard-Jones potential & force\n",
    "def lJ_potentil(r12:float|int) -> float:\n",
    "    c_12 = 9.847044*10**(-6)\n",
    "    c_6 = 6.2647225*10**(-3)\n",
    "    return c_12/r12**12-c_6/r12**6\n",
    "\n",
    "def lj_force(r12:float|int) -> float:\n",
    "    c_12 = 9.847044*10**(-6)\n",
    "    c_6 = 6.2647225*10**(-3)\n",
    "    return (12*c_12/r12**13-6*c_12/r12**7)"
   ]
  },
  {
   "cell_type": "markdown",
   "metadata": {},
   "source": [
    "* the following functions allow for an appropriat nearest neighbour search"
   ]
  },
  {
   "cell_type": "code",
   "execution_count": null,
   "metadata": {},
   "outputs": [],
   "source": [
    "### calculating shift to S->S' of which p1'=(box[0]/2, box[1]/2)\n",
    "def system_shift(\n",
    "        x:float,\n",
    "        y:float,\n",
    "        box:tuple[float|int]\n",
    "        ) -> tuple[float]:\n",
    "    (dx,dy) = (x-box[0]/2 , y-box[1]/2)\n",
    "    return(dx,dy)\n",
    "\n",
    "### vec(p2->p1)\n",
    "def rel_koordiantes(\n",
    "        x1:float,\n",
    "        y1:float,\n",
    "        x2:float,\n",
    "        y2:float,\n",
    "        box:tuple[float|int]\n",
    "        ) -> tuple[float|int]:  \n",
    "    dx, dy = system_shift(x1,y1,box)  # S->S': S' is a box with p1' at its center\n",
    "    return(x1 +dx - (x2-dx)%box[0] , y1 +dy - (y2-dy)%box[1])\n"
   ]
  },
  {
   "cell_type": "markdown",
   "metadata": {},
   "source": [
    "The follow up code can be used to select data to analyse"
   ]
  },
  {
   "cell_type": "code",
   "execution_count": null,
   "metadata": {},
   "outputs": [],
   "source": [
    "### calculating distributions\n",
    "### |v| distribution\n",
    "def collect_vabs(vx:list[list[float|int]],vy:list[list[float|int]],interval:tuple[int]) -> list[float]:\n",
    "    v_abs=np.zeros(len(vx)+(interval[1]-interval[0]))\n",
    "    for i in range(len(vx)):\n",
    "        for j in range(interval[0],interval[1]):\n",
    "            v_abs[i+j-interval[0]]=(np.sqrt(vx[i][j]**2+vy[i][j]**2))\n",
    "    return v_abs\n",
    "\n",
    "### velocity x or y distribution\n",
    "def collect_v_1D(vx:list[float|int],interval:tuple[int]) -> list[float]:\n",
    "    l=np.zeros(len(vx)+(interval[1]-interval[0]))\n",
    "    print(len(l))\n",
    "    for i in range(len(vx)):\n",
    "        for j in range(interval[0],interval[1]):\n",
    "            l[i+j-interval[0]]=(vx[i][j])\n",
    "    return l\n"
   ]
  },
  {
   "cell_type": "markdown",
   "metadata": {},
   "source": []
  },
  {
   "cell_type": "code",
   "execution_count": null,
   "metadata": {},
   "outputs": [],
   "source": [
    "def integrate(\n",
    "        x:float,\n",
    "        y:float,\n",
    "        vx:float,\n",
    "        vy:float,\n",
    "        ax:float,\n",
    "        ay:float,\n",
    "        dt:float|int,\n",
    "        box:tuple[float|int]\n",
    "        ) -> tuple[float]:\n",
    "    dx = vx*dt+ax*dt*dt/2\n",
    "    dy = vy*dt+ay*dt*dt/2\n",
    "    return (x+dx)%box[0] , (y+dy)%box[1]\n",
    "\n",
    "\n",
    "def integrate(v,a1,a2,dt):\n",
    "    dv = 1/2 (a1+a2) *dt\n",
    "    return v+dv\n",
    "\n",
    "\n",
    "def iterate(\n",
    "        dt:float|int,\n",
    "        n:int,\n",
    "        particles:list[Particle],\n",
    "        box:tuple[float|int],\n",
    "        data:list\n",
    "        ):\n",
    "    for i in range(n):\n",
    "        ### collision\n",
    "        for j in range(i+1,n):  # iteration over all others\n",
    "            d_vec:tuple[float|int] = rel_koordiantes(particles[i],particles[j], box)  # rel. distance vector j -> i\n",
    "            d_abs = d_vec[0]**2+d_vec[1]**2  # distance squared\n",
    "            #### collision condition -> kinematics\n",
    "            if np.sqrt(d_abs) <= particles[i].r+particles[j].r and d_abs != 0:\n",
    "                d_unit:tuple[float|int] = d_vec/np.sqrt(d_abs)  # collision axis\n",
    "                dvix , dviy= -((particles[i].vx-particles[j].vx)*d_unit[0]+ (particles[i].vy-particles[j].vy)*d_unit[1]) *d_unit\n",
    "                particles[i].vx , particles[i].vy = (particles[i].vx+dvix) , ( particles[i].vy+dviy)\n",
    "                particles[j].vx , particles[j].vy = (particles[j].vx-dvix) , (particles[j].vy-dviy)\n",
    "        integrate()\n",
    "\n",
    "    return data    \n",
    "\n",
    "\n"
   ]
  },
  {
   "cell_type": "code",
   "execution_count": null,
   "metadata": {},
   "outputs": [],
   "source": [
    "def simulate(\n",
    "        particles:list[Particle], \n",
    "        n:int, \n",
    "        T:int, \n",
    "        dt:float|int, \n",
    "        box:tuple[float|int],\n",
    "        data:list\n",
    "        ):\n",
    "    position=np.zeros()\n",
    "    for t in range(T):\n",
    "        iterate(dt,n,particles,box,position, velocity)\n",
    "    return data"
   ]
  },
  {
   "cell_type": "code",
   "execution_count": null,
   "metadata": {},
   "outputs": [],
   "source": [
    "x_data=np.zeros((n,T))\n",
    "y_data=np.zeros((n,T))\n",
    "vx_data=np.zeros((n,T))\n",
    "vy_data=np.zeros((n,T))\n"
   ]
  },
  {
   "cell_type": "code",
   "execution_count": null,
   "metadata": {},
   "outputs": [],
   "source": []
  },
  {
   "cell_type": "code",
   "execution_count": null,
   "metadata": {},
   "outputs": [],
   "source": []
  }
 ],
 "metadata": {
  "kernelspec": {
   "display_name": ".ccs-env",
   "language": "python",
   "name": "python3"
  },
  "language_info": {
   "name": "python",
   "version": "3.12.3"
  }
 },
 "nbformat": 4,
 "nbformat_minor": 2
}
