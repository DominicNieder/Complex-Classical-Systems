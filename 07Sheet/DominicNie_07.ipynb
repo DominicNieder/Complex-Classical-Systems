{
 "cells": [
  {
   "cell_type": "markdown",
   "metadata": {},
   "source": [
    "# Sheet 07"
   ]
  },
  {
   "cell_type": "code",
   "execution_count": 15,
   "metadata": {},
   "outputs": [],
   "source": [
    "from numpy.typing import NDArray  # trying to be typesafe\n",
    "import numpy as np  # needed all over the place\n",
    "import scipy\n",
    "from scipy.stats import skew\n",
    "from IPython.display import HTML # in line animations\n",
    "\n",
    "import os   # file and file path\n",
    "\n",
    "from itertools import count\n",
    "import pandas as pd\n",
    "import matplotlib.pyplot as plt  # for plots\n",
    "\n",
    "from matplotlib import colors  # not quite sure what fore\n",
    "from matplotlib.ticker import PercentFormatter  # also not sure, maybe animation..?\n",
    "from matplotlib.animation import FuncAnimation, FFMpegWriter  # for animations"
   ]
  },
  {
   "cell_type": "markdown",
   "metadata": {},
   "source": [
    "##### Markov Chain - Monte Carlo  - Metropolis importance Sampling"
   ]
  },
  {
   "cell_type": "code",
   "execution_count": 16,
   "metadata": {},
   "outputs": [],
   "source": [
    "def initiate_positions_on_grid(\n",
    "            num_particles: int,\n",
    "            box: tuple [float, float],\n",
    "\n",
    "    ) -> np.ndarray:\n",
    "    \"\"\"\n",
    "    Initializes 2D positions on a Grid with even spacing.\n",
    "\n",
    "    Parameters:\n",
    "        \n",
    "        n_particles:(int)\n",
    "                -> number of particles\n",
    "        \n",
    "        box:(tuple[number,number]) \n",
    "                -> box size (in [nm])\n",
    "        \n",
    "    Return:\n",
    "        (NDArray[float, shpae=(dimension, number of particles)])\n",
    "                -> list of vectors of positons that are aranged on a grid\n",
    "    \"\"\"\n",
    "    grid_sections = int(np.ceil(np.sqrt(num_particles)))  # find the number of colums & rows\n",
    "    # even spacing\n",
    "    x_spacing = box[0]/grid_sections \n",
    "    y_spacing = box[1]/grid_sections\n",
    "    print(\"x_spacing:\",x_spacing)\n",
    "    print(\"y_spacing:\",y_spacing)\n",
    "    # makes grid coordinates\n",
    "    x, y= np.meshgrid(\n",
    "        np.arange(grid_sections) * x_spacing, \n",
    "        np.arange(grid_sections) * y_spacing\n",
    "    )        # constants\n",
    "    x= x.flatten()[:num_particles]+ x_spacing/2\n",
    "    y= y.flatten()[:num_particles]+ y_spacing/2\n",
    "    positions= np.linalg.matrix_transpose(np.array([x,y]))\n",
    "    print(\"init positions: type\",type(positions),\"size\",np.shape(positions))  \n",
    "    return positions "
   ]
  },
  {
   "cell_type": "code",
   "execution_count": 17,
   "metadata": {},
   "outputs": [],
   "source": [
    "def boundry_conditions(\n",
    "        rel_vector:np.ndarray,\n",
    "        box: tuple\n",
    ") -> np.ndarray:\n",
    "    \"\"\" Determines the position of a vector under boundry conditions.\n",
    "\n",
    "    Parameters:\n",
    "\n",
    "    Returns:\n",
    "    \"\"\"\n",
    "    for dim in range(len(box)):\n",
    "        rel_vector[dim] -= box[dim] * np.round(rel_vector[dim] / box[dim])\n",
    "    return rel_vector\n",
    "\n",
    "def relative_distnace(\n",
    "        x_1: np.ndarray, \n",
    "        x_2: np.ndarray, \n",
    "        box: tuple\n",
    "):\n",
    "    \"\"\"\n",
    "    Determines the minimum relative distance over the boundry conditions\n",
    "\n",
    "    Parameters:\n",
    "        x_1: (NDArray)\n",
    "            position Vector of Particle 1\n",
    "        x_2: (NDArray)\n",
    "            position Vector of Particle 2\n",
    "        box: (tuple[float, float])\n",
    "            simulation box side length [nm] \n",
    "    Returns: \n",
    "        rel_vector: (NDArray)\n",
    "            vector; minimal image convention\n",
    "    \"\"\"\n",
    "    rel_vector= x_1 - x_2\n",
    "    rel_vector= boundry_conditions(rel_vector=rel_vector, box=box)\n",
    "    return rel_vector \n",
    "\n"
   ]
  },
  {
   "cell_type": "code",
   "execution_count": 18,
   "metadata": {},
   "outputs": [],
   "source": [
    "def initiate_distances(\n",
    "        positions: np.ndarray,\n",
    "        box: tuple\n",
    ") -> np.ndarray:\n",
    "    \"\"\"retunrs matrix of distances (vector, scalar).\n",
    "\n",
    "    Parameters:\n",
    "        positions: (NDArray)\n",
    "            -> initial positions; array of vectors\n",
    "\n",
    "        box: (tuple)\n",
    "            -> box edge lengths (x_length, y_length)\n",
    "    \n",
    "    Return: (tuple)\n",
    "        vec_distances: (NDArray)\n",
    "            -> (n x n x dim)-matrix (n= number of particles); relative distance i -> j with periodic boundry conditions and minimum image convention\n",
    "        \n",
    "        distances: (NDArray)\n",
    "            -> (n x n)-matrix; delative distnace, norm value of vec_distances\n",
    "    \"\"\"\n",
    "    vec_distance= np.zeros((len(positions),len(positions),2))\n",
    "    print(\"shape of rel_vect=\", np.shape(vec_distance))\n",
    "    for i in range(len(positions)):\n",
    "        for j in range(i,len(positions)):\n",
    "            vec_distance[i,j,:]= relative_distnace(positions[i],positions[j], box=box)\n",
    "            vec_distance[j,i,:]= -vec_distance[i,j,:]\n",
    "    return vec_distance"
   ]
  },
  {
   "cell_type": "code",
   "execution_count": 19,
   "metadata": {},
   "outputs": [],
   "source": [
    "def montecarlo_step(shape:tuple, step_size:float) -> np.ndarray:\n",
    "    \"\"\" Determines a random direction to take a step of step_size.\n",
    "    \n",
    "    Parameters: \n",
    "\n",
    "    Return:    \n",
    "    \"\"\"\n",
    "    dx= np.random.rand(*shape)\n",
    "    dx= dx / np.linalg.norm(dx,axis=0) * step_size\n",
    "    return dx"
   ]
  },
  {
   "cell_type": "code",
   "execution_count": 20,
   "metadata": {},
   "outputs": [],
   "source": [
    "def LJ_potential(r):\n",
    "    \"\"\"Lennard-Jones interaction potential; units in kJ.\n",
    "    \"\"\"\n",
    "    return 9.847044e-6/r**12-6.2647225e-3/r**6 "
   ]
  },
  {
   "cell_type": "code",
   "execution_count": null,
   "metadata": {},
   "outputs": [],
   "source": [
    "N=25            \n",
    "B=(5,5)     # nm\n",
    "DELTA_X=0.01       # nm\n",
    "K_B=1.38e-23  # J/K\n",
    "TEMP= 293.15  # K\n",
    "ITER=100000\n",
    "\n",
    "P0 = initiate_positions_on_grid(N,B)\n",
    "r = initiate_distances(positions=P0,box=B)\n",
    "\n",
    "collect_distances=np.zeros((ITER,N,N-1))\n",
    "e=np.zeros((ITER,N))\n",
    "\n",
    "\n",
    "for iter in range(ITER):\n",
    "    dx= montecarlo_step(np.shape(P0),DELTA_X)\n",
    "    for par in range(N):\n",
    "\n",
    "        d1= np.linalg.norm(np.delete(r[par,:,:],obj=par,axis=0),axis=1)\n",
    "        e1= np.sum(LJ_potential(d1))\n",
    "\n",
    "        r2= r[par]+dx[par]\n",
    "        r2= boundry_conditions(r2,B)\n",
    "        d2= np.linalg.norm(np.delete(r2,obj=par,axis=0),axis=1)\n",
    "        e2= np.sum(LJ_potential(d2))\n",
    "\n",
    "        de= e2-e1\n",
    "        # E1>=E2 or ln P >= ln q\n",
    "        if 0>=de or -de/(K_B*TEMP) >= np.log(np.random.uniform(0,1)):\n",
    "            r[par]=r2\n",
    "            e[iter, par]= e2\n",
    "            collect_distances[iter,par]= d2\n",
    "        else:\n",
    "            e[iter, par]= e1 \n",
    "            collect_distances[iter,par]= d1\n",
    "        \n"
   ]
  },
  {
   "cell_type": "code",
   "execution_count": null,
   "metadata": {},
   "outputs": [
    {
     "data": {
      "image/png": "[encoded data removed]",
      "text/plain": [
       "<Figure size 640x480 with 1 Axes>"
      ]
     },
     "metadata": {},
     "output_type": "display_data"
    }
   ],
   "source": [
    "plt.title(\"Energies per particle step\")\n",
    "plt.plot(np.arange(ITER*N),e.flatten())\n",
    "plt.xlabel(\"particle iteration\")\n",
    "plt.ylabel(\"energy [kj]\")\n",
    "#plt.xscale(\"log\")\n",
    "#plt.yscale(\"log\")\n",
    "plt.savefig(\"MC-Energies-per-particel-iteration.png\")\n",
    "plt.show()\n",
    "plt.close()"
   ]
  },
  {
   "cell_type": "code",
   "execution_count": null,
   "metadata": {},
   "outputs": [
    {
     "data": {
      "image/png": "[encoded data removed]",
      "text/plain": [
       "<Figure size 640x480 with 1 Axes>"
      ]
     },
     "metadata": {},
     "output_type": "display_data"
    }
   ],
   "source": [
    "plt.title(\"Energy Distribution\")\n",
    "plt.hist(e.flatten()[100000:],density=True)\n",
    "plt.xlabel(\"Energy\")\n",
    "plt.ylabel(\"num. of counts\")\n",
    "plt.savefig(\"energy-histogram.png\")\n",
    "plt.show()\n",
    "plt.close()"
   ]
  },
  {
   "cell_type": "code",
   "execution_count": null,
   "metadata": {},
   "outputs": [],
   "source": []
  }
 ],
 "metadata": {
  "kernelspec": {
   "display_name": ".ccs-env",
   "language": "python",
   "name": "python3"
  },
  "language_info": {
   "codemirror_mode": {
    "name": "ipython",
    "version": 3
   },
   "file_extension": ".py",
   "mimetype": "text/x-python",
   "name": "python",
   "nbconvert_exporter": "python",
   "pygments_lexer": "ipython3",
   "version": "3.12.3"
  }
 },
 "nbformat": 4,
 "nbformat_minor": 2
}
