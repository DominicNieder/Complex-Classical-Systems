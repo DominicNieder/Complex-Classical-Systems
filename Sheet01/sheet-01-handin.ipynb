{
 "cells": [
  {
   "cell_type": "markdown",
   "metadata": {},
   "source": [
    "**Summary of functions and display/animation routines:**"
   ]
  },
  {
   "cell_type": "markdown",
   "metadata": {},
   "source": [
    "* Import external libraries:"
   ]
  },
  {
   "cell_type": "code",
   "execution_count": 1,
   "metadata": {
    "collapsed": true
   },
   "outputs": [],
   "source": [
    "import numpy as np\n",
    "import matplotlib.pyplot as plt\n",
    "\n",
    "from matplotlib import colors\n",
    "from matplotlib.ticker import PercentFormatter\n",
    "from matplotlib.animation import FuncAnimation, FFMpegWriter\n",
    "from IPython.display import HTML"
   ]
  },
  {
   "cell_type": "markdown",
   "metadata": {},
   "source": [
    "Particle calss defined, here the mass can be ignored, because p=mv, the mass is a linear scaler, m=1 [unit] -> p=1[unit]v=v[unit]"
   ]
  },
  {
   "cell_type": "code",
   "execution_count": 2,
   "metadata": {
    "collapsed": false
   },
   "outputs": [],
   "source": [
    "class Particle:\n",
    "    def __init__(self, r:float|int, x:float|int, y:float|int, vx:float|int, vy:float|int):\n",
    "        self.r:float|int=r\n",
    "        self.x:float|int=x\n",
    "        self.y:float|int=y\n",
    "        self.vx:float|int=vx\n",
    "        self.vy:float|int=vy\n",
    "        \n",
    "    def __repr__(self):\n",
    "         return(str(\"This is a particle at %0.2f, %0.2f with v=%0.2f,%0.2f\" % (self.x,self.y,self.vx,self.vy)) )\n"
   ]
  },
  {
   "cell_type": "markdown",
   "metadata": {},
   "source": [
    "Here I introduce the nearest neighbour search. system shift translates into "
   ]
  },
  {
   "cell_type": "code",
   "execution_count": 3,
   "metadata": {
    "collapsed": true
   },
   "outputs": [],
   "source": [
    "def system_shift(p1:Particle,box:tuple[float|int]) -> tuple[float|int]:\n",
    "    (dx,dy) = (p1.x-box[0]/2 , p1.y-box[1]/2)\n",
    "    return(dx,dy)\n",
    "\n",
    "### vec(p2->p1)\n",
    "def rel_koordiantes(p1:Particle,p2:Particle,box:tuple[float|int]) -> tuple[float|int]:  \n",
    "    dx, dy = system_shift(p1,box)  # S->S': S' is a box with p1' at its center\n",
    "    #  print(\"10,10=\",p1.x+dx,p1.y+dy)\n",
    "    #  print(\"p2'=\",(p2.x+dx)%box[0], (p2.y+dy)%box[1])\n",
    "    #  print(\"rel koordiantes=\", (p1.x+dx - (p2.x+dx)%box[0] , p1.y+dy - (p2.y+dy)%box[1]))\n",
    "    return(p1.x +dx - (p2.x-dx)%box[0] , p1.y +dy - (p2.y-dy)%box[1])\n"
   ]
  },
  {
   "cell_type": "markdown",
   "metadata": {},
   "source": [
    "* functions to collect data "
   ]
  },
  {
   "cell_type": "code",
   "execution_count": 4,
   "metadata": {
    "collapsed": false,
    "scrolled": true
   },
   "outputs": [],
   "source": [
    "### calculating distributions\n",
    "### |v| distribution\n",
    "def collect_vabs(vx:list[list[float|int]],vy:list[list[float|int]],interval:tuple[int]) -> list[float]:\n",
    "    v_abs=np.zeros(len(vx)+(interval[1]-interval[0]))\n",
    "    for i in range(len(vx)):\n",
    "        for j in range(interval[0],interval[1]):\n",
    "            v_abs[i+j-interval[0]]=(np.sqrt(vx[i][j]**2+vy[i][j]**2))\n",
    "    return v_abs\n",
    "\n",
    "### velocity x or y distribution\n",
    "def collect_v_1D(vx:list[float|int],interval:tuple[int]) -> list[float]:\n",
    "    l=np.zeros(len(vx)+(interval[1]-interval[0]))\n",
    "    print(len(l))\n",
    "    for i in range(len(vx)):\n",
    "        for j in range(interval[0],interval[1]):\n",
    "            l[i+j-interval[0]]=(vx[i][j])\n",
    "    return l\n",
    "\n",
    "\n",
    "### Maxwell Boltzmann distribution \n",
    "def mw_boltzmann_distri(v_intervall:tuple[float|int], T:float|int)->tuple[list[float]]: \n",
    "    v=np.linspace(v_intervall[0],v_intervall[1],200) \n",
    "    p=4*np.pi/(2*np.pi*T)**(3/2)*v**2 * np.exp(-v**2/2/T)  # k_B=1, m=1\n",
    "    return (v,p)\n"
   ]
  },
  {
   "cell_type": "markdown",
   "metadata": {},
   "source": [
    "Here are the animation functions, for these functions I asked chat gpt to help out. Though I thought it to be usefull to include the animation_plot-function."
   ]
  },
  {
   "cell_type": "code",
   "execution_count": 5,
   "metadata": {},
   "outputs": [],
   "source": [
    "def animate(frame, x_data, y_data, scat):\n",
    "    positions = np.c_[x_data[:, frame], y_data[:, frame]]\n",
    "    scat.set_offsets(positions)\n",
    "    return scat,\n",
    "def animation_plot(p_radius:float|int,box:tuple[float|int]):\n",
    "    fig, ax = plt.subplots()\n",
    "    scat = ax.scatter([], [], s=p_radius)  # Scale size for visibility\n",
    "    ax.set_xlim(box[0])\n",
    "    ax.set_ylim(box[1])\n",
    "    ax.set_title(\"Simulation Visualization\")\n",
    "    ax.set_xlabel(\"X [nm]\")\n",
    "    ax.set_ylabel(\"Y [nm]\")\n",
    "    return scat, fig, ax\n"
   ]
  },
  {
   "cell_type": "markdown",
   "metadata": {},
   "source": [
    "* This is the \"main\" function or \"run\". First all the initial variables get initiated (e.g. box, n, initial velocities, list of particles,...). \n",
    "* Then the first \"for loop\" over T (total timesteps) is the main simulation loop.\n",
    "* The second loop, looping over all particles i searches is to update all the positions according to Eulers integration sceem\n",
    "* The third loop, looping all j > i, is to determine the collisions, if they take place or not. Updating both velocities of i and j. Thus we iterate for j > i.\n",
    "\n",
    "* first the velocities get updated, then the positions get updated then the positions and velocities get saved to an array\n",
    "\n",
    "* the animation video gets saved as a \".gif\" and the plots too are saved into your folder! Please be aware!"
   ]
  },
  {
   "cell_type": "code",
   "execution_count": 6,
   "metadata": {
    "collapsed": false,
    "scrolled": true
   },
   "outputs": [
    {
     "name": "stdout",
     "output_type": "stream",
     "text": [
      "250\n",
      "250\n",
      "250\n",
      "250\n"
     ]
    },
    {
     "name": "stderr",
     "output_type": "stream",
     "text": [
      "MovieWriter ffmpeg unavailable; using Pillow instead.\n"
     ]
    },
    {
     "data": {
      "image/png": "[encoded data removed]",
      "text/plain": [
       "<Figure size 640x480 with 1 Axes>"
      ]
     },
     "metadata": {},
     "output_type": "display_data"
    },
    {
     "name": "stdout",
     "output_type": "stream",
     "text": [
      "Initiating\n",
      "n_particles=50\n",
      "timesteps=2000\n",
      "timestep=1.0\n",
      "box=(20, 20)\n",
      "Simulation complete!\n",
      "plots success\n",
      "\n"
     ]
    }
   ],
   "source": [
    "def run():\n",
    "    log=\"Initiating\\n\"\n",
    "    box:tuple[float|int]=(20,20)  # nm\n",
    "    n:int=50  # nuber of particles\n",
    "    r:float|int=1.0  # nm\n",
    "    v0:float|int=1.0   # nm/tau\n",
    "    k_B=1  # as such will noch be used to multiply\n",
    "    temp:float = v0**2/2  # temperature of a system <E_kin> =dim/2 * k_B * T\n",
    "    angles:list[float]=np.random.rand(n)*2*np.pi\n",
    "    par:list[Particle]=[Particle(\n",
    "            r,\n",
    "            np.random.randint(1,box[0]-1,1)[0],\n",
    "            np.random.randint(1,box[1]-1,1)[0],\n",
    "            v0*np.cos(angles[i]),\n",
    "            v0*np.sin(angles[i])\n",
    "            )\n",
    "        for i in range(n)]   \n",
    "\n",
    "    T:int=2000  #  total time\n",
    "    dt:float=1.0  # tau\n",
    "    log = log + \"n_particles=\" +str(n)+\"\\ntimesteps=\"+str(T)+\"\\ntimestep=\"+str(dt)+\"\\nbox=\"+str(box)+\"\\n\" \n",
    "\n",
    "    x_data=np.zeros((n,T))\n",
    "    y_data=np.zeros((n,T))\n",
    "    vx_data=np.zeros((n,T))\n",
    "    vy_data=np.zeros((n,T))\n",
    "    ### Simulation\n",
    "    for t in range(T):\n",
    "        ### iterate all particles\n",
    "        for i in range(n):\n",
    "            #  print(\"iter i=\",i)\n",
    "            ### collision\n",
    "            for j in range(i+1,n):  # iteration over all others\n",
    "                #  print(\"iter j=\", j)\n",
    "                d_vec:tuple[float|int] = rel_koordiantes(par[i],par[j], box)  # rel. distance vector j -> i\n",
    "                d_abs = d_vec[0]**2+d_vec[1]**2  # distance squared\n",
    "                #  print(\"distance vector\",d_vec[0],d_vec[1])\n",
    "                #  print(\"distance=\",d_abs)\n",
    "                #### collision condition -> kinematics\n",
    "                if np.sqrt(d_abs) <= par[i].r+par[j].r and d_abs != 0:\n",
    "                    d_unit:tuple[float|int] = d_vec/np.sqrt(d_abs)  # collision axis\n",
    "                    #  print(\"!collision!: Axis\",d_unit)\n",
    "                    dvix , dviy= -((par[i].vx-par[j].vx)*d_unit[0]+ (par[i].vy-par[j].vy)*d_unit[1]) *d_unit\n",
    "                    #  print(\"dv=\",(dvix, dviy))\n",
    "                    par[i].vx , par[i].vy = (par[i].vx+dvix) , ( par[i].vy+dviy)\n",
    "                    par[j].vx , par[j].vy = (par[j].vx-dvix) , (par[j].vy-dviy)\n",
    "            #  print(\"particle\",i ,\" velocities:\",par[i].vx,par[i].vy)\n",
    "\n",
    "            par[i].x = (par[i].x+par[i].vx*dt) % box[0] \n",
    "            par[i].y = (par[i].y+par[i].vy*dt) % box[1]\n",
    "            x_data[i][t]=par[i].x\n",
    "            y_data[i][t]=par[i].y \n",
    "            vx_data[i][t]=par[i].vx\n",
    "            vy_data[i][t]=par[i].vy\n",
    "    log=log+\"Simulation complete!\\n\"\n",
    "\n",
    "\n",
    "    ### Analysis\n",
    "    n_bins = 10\n",
    "\n",
    "    ### collect vx\n",
    "    vx1 = collect_v_1D(vx_data,(0,int(T/10)))\n",
    "    vx2 = collect_v_1D(vx_data,(T-int(T/10),T))\n",
    "    fig, axs = plt.subplots(1, 2, sharey=True, tight_layout=True)\n",
    "    axs[0].hist(vx1, bins=n_bins,density=False)\n",
    "    axs[1].hist(vx2, bins=n_bins,density=False)\n",
    "    plt.title(\"x-velocity distribution\")\n",
    "    axs[0].set_xlabel('vx [nm/tau]')\n",
    "    axs[1].set_xlabel('vx [nm/tau]')\n",
    "    axs[0].set_ylabel('p(vx)')\n",
    "    plt.savefig(\"histograms-vx\"+str(v0)+\".png\")\n",
    "    plt.close()\n",
    "\n",
    "    ### collect vy\n",
    "    vy1 = collect_v_1D(vy_data,(0,int(T/10)))\n",
    "    vy2 = collect_v_1D(vy_data,(T-int(T/10),T))\n",
    "    fig, axs = plt.subplots(1, 2, sharey=True, tight_layout=True)\n",
    "    axs[0].hist(vy1, bins=n_bins,density=False)\n",
    "    axs[1].hist(vy2, bins=n_bins,density=False)\n",
    "    plt.title(\"y-velocity distributions\")\n",
    "    axs[0].set_xlabel('vx [nm/tau]')\n",
    "    axs[1].set_xlabel('vx [nm/tau]')\n",
    "    axs[0].set_ylabel('occupanvy')\n",
    "    plt.savefig(\"histograms-vy\"+str(v0)+\".png\")\n",
    "    plt.close()\n",
    "\n",
    "    ### absolute velocities\n",
    "    v_abs1 = collect_vabs(vx_data,vy_data,(0,int(T/10)))\n",
    "    v_abs2 = collect_vabs(vx_data,vy_data,(T-int(T/10),T))\n",
    "    fig, axs = plt.subplots(1, 2, sharey=True, tight_layout=True)\n",
    "    plt.title(\"normed velocity distributions\")\n",
    "    plt.xlabel(\"|v| [nm/tau]\")\n",
    "    plt.ylabel(\"occupancy\")\n",
    "    axs[0].hist(v_abs1,n_bins,density=False)\n",
    "    axs[1].hist(v_abs2,n_bins,density=False)\n",
    "    axs[0].set_xlabel('|v| [nm/tau]')\n",
    "    axs[1].set_xlabel('|v| [nm/tau]')\n",
    "    axs[0].set_ylabel('occupancy')\n",
    "    plt.savefig(\"maxwell_boltzmann-v_abs\"+str(v0)+\".png\")\n",
    "    plt.close()\n",
    "\n",
    "    ### Maxwell Boltzmann distribution\n",
    "    mw = mw_boltzmann_distri((0.0,1.75),temp)\n",
    "    fig=plt.plot(mw[0],mw[1])\n",
    "    plt.title(\"Maxwell Boltzmann distribution\")\n",
    "    plt.xlabel(\"|v| [nm/tau]\")\n",
    "    plt.ylabel(\"p(|x|)\")    \n",
    "    plt.grid()\n",
    "    # creating histogram & maxwell-Boltzmann distribution\n",
    "    plt.savefig(\"maxwell_boltzmannTheory\"+str(v0)+\".png\")\n",
    "    plt.close()\n",
    "    log=log+\"plots success\\n\"\n",
    "    \n",
    "    ### Animation\n",
    "    scat, fig, ax = animation_plot(par[0].r*10, box)\n",
    "    anim = FuncAnimation(fig, animate, frames=T, fargs=(x_data, y_data, scat), interval=50, blit=True)\n",
    "    writer = FFMpegWriter(fps=10, metadata=dict(artist='Dominic Nieder'), bitrate=1800)\n",
    "    anim.save(\"simulation2.gif\")\n",
    "    plt.show()\n",
    "    return log, anim\n",
    "\n",
    "log, anim = run()"
   ]
  },
  {
   "cell_type": "markdown",
   "metadata": {},
   "source": [
    "I am not sure if this inline animation is compatible with how I thought of it. If the video does not work, here is a link to my git hub, where you can find a video!\n",
    "https://github.com/DominicNieder/Complex-Classical-Systems"
   ]
  },
  {
   "cell_type": "code",
   "execution_count": 7,
   "metadata": {
    "collapsed": false
   },
   "outputs": [
    {
     "ename": "NameError",
     "evalue": "name 'HTML' is not defined",
     "output_type": "error",
     "traceback": [
      "\u001b[0;31m---------------------------------------------------------------------------\u001b[0m",
      "\u001b[0;31mNameError\u001b[0m                                 Traceback (most recent call last)",
      "Cell \u001b[0;32mIn[7], line 1\u001b[0m\n\u001b[0;32m----> 1\u001b[0m \u001b[43mHTML\u001b[49m(anim\u001b[38;5;241m.\u001b[39mto_html5_video())\n",
      "\u001b[0;31mNameError\u001b[0m: name 'HTML' is not defined"
     ]
    }
   ],
   "source": [
    "HTML(anim.to_html5_video())"
   ]
  },
  {
   "cell_type": "markdown",
   "metadata": {
    "collapsed": true
   },
   "source": [
    "**Histogramming:**"
   ]
  },
  {
   "cell_type": "code",
   "execution_count": 20,
   "metadata": {
    "collapsed": false
   },
   "outputs": [
    {
     "data": {
      "image/png": "[encoded data removed]",
      "text/plain": [
       "<matplotlib.figure.Figure at 0x10f92e5f8>"
      ]
     },
     "metadata": {},
     "output_type": "display_data"
    }
   ],
   "source": []
  },
  {
   "cell_type": "code",
   "execution_count": 410,
   "metadata": {
    "collapsed": false
   },
   "outputs": [
    {
     "data": {
      "image/png": "[encoded data removed]",
      "text/plain": [
       "<matplotlib.figure.Figure at 0x1199cbf28>"
      ]
     },
     "metadata": {},
     "output_type": "display_data"
    }
   ],
   "source": []
  },
  {
   "cell_type": "markdown",
   "metadata": {},
   "source": [
    "* 2D histogramming:"
   ]
  },
  {
   "cell_type": "code",
   "execution_count": 411,
   "metadata": {
    "collapsed": false,
    "scrolled": true
   },
   "outputs": [
    {
     "data": {
      "image/png": "[encoded data removed]",
      "text/plain": [
       "<matplotlib.figure.Figure at 0x11962e7f0>"
      ]
     },
     "metadata": {},
     "output_type": "display_data"
    }
   ],
   "source": []
  },
  {
   "cell_type": "code",
   "execution_count": null,
   "metadata": {
    "collapsed": true
   },
   "outputs": [],
   "source": []
  }
 ],
 "metadata": {
  "kernelspec": {
   "display_name": ".ccs-env",
   "language": "python",
   "name": "python3"
  },
  "language_info": {
   "codemirror_mode": {
    "name": "ipython",
    "version": 3
   },
   "file_extension": ".py",
   "mimetype": "text/x-python",
   "name": "python",
   "nbconvert_exporter": "python",
   "pygments_lexer": "ipython3",
   "version": "3.12.3"
  }
 },
 "nbformat": 4,
 "nbformat_minor": 2
}
